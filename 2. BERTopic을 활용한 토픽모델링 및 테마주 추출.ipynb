{
 "cells": [
  {
   "cell_type": "markdown",
   "id": "51712461",
   "metadata": {
    "id": "51712461"
   },
   "source": [
    "# 4. BERTopic을 이용한 8월 CNBC기사 토픽모델링\n",
    "- CNBC 경제 뉴스 사이트에서 최근 인기 있는 기사 토픽을 파악하고자 함.\n",
    "- 대회 시작 당시 9월 초였기에 '최근'의 기준을 8월 1달로 한정함."
   ]
  },
  {
   "cell_type": "code",
   "execution_count": null,
   "id": "512ce343-c7eb-49fc-9f16-15af7e4cbb49",
   "metadata": {},
   "outputs": [],
   "source": [
    "!pip install bertopic"
   ]
  },
  {
   "cell_type": "code",
   "execution_count": null,
   "id": "b9e8a7fc-fcfe-425c-9c74-f3047e71a4ce",
   "metadata": {},
   "outputs": [],
   "source": [
    "#전처리 패키지\n",
    "import pandas as pd\n",
    "import numpy as np\n",
    "from datetime import datetime\n",
    "import re\n",
    "import spacy\n",
    "import matplotlib.pyplot as plt\n",
    "import seaborn as sns\n",
    "from tqdm import tqdm\n",
    "\n",
    "#토픽 모델링 패키지\n",
    "from bertopic import BERTopic\n",
    "from sentence_transformers import SentenceTransformer\n",
    "from umap import UMAP\n",
    "import hdbscan\n",
    "import sklearn\n",
    "from sklearn.feature_extraction.text import TfidfVectorizer\n",
    "from bertopic.representation import MaximalMarginalRelevance\n",
    "\n",
    "#interactive plot 시각화\n",
    "import plotly.express as px\n",
    "\n",
    "import plotly.io as pio\n",
    "pio.renderers.default = \"notebook_connected\""
   ]
  },
  {
   "cell_type": "code",
   "execution_count": 97,
   "id": "0584623a-135e-425b-9fb4-6339163ded27",
   "metadata": {},
   "outputs": [
    {
     "name": "stdout",
     "output_type": "stream",
     "text": [
      "BERTopic = 0.15.0\n"
     ]
    }
   ],
   "source": [
    "import bertopic\n",
    "\n",
    "try:\n",
    "    version = SentenceTransformer.__version__\n",
    "except AttributeError:\n",
    "    try:\n",
    "        from importlib.metadata import version\n",
    "        version = version('bertopic')\n",
    "    except ImportError:\n",
    "        version = \"버전을 확인할 수 없음\""
   ]
  },
  {
   "cell_type": "code",
   "execution_count": 87,
   "id": "c984780f-a439-4e95-8c04-092eaa098991",
   "metadata": {},
   "outputs": [
    {
     "name": "stdout",
     "output_type": "stream",
     "text": [
      "Python = 3.11.4 (main, Jul  5 2023, 08:54:11) [Clang 14.0.6 ]\n"
     ]
    }
   ],
   "source": [
    "import sys\n",
    "\n",
    "print('Python =', sys.version)\n"
   ]
  },
  {
   "cell_type": "code",
   "execution_count": 94,
   "id": "c47e3090-aaea-4050-bee9-352a397d86b6",
   "metadata": {},
   "outputs": [
    {
     "name": "stdout",
     "output_type": "stream",
     "text": [
      "pandas =  1.5.3\n",
      "numpy =  1.24.3\n",
      "re =  2.2.1\n",
      "spacy =  3.7.0\n",
      "sklearn =  1.3.0\n",
      "BERTopic = 0.15.0\n",
      "Python = 3.11.4 (main, Jul  5 2023, 08:54:11) [Clang 14.0.6 ]\n"
     ]
    }
   ],
   "source": [
    "#전체 패키지 버전\n",
    "print('pandas = ',pd.__version__)\n",
    "print('numpy = ',np.__version__)\n",
    "print('re = ',re.__version__)\n",
    "print('spacy = ',spacy.__version__)\n",
    "print('sklearn = ', sklearn.__version__)\n",
    "print('BERTopic =', version)\n",
    "print('Python =', sys.version)"
   ]
  },
  {
   "cell_type": "markdown",
   "id": "6832f234-0858-4d71-8391-3e6cc5f74e72",
   "metadata": {},
   "source": [
    "## 데이터 준비"
   ]
  },
  {
   "cell_type": "code",
   "execution_count": 8,
   "id": "6dca471a-0469-48cd-947b-3cee6ffcf412",
   "metadata": {},
   "outputs": [
    {
     "data": {
      "text/html": [
       "<div>\n",
       "<style scoped>\n",
       "    .dataframe tbody tr th:only-of-type {\n",
       "        vertical-align: middle;\n",
       "    }\n",
       "\n",
       "    .dataframe tbody tr th {\n",
       "        vertical-align: top;\n",
       "    }\n",
       "\n",
       "    .dataframe thead th {\n",
       "        text-align: right;\n",
       "    }\n",
       "</style>\n",
       "<table border=\"1\" class=\"dataframe\">\n",
       "  <thead>\n",
       "    <tr style=\"text-align: right;\">\n",
       "      <th></th>\n",
       "      <th>title</th>\n",
       "      <th>date</th>\n",
       "      <th>category</th>\n",
       "      <th>key_points</th>\n",
       "      <th>text</th>\n",
       "      <th>url</th>\n",
       "    </tr>\n",
       "  </thead>\n",
       "  <tbody>\n",
       "    <tr>\n",
       "      <th>0</th>\n",
       "      <td>‘I work just 5 hours a week': A 39-year-old wh...</td>\n",
       "      <td>2023-01-01</td>\n",
       "      <td>Success</td>\n",
       "      <td>NaN</td>\n",
       "      <td>Graham Cochrane, Founder of The Recording Revo...</td>\n",
       "      <td>https://www.cnbc.com/2023/01/01/39-year-old-wh...</td>\n",
       "    </tr>\n",
       "    <tr>\n",
       "      <th>1</th>\n",
       "      <td>Chinese state media seek to reassure public ov...</td>\n",
       "      <td>2023-01-01</td>\n",
       "      <td>Asia-Pacific News</td>\n",
       "      <td>Chinese state media sought to reassure the pub...</td>\n",
       "      <td>Revelers prepare to release balloons to celebr...</td>\n",
       "      <td>https://www.cnbc.com/2023/01/01/chinese-state-...</td>\n",
       "    </tr>\n",
       "    <tr>\n",
       "      <th>2</th>\n",
       "      <td>Should you get creative with your resume? Expe...</td>\n",
       "      <td>2023-01-01</td>\n",
       "      <td>Land the Job</td>\n",
       "      <td>NaN</td>\n",
       "      <td>Mature businessman congratulating young profes...</td>\n",
       "      <td>https://www.cnbc.com/2023/01/01/cv-will-a-crea...</td>\n",
       "    </tr>\n",
       "    <tr>\n",
       "      <th>3</th>\n",
       "      <td>Market misery deals sovereign wealth funds his...</td>\n",
       "      <td>2023-01-01</td>\n",
       "      <td>Markets</td>\n",
       "      <td>Heavy falls in stock and bond markets over the...</td>\n",
       "      <td>A trader works on the floor of the New York St...</td>\n",
       "      <td>https://www.cnbc.com/2023/01/01/market-misery-...</td>\n",
       "    </tr>\n",
       "    <tr>\n",
       "      <th>4</th>\n",
       "      <td>More social media regulation is coming in 2023...</td>\n",
       "      <td>2023-01-01</td>\n",
       "      <td>Tech</td>\n",
       "      <td>Days after Congress passed a bipartisan spendi...</td>\n",
       "      <td>The U.K.'s Online Safety Bill, which aims to r...</td>\n",
       "      <td>https://www.cnbc.com/2023/01/01/more-social-me...</td>\n",
       "    </tr>\n",
       "    <tr>\n",
       "      <th>...</th>\n",
       "      <td>...</td>\n",
       "      <td>...</td>\n",
       "      <td>...</td>\n",
       "      <td>...</td>\n",
       "      <td>...</td>\n",
       "      <td>...</td>\n",
       "    </tr>\n",
       "    <tr>\n",
       "      <th>5628</th>\n",
       "      <td>63% of workers unable to pay a $500 emergency ...</td>\n",
       "      <td>2023-08-31</td>\n",
       "      <td>Personal Finance</td>\n",
       "      <td>Workers are reporting financial stress amid hi...</td>\n",
       "      <td>A shopper makes their way through a grocery st...</td>\n",
       "      <td>https://www.cnbc.com/2023/08/31/63percent-of-w...</td>\n",
       "    </tr>\n",
       "    <tr>\n",
       "      <th>5629</th>\n",
       "      <td>This 22-year-old earns $194,000 at Google and ...</td>\n",
       "      <td>2023-08-31</td>\n",
       "      <td>Millennial Money</td>\n",
       "      <td>NaN</td>\n",
       "      <td>This story is part of CNBC Make It's Millennia...</td>\n",
       "      <td>https://www.cnbc.com/2023/08/31/22-year-old-ea...</td>\n",
       "    </tr>\n",
       "    <tr>\n",
       "      <th>5630</th>\n",
       "      <td>China's factory activity shrinks for a fifth s...</td>\n",
       "      <td>2023-08-31</td>\n",
       "      <td>China Economy</td>\n",
       "      <td>The official manufacturing purchasing managers...</td>\n",
       "      <td>People walk through a gate in the Forbidden Ci...</td>\n",
       "      <td>https://www.cnbc.com/2023/08/31/china-economy-...</td>\n",
       "    </tr>\n",
       "    <tr>\n",
       "      <th>5631</th>\n",
       "      <td>Southeast Asia's first high-speed train – a bo...</td>\n",
       "      <td>2023-08-31</td>\n",
       "      <td>Access ASEAN</td>\n",
       "      <td>A 142-kilometre rail line linking Jakarta with...</td>\n",
       "      <td>Indonesia is starting trial runs for its first...</td>\n",
       "      <td>https://www.cnbc.com/2023/08/31/indonesias-chi...</td>\n",
       "    </tr>\n",
       "    <tr>\n",
       "      <th>5632</th>\n",
       "      <td>Global growth is set to slow — but there are '...</td>\n",
       "      <td>2023-09-01</td>\n",
       "      <td>Asia Economy</td>\n",
       "      <td>A global slowdown in growth and stickier infla...</td>\n",
       "      <td>An aerial view shows the Central Bank of India...</td>\n",
       "      <td>https://www.cnbc.com/2023/09/01/global-growth-...</td>\n",
       "    </tr>\n",
       "  </tbody>\n",
       "</table>\n",
       "<p>5633 rows × 6 columns</p>\n",
       "</div>"
      ],
      "text/plain": [
       "                                                  title        date  \\\n",
       "0     ‘I work just 5 hours a week': A 39-year-old wh...  2023-01-01   \n",
       "1     Chinese state media seek to reassure public ov...  2023-01-01   \n",
       "2     Should you get creative with your resume? Expe...  2023-01-01   \n",
       "3     Market misery deals sovereign wealth funds his...  2023-01-01   \n",
       "4     More social media regulation is coming in 2023...  2023-01-01   \n",
       "...                                                 ...         ...   \n",
       "5628  63% of workers unable to pay a $500 emergency ...  2023-08-31   \n",
       "5629  This 22-year-old earns $194,000 at Google and ...  2023-08-31   \n",
       "5630  China's factory activity shrinks for a fifth s...  2023-08-31   \n",
       "5631  Southeast Asia's first high-speed train – a bo...  2023-08-31   \n",
       "5632  Global growth is set to slow — but there are '...  2023-09-01   \n",
       "\n",
       "               category                                         key_points  \\\n",
       "0               Success                                                NaN   \n",
       "1     Asia-Pacific News  Chinese state media sought to reassure the pub...   \n",
       "2          Land the Job                                                NaN   \n",
       "3               Markets  Heavy falls in stock and bond markets over the...   \n",
       "4                  Tech  Days after Congress passed a bipartisan spendi...   \n",
       "...                 ...                                                ...   \n",
       "5628   Personal Finance  Workers are reporting financial stress amid hi...   \n",
       "5629   Millennial Money                                                NaN   \n",
       "5630      China Economy  The official manufacturing purchasing managers...   \n",
       "5631       Access ASEAN  A 142-kilometre rail line linking Jakarta with...   \n",
       "5632       Asia Economy  A global slowdown in growth and stickier infla...   \n",
       "\n",
       "                                                   text  \\\n",
       "0     Graham Cochrane, Founder of The Recording Revo...   \n",
       "1     Revelers prepare to release balloons to celebr...   \n",
       "2     Mature businessman congratulating young profes...   \n",
       "3     A trader works on the floor of the New York St...   \n",
       "4     The U.K.'s Online Safety Bill, which aims to r...   \n",
       "...                                                 ...   \n",
       "5628  A shopper makes their way through a grocery st...   \n",
       "5629  This story is part of CNBC Make It's Millennia...   \n",
       "5630  People walk through a gate in the Forbidden Ci...   \n",
       "5631  Indonesia is starting trial runs for its first...   \n",
       "5632  An aerial view shows the Central Bank of India...   \n",
       "\n",
       "                                                    url  \n",
       "0     https://www.cnbc.com/2023/01/01/39-year-old-wh...  \n",
       "1     https://www.cnbc.com/2023/01/01/chinese-state-...  \n",
       "2     https://www.cnbc.com/2023/01/01/cv-will-a-crea...  \n",
       "3     https://www.cnbc.com/2023/01/01/market-misery-...  \n",
       "4     https://www.cnbc.com/2023/01/01/more-social-me...  \n",
       "...                                                 ...  \n",
       "5628  https://www.cnbc.com/2023/08/31/63percent-of-w...  \n",
       "5629  https://www.cnbc.com/2023/08/31/22-year-old-ea...  \n",
       "5630  https://www.cnbc.com/2023/08/31/china-economy-...  \n",
       "5631  https://www.cnbc.com/2023/08/31/indonesias-chi...  \n",
       "5632  https://www.cnbc.com/2023/09/01/global-growth-...  \n",
       "\n",
       "[5633 rows x 6 columns]"
      ]
     },
     "execution_count": 8,
     "metadata": {},
     "output_type": "execute_result"
    }
   ],
   "source": [
    "df = pd.read_csv('NHIS_BDC_2023/Round1/cnbc_newsdata_final.csv')\n",
    "df"
   ]
  },
  {
   "cell_type": "code",
   "execution_count": 96,
   "id": "6cadc01b",
   "metadata": {
    "colab": {
     "base_uri": "https://localhost:8080/"
    },
    "id": "6cadc01b",
    "outputId": "c9ea774c-3312-4dbe-dbe0-95137bf03871"
   },
   "outputs": [
    {
     "name": "stdout",
     "output_type": "stream",
     "text": [
      "<class 'pandas.core.frame.DataFrame'>\n",
      "RangeIndex: 5633 entries, 0 to 5632\n",
      "Data columns (total 6 columns):\n",
      " #   Column      Non-Null Count  Dtype         \n",
      "---  ------      --------------  -----         \n",
      " 0   title       5633 non-null   object        \n",
      " 1   date        5633 non-null   datetime64[ns]\n",
      " 2   category    5633 non-null   object        \n",
      " 3   key_points  5633 non-null   object        \n",
      " 4   text        5633 non-null   object        \n",
      " 5   url         5633 non-null   object        \n",
      "dtypes: datetime64[ns](1), object(5)\n",
      "memory usage: 264.2+ KB\n"
     ]
    }
   ],
   "source": [
    "df.info()"
   ]
  },
  {
   "cell_type": "code",
   "execution_count": 97,
   "id": "43b372c7",
   "metadata": {
    "colab": {
     "base_uri": "https://localhost:8080/"
    },
    "id": "43b372c7",
    "outputId": "e19005cb-474b-48a0-cd02-5ec84234e897"
   },
   "outputs": [
    {
     "data": {
      "text/plain": [
       "(5632, 6)"
      ]
     },
     "execution_count": 97,
     "metadata": {},
     "output_type": "execute_result"
    }
   ],
   "source": [
    "#잘못 크롤링된 9월 데이터 제거\n",
    "df = df[df['date'].dt.strftime('%Y-%m') != '2023-09']\n",
    "df.shape"
   ]
  },
  {
   "cell_type": "markdown",
   "id": "63391557",
   "metadata": {
    "id": "63391557"
   },
   "source": [
    "## 카테고리 값 중 월별로 5회 미만 언급된 기사 drop\n",
    "- 월에 5번도 언급되지 않은 카테고리는 주가 분석에 있어 중요하지 않은 기사라고 판단해 삭제함."
   ]
  },
  {
   "cell_type": "code",
   "execution_count": 98,
   "id": "2035b673",
   "metadata": {
    "colab": {
     "base_uri": "https://localhost:8080/",
     "height": 1000
    },
    "id": "2035b673",
    "outputId": "5c209efd-19f6-406b-bad9-383fce475db8"
   },
   "outputs": [
    {
     "data": {
      "text/html": [
       "\n",
       "  <div id=\"df-686dfef0-0886-4f43-ba22-049faa17c735\" class=\"colab-df-container\">\n",
       "    <div>\n",
       "<style scoped>\n",
       "    .dataframe tbody tr th:only-of-type {\n",
       "        vertical-align: middle;\n",
       "    }\n",
       "\n",
       "    .dataframe tbody tr th {\n",
       "        vertical-align: top;\n",
       "    }\n",
       "\n",
       "    .dataframe thead th {\n",
       "        text-align: right;\n",
       "    }\n",
       "</style>\n",
       "<table border=\"1\" class=\"dataframe\">\n",
       "  <thead>\n",
       "    <tr style=\"text-align: right;\">\n",
       "      <th></th>\n",
       "      <th>title</th>\n",
       "      <th>date</th>\n",
       "      <th>category</th>\n",
       "      <th>key_points</th>\n",
       "      <th>text</th>\n",
       "      <th>url</th>\n",
       "      <th>month</th>\n",
       "    </tr>\n",
       "  </thead>\n",
       "  <tbody>\n",
       "    <tr>\n",
       "      <th>0</th>\n",
       "      <td>‘I work just 5 hours a week': A 39-year-old wh...</td>\n",
       "      <td>2023-01-01</td>\n",
       "      <td>Success</td>\n",
       "      <td>N/A</td>\n",
       "      <td>Graham Cochrane, Founder of The Recording Revo...</td>\n",
       "      <td>https://www.cnbc.com/2023/01/01/39-year-old-wh...</td>\n",
       "      <td>1</td>\n",
       "    </tr>\n",
       "    <tr>\n",
       "      <th>1</th>\n",
       "      <td>Chinese state media seek to reassure public ov...</td>\n",
       "      <td>2023-01-01</td>\n",
       "      <td>Asia-Pacific News</td>\n",
       "      <td>Chinese state media sought to reassure the pub...</td>\n",
       "      <td>Revelers prepare to release balloons to celebr...</td>\n",
       "      <td>https://www.cnbc.com/2023/01/01/chinese-state-...</td>\n",
       "      <td>1</td>\n",
       "    </tr>\n",
       "    <tr>\n",
       "      <th>2</th>\n",
       "      <td>Should you get creative with your resume? Expe...</td>\n",
       "      <td>2023-01-01</td>\n",
       "      <td>Land the Job</td>\n",
       "      <td>N/A</td>\n",
       "      <td>Mature businessman congratulating young profes...</td>\n",
       "      <td>https://www.cnbc.com/2023/01/01/cv-will-a-crea...</td>\n",
       "      <td>1</td>\n",
       "    </tr>\n",
       "    <tr>\n",
       "      <th>3</th>\n",
       "      <td>Market misery deals sovereign wealth funds his...</td>\n",
       "      <td>2023-01-01</td>\n",
       "      <td>Markets</td>\n",
       "      <td>Heavy falls in stock and bond markets over the...</td>\n",
       "      <td>A trader works on the floor of the New York St...</td>\n",
       "      <td>https://www.cnbc.com/2023/01/01/market-misery-...</td>\n",
       "      <td>1</td>\n",
       "    </tr>\n",
       "    <tr>\n",
       "      <th>4</th>\n",
       "      <td>More social media regulation is coming in 2023...</td>\n",
       "      <td>2023-01-01</td>\n",
       "      <td>Tech</td>\n",
       "      <td>Days after Congress passed a bipartisan spendi...</td>\n",
       "      <td>The U.K.'s Online Safety Bill, which aims to r...</td>\n",
       "      <td>https://www.cnbc.com/2023/01/01/more-social-me...</td>\n",
       "      <td>1</td>\n",
       "    </tr>\n",
       "    <tr>\n",
       "      <th>...</th>\n",
       "      <td>...</td>\n",
       "      <td>...</td>\n",
       "      <td>...</td>\n",
       "      <td>...</td>\n",
       "      <td>...</td>\n",
       "      <td>...</td>\n",
       "      <td>...</td>\n",
       "    </tr>\n",
       "    <tr>\n",
       "      <th>5625</th>\n",
       "      <td>Biden says he will visit Florida this weekend ...</td>\n",
       "      <td>2023-08-31</td>\n",
       "      <td>Politics</td>\n",
       "      <td>President Joe Biden said he would be traveling...</td>\n",
       "      <td>WASHINGTON — President Joe Biden made a surpri...</td>\n",
       "      <td>https://www.cnbc.com/2023/08/31/biden-says-he-...</td>\n",
       "      <td>8</td>\n",
       "    </tr>\n",
       "    <tr>\n",
       "      <th>5626</th>\n",
       "      <td>Baidu's Ernie bot jumps to the top of Apple's ...</td>\n",
       "      <td>2023-08-31</td>\n",
       "      <td>Tech</td>\n",
       "      <td>Chinese tech giant Baidu announced Thursday it...</td>\n",
       "      <td>Pictured here is the Ernie bot mobile interfac...</td>\n",
       "      <td>https://www.cnbc.com/2023/08/31/baidu-gets-chi...</td>\n",
       "      <td>8</td>\n",
       "    </tr>\n",
       "    <tr>\n",
       "      <th>5627</th>\n",
       "      <td>Apple reportedly tests 3D printing to manufact...</td>\n",
       "      <td>2023-08-31</td>\n",
       "      <td>Tech</td>\n",
       "      <td>Apple is reportedly testing using 3D printing ...</td>\n",
       "      <td>Apple is testing the use of 3D printers to mak...</td>\n",
       "      <td>https://www.cnbc.com/2023/08/31/apple-is-testi...</td>\n",
       "      <td>8</td>\n",
       "    </tr>\n",
       "    <tr>\n",
       "      <th>5628</th>\n",
       "      <td>63% of workers unable to pay a $500 emergency ...</td>\n",
       "      <td>2023-08-31</td>\n",
       "      <td>Personal Finance</td>\n",
       "      <td>Workers are reporting financial stress amid hi...</td>\n",
       "      <td>A shopper makes their way through a grocery st...</td>\n",
       "      <td>https://www.cnbc.com/2023/08/31/63percent-of-w...</td>\n",
       "      <td>8</td>\n",
       "    </tr>\n",
       "    <tr>\n",
       "      <th>5630</th>\n",
       "      <td>China's factory activity shrinks for a fifth s...</td>\n",
       "      <td>2023-08-31</td>\n",
       "      <td>China Economy</td>\n",
       "      <td>The official manufacturing purchasing managers...</td>\n",
       "      <td>People walk through a gate in the Forbidden Ci...</td>\n",
       "      <td>https://www.cnbc.com/2023/08/31/china-economy-...</td>\n",
       "      <td>8</td>\n",
       "    </tr>\n",
       "  </tbody>\n",
       "</table>\n",
       "<p>5089 rows × 7 columns</p>\n",
       "</div>\n",
       "    <div class=\"colab-df-buttons\">\n",
       "\n",
       "  <div class=\"colab-df-container\">\n",
       "    <button class=\"colab-df-convert\" onclick=\"convertToInteractive('df-686dfef0-0886-4f43-ba22-049faa17c735')\"\n",
       "            title=\"Convert this dataframe to an interactive table.\"\n",
       "            style=\"display:none;\">\n",
       "\n",
       "  <svg xmlns=\"http://www.w3.org/2000/svg\" height=\"24px\" viewBox=\"0 -960 960 960\">\n",
       "    <path d=\"M120-120v-720h720v720H120Zm60-500h600v-160H180v160Zm220 220h160v-160H400v160Zm0 220h160v-160H400v160ZM180-400h160v-160H180v160Zm440 0h160v-160H620v160ZM180-180h160v-160H180v160Zm440 0h160v-160H620v160Z\"/>\n",
       "  </svg>\n",
       "    </button>\n",
       "\n",
       "  <style>\n",
       "    .colab-df-container {\n",
       "      display:flex;\n",
       "      gap: 12px;\n",
       "    }\n",
       "\n",
       "    .colab-df-convert {\n",
       "      background-color: #E8F0FE;\n",
       "      border: none;\n",
       "      border-radius: 50%;\n",
       "      cursor: pointer;\n",
       "      display: none;\n",
       "      fill: #1967D2;\n",
       "      height: 32px;\n",
       "      padding: 0 0 0 0;\n",
       "      width: 32px;\n",
       "    }\n",
       "\n",
       "    .colab-df-convert:hover {\n",
       "      background-color: #E2EBFA;\n",
       "      box-shadow: 0px 1px 2px rgba(60, 64, 67, 0.3), 0px 1px 3px 1px rgba(60, 64, 67, 0.15);\n",
       "      fill: #174EA6;\n",
       "    }\n",
       "\n",
       "    .colab-df-buttons div {\n",
       "      margin-bottom: 4px;\n",
       "    }\n",
       "\n",
       "    [theme=dark] .colab-df-convert {\n",
       "      background-color: #3B4455;\n",
       "      fill: #D2E3FC;\n",
       "    }\n",
       "\n",
       "    [theme=dark] .colab-df-convert:hover {\n",
       "      background-color: #434B5C;\n",
       "      box-shadow: 0px 1px 3px 1px rgba(0, 0, 0, 0.15);\n",
       "      filter: drop-shadow(0px 1px 2px rgba(0, 0, 0, 0.3));\n",
       "      fill: #FFFFFF;\n",
       "    }\n",
       "  </style>\n",
       "\n",
       "    <script>\n",
       "      const buttonEl =\n",
       "        document.querySelector('#df-686dfef0-0886-4f43-ba22-049faa17c735 button.colab-df-convert');\n",
       "      buttonEl.style.display =\n",
       "        google.colab.kernel.accessAllowed ? 'block' : 'none';\n",
       "\n",
       "      async function convertToInteractive(key) {\n",
       "        const element = document.querySelector('#df-686dfef0-0886-4f43-ba22-049faa17c735');\n",
       "        const dataTable =\n",
       "          await google.colab.kernel.invokeFunction('convertToInteractive',\n",
       "                                                    [key], {});\n",
       "        if (!dataTable) return;\n",
       "\n",
       "        const docLinkHtml = 'Like what you see? Visit the ' +\n",
       "          '<a target=\"_blank\" href=https://colab.research.google.com/notebooks/data_table.ipynb>data table notebook</a>'\n",
       "          + ' to learn more about interactive tables.';\n",
       "        element.innerHTML = '';\n",
       "        dataTable['output_type'] = 'display_data';\n",
       "        await google.colab.output.renderOutput(dataTable, element);\n",
       "        const docLink = document.createElement('div');\n",
       "        docLink.innerHTML = docLinkHtml;\n",
       "        element.appendChild(docLink);\n",
       "      }\n",
       "    </script>\n",
       "  </div>\n",
       "\n",
       "\n",
       "<div id=\"df-b7a3b9d2-defb-4192-ada5-5a9204850cfb\">\n",
       "  <button class=\"colab-df-quickchart\" onclick=\"quickchart('df-b7a3b9d2-defb-4192-ada5-5a9204850cfb')\"\n",
       "            title=\"Suggest charts.\"\n",
       "            style=\"display:none;\">\n",
       "\n",
       "<svg xmlns=\"http://www.w3.org/2000/svg\" height=\"24px\"viewBox=\"0 0 24 24\"\n",
       "     width=\"24px\">\n",
       "    <g>\n",
       "        <path d=\"M19 3H5c-1.1 0-2 .9-2 2v14c0 1.1.9 2 2 2h14c1.1 0 2-.9 2-2V5c0-1.1-.9-2-2-2zM9 17H7v-7h2v7zm4 0h-2V7h2v10zm4 0h-2v-4h2v4z\"/>\n",
       "    </g>\n",
       "</svg>\n",
       "  </button>\n",
       "\n",
       "<style>\n",
       "  .colab-df-quickchart {\n",
       "      --bg-color: #E8F0FE;\n",
       "      --fill-color: #1967D2;\n",
       "      --hover-bg-color: #E2EBFA;\n",
       "      --hover-fill-color: #174EA6;\n",
       "      --disabled-fill-color: #AAA;\n",
       "      --disabled-bg-color: #DDD;\n",
       "  }\n",
       "\n",
       "  [theme=dark] .colab-df-quickchart {\n",
       "      --bg-color: #3B4455;\n",
       "      --fill-color: #D2E3FC;\n",
       "      --hover-bg-color: #434B5C;\n",
       "      --hover-fill-color: #FFFFFF;\n",
       "      --disabled-bg-color: #3B4455;\n",
       "      --disabled-fill-color: #666;\n",
       "  }\n",
       "\n",
       "  .colab-df-quickchart {\n",
       "    background-color: var(--bg-color);\n",
       "    border: none;\n",
       "    border-radius: 50%;\n",
       "    cursor: pointer;\n",
       "    display: none;\n",
       "    fill: var(--fill-color);\n",
       "    height: 32px;\n",
       "    padding: 0;\n",
       "    width: 32px;\n",
       "  }\n",
       "\n",
       "  .colab-df-quickchart:hover {\n",
       "    background-color: var(--hover-bg-color);\n",
       "    box-shadow: 0 1px 2px rgba(60, 64, 67, 0.3), 0 1px 3px 1px rgba(60, 64, 67, 0.15);\n",
       "    fill: var(--button-hover-fill-color);\n",
       "  }\n",
       "\n",
       "  .colab-df-quickchart-complete:disabled,\n",
       "  .colab-df-quickchart-complete:disabled:hover {\n",
       "    background-color: var(--disabled-bg-color);\n",
       "    fill: var(--disabled-fill-color);\n",
       "    box-shadow: none;\n",
       "  }\n",
       "\n",
       "  .colab-df-spinner {\n",
       "    border: 2px solid var(--fill-color);\n",
       "    border-color: transparent;\n",
       "    border-bottom-color: var(--fill-color);\n",
       "    animation:\n",
       "      spin 1s steps(1) infinite;\n",
       "  }\n",
       "\n",
       "  @keyframes spin {\n",
       "    0% {\n",
       "      border-color: transparent;\n",
       "      border-bottom-color: var(--fill-color);\n",
       "      border-left-color: var(--fill-color);\n",
       "    }\n",
       "    20% {\n",
       "      border-color: transparent;\n",
       "      border-left-color: var(--fill-color);\n",
       "      border-top-color: var(--fill-color);\n",
       "    }\n",
       "    30% {\n",
       "      border-color: transparent;\n",
       "      border-left-color: var(--fill-color);\n",
       "      border-top-color: var(--fill-color);\n",
       "      border-right-color: var(--fill-color);\n",
       "    }\n",
       "    40% {\n",
       "      border-color: transparent;\n",
       "      border-right-color: var(--fill-color);\n",
       "      border-top-color: var(--fill-color);\n",
       "    }\n",
       "    60% {\n",
       "      border-color: transparent;\n",
       "      border-right-color: var(--fill-color);\n",
       "    }\n",
       "    80% {\n",
       "      border-color: transparent;\n",
       "      border-right-color: var(--fill-color);\n",
       "      border-bottom-color: var(--fill-color);\n",
       "    }\n",
       "    90% {\n",
       "      border-color: transparent;\n",
       "      border-bottom-color: var(--fill-color);\n",
       "    }\n",
       "  }\n",
       "</style>\n",
       "\n",
       "  <script>\n",
       "    async function quickchart(key) {\n",
       "      const quickchartButtonEl =\n",
       "        document.querySelector('#' + key + ' button');\n",
       "      quickchartButtonEl.disabled = true;  // To prevent multiple clicks.\n",
       "      quickchartButtonEl.classList.add('colab-df-spinner');\n",
       "      try {\n",
       "        const charts = await google.colab.kernel.invokeFunction(\n",
       "            'suggestCharts', [key], {});\n",
       "      } catch (error) {\n",
       "        console.error('Error during call to suggestCharts:', error);\n",
       "      }\n",
       "      quickchartButtonEl.classList.remove('colab-df-spinner');\n",
       "      quickchartButtonEl.classList.add('colab-df-quickchart-complete');\n",
       "    }\n",
       "    (() => {\n",
       "      let quickchartButtonEl =\n",
       "        document.querySelector('#df-b7a3b9d2-defb-4192-ada5-5a9204850cfb button');\n",
       "      quickchartButtonEl.style.display =\n",
       "        google.colab.kernel.accessAllowed ? 'block' : 'none';\n",
       "    })();\n",
       "  </script>\n",
       "</div>\n",
       "    </div>\n",
       "  </div>\n"
      ],
      "text/plain": [
       "                                                  title       date  \\\n",
       "0     ‘I work just 5 hours a week': A 39-year-old wh... 2023-01-01   \n",
       "1     Chinese state media seek to reassure public ov... 2023-01-01   \n",
       "2     Should you get creative with your resume? Expe... 2023-01-01   \n",
       "3     Market misery deals sovereign wealth funds his... 2023-01-01   \n",
       "4     More social media regulation is coming in 2023... 2023-01-01   \n",
       "...                                                 ...        ...   \n",
       "5625  Biden says he will visit Florida this weekend ... 2023-08-31   \n",
       "5626  Baidu's Ernie bot jumps to the top of Apple's ... 2023-08-31   \n",
       "5627  Apple reportedly tests 3D printing to manufact... 2023-08-31   \n",
       "5628  63% of workers unable to pay a $500 emergency ... 2023-08-31   \n",
       "5630  China's factory activity shrinks for a fifth s... 2023-08-31   \n",
       "\n",
       "               category                                         key_points  \\\n",
       "0               Success                                                N/A   \n",
       "1     Asia-Pacific News  Chinese state media sought to reassure the pub...   \n",
       "2          Land the Job                                                N/A   \n",
       "3               Markets  Heavy falls in stock and bond markets over the...   \n",
       "4                  Tech  Days after Congress passed a bipartisan spendi...   \n",
       "...                 ...                                                ...   \n",
       "5625           Politics  President Joe Biden said he would be traveling...   \n",
       "5626               Tech  Chinese tech giant Baidu announced Thursday it...   \n",
       "5627               Tech  Apple is reportedly testing using 3D printing ...   \n",
       "5628   Personal Finance  Workers are reporting financial stress amid hi...   \n",
       "5630      China Economy  The official manufacturing purchasing managers...   \n",
       "\n",
       "                                                   text  \\\n",
       "0     Graham Cochrane, Founder of The Recording Revo...   \n",
       "1     Revelers prepare to release balloons to celebr...   \n",
       "2     Mature businessman congratulating young profes...   \n",
       "3     A trader works on the floor of the New York St...   \n",
       "4     The U.K.'s Online Safety Bill, which aims to r...   \n",
       "...                                                 ...   \n",
       "5625  WASHINGTON — President Joe Biden made a surpri...   \n",
       "5626  Pictured here is the Ernie bot mobile interfac...   \n",
       "5627  Apple is testing the use of 3D printers to mak...   \n",
       "5628  A shopper makes their way through a grocery st...   \n",
       "5630  People walk through a gate in the Forbidden Ci...   \n",
       "\n",
       "                                                    url  month  \n",
       "0     https://www.cnbc.com/2023/01/01/39-year-old-wh...      1  \n",
       "1     https://www.cnbc.com/2023/01/01/chinese-state-...      1  \n",
       "2     https://www.cnbc.com/2023/01/01/cv-will-a-crea...      1  \n",
       "3     https://www.cnbc.com/2023/01/01/market-misery-...      1  \n",
       "4     https://www.cnbc.com/2023/01/01/more-social-me...      1  \n",
       "...                                                 ...    ...  \n",
       "5625  https://www.cnbc.com/2023/08/31/biden-says-he-...      8  \n",
       "5626  https://www.cnbc.com/2023/08/31/baidu-gets-chi...      8  \n",
       "5627  https://www.cnbc.com/2023/08/31/apple-is-testi...      8  \n",
       "5628  https://www.cnbc.com/2023/08/31/63percent-of-w...      8  \n",
       "5630  https://www.cnbc.com/2023/08/31/china-economy-...      8  \n",
       "\n",
       "[5089 rows x 7 columns]"
      ]
     },
     "execution_count": 98,
     "metadata": {},
     "output_type": "execute_result"
    }
   ],
   "source": [
    "# 'date' 컬럼에서 월 정보를 추출하여 'month' 컬럼 생성\n",
    "df['month'] = df['date'].dt.month\n",
    "\n",
    "# 월 별로 카테고리 등장 횟수 계산\n",
    "monthly_counts = df.groupby(['month', 'category']).size().reset_index(name='count')\n",
    "\n",
    "# 월 별로 5번 이상 등장한 카테고리 찾기\n",
    "valid_categories = monthly_counts[monthly_counts['count'] >= 5]['category'].unique()\n",
    "\n",
    "final_df = df[df['category'].isin(valid_categories)]\n",
    "\n",
    "# 결과 출력\n",
    "final_df"
   ]
  },
  {
   "cell_type": "code",
   "execution_count": 99,
   "id": "cdc46d0a",
   "metadata": {
    "colab": {
     "base_uri": "https://localhost:8080/"
    },
    "id": "cdc46d0a",
    "outputId": "7474cda0-dca0-408e-c74f-53356fb3f10f"
   },
   "outputs": [
    {
     "data": {
      "text/plain": [
       "(616, 7)"
      ]
     },
     "execution_count": 99,
     "metadata": {},
     "output_type": "execute_result"
    }
   ],
   "source": [
    "# 2023년 8월 이후 데이터만 선택\n",
    "start_date = '2023-08-01'\n",
    "final_df = final_df[final_df['date'] >= start_date]\n",
    "final_df.shape"
   ]
  },
  {
   "cell_type": "code",
   "execution_count": 100,
   "id": "247faf0a",
   "metadata": {
    "colab": {
     "base_uri": "https://localhost:8080/"
    },
    "id": "247faf0a",
    "outputId": "3a870867-7a70-45f3-9314-299aadd8fa96"
   },
   "outputs": [
    {
     "data": {
      "text/plain": [
       "4946   2023-08-01\n",
       "4947   2023-08-01\n",
       "4948   2023-08-01\n",
       "4949   2023-08-01\n",
       "4950   2023-08-01\n",
       "          ...    \n",
       "5625   2023-08-31\n",
       "5626   2023-08-31\n",
       "5627   2023-08-31\n",
       "5628   2023-08-31\n",
       "5630   2023-08-31\n",
       "Name: date, Length: 616, dtype: datetime64[ns]"
      ]
     },
     "execution_count": 100,
     "metadata": {},
     "output_type": "execute_result"
    }
   ],
   "source": [
    "final_df.date"
   ]
  },
  {
   "cell_type": "markdown",
   "id": "5bdeec44",
   "metadata": {
    "id": "5bdeec44"
   },
   "source": [
    "## 데이터 전처리\n",
    "- 크롤링 데이터의 특수문자와 문장부호 제거\n",
    "- 불용어 제거(n차 토픽모델링 후 후처리 진행)\n",
    "- 불용어 제거 및 토큰화 : 상업용으로 사용하기에 사용성과 성능 면에서 nltk보다 spacy가 우수해 spacy 모델을 사용했다. 긴 텍스트(기사 본문)를 처리해야 하므로 en_core_web_lg 모델을 사용했다. 또한 tokenizer 함수를 생성할 때는 명사만 추출하도록 했으며, 개체명은 'TIME','CARDINAL','DATE'을 제외한 모든 entity를 사용했다."
   ]
  },
  {
   "cell_type": "code",
   "execution_count": 101,
   "id": "db6c118d",
   "metadata": {
    "id": "db6c118d"
   },
   "outputs": [],
   "source": [
    "# 특수 문자와 문장 부호 제거 함수 정의\n",
    "def remove_special_characters(text):\n",
    "    cleaned_text = re.sub(r'[^\\w\\s]', '', text)\n",
    "    return cleaned_text\n",
    "\n",
    "# 데이터 전처리 함수 적용\n",
    "final_df['text'] = final_df['text'].apply(remove_special_characters)"
   ]
  },
  {
   "cell_type": "code",
   "execution_count": 102,
   "id": "105626c5",
   "metadata": {
    "colab": {
     "base_uri": "https://localhost:8080/"
    },
    "id": "105626c5",
    "outputId": "26027361-c361-40f6-ce2b-b3ee6b8b6251"
   },
   "outputs": [
    {
     "name": "stdout",
     "output_type": "stream",
     "text": [
      "2023-10-15 21:54:51.886837: W tensorflow/compiler/tf2tensorrt/utils/py_utils.cc:38] TF-TRT Warning: Could not find TensorRT\n",
      "Collecting en-core-web-lg==3.6.0\n",
      "  Downloading https://github.com/explosion/spacy-models/releases/download/en_core_web_lg-3.6.0/en_core_web_lg-3.6.0-py3-none-any.whl (587.7 MB)\n",
      "\u001b[2K     \u001b[90m━━━━━━━━━━━━━━━━━━━━━━━━━━━━━━━━━━━━━━━━\u001b[0m \u001b[32m587.7/587.7 MB\u001b[0m \u001b[31m1.1 MB/s\u001b[0m eta \u001b[36m0:00:00\u001b[0m\n",
      "\u001b[?25hRequirement already satisfied: spacy<3.7.0,>=3.6.0 in /usr/local/lib/python3.10/dist-packages (from en-core-web-lg==3.6.0) (3.6.1)\n",
      "Requirement already satisfied: spacy-legacy<3.1.0,>=3.0.11 in /usr/local/lib/python3.10/dist-packages (from spacy<3.7.0,>=3.6.0->en-core-web-lg==3.6.0) (3.0.12)\n",
      "Requirement already satisfied: spacy-loggers<2.0.0,>=1.0.0 in /usr/local/lib/python3.10/dist-packages (from spacy<3.7.0,>=3.6.0->en-core-web-lg==3.6.0) (1.0.5)\n",
      "Requirement already satisfied: murmurhash<1.1.0,>=0.28.0 in /usr/local/lib/python3.10/dist-packages (from spacy<3.7.0,>=3.6.0->en-core-web-lg==3.6.0) (1.0.10)\n",
      "Requirement already satisfied: cymem<2.1.0,>=2.0.2 in /usr/local/lib/python3.10/dist-packages (from spacy<3.7.0,>=3.6.0->en-core-web-lg==3.6.0) (2.0.8)\n",
      "Requirement already satisfied: preshed<3.1.0,>=3.0.2 in /usr/local/lib/python3.10/dist-packages (from spacy<3.7.0,>=3.6.0->en-core-web-lg==3.6.0) (3.0.9)\n",
      "Requirement already satisfied: thinc<8.2.0,>=8.1.8 in /usr/local/lib/python3.10/dist-packages (from spacy<3.7.0,>=3.6.0->en-core-web-lg==3.6.0) (8.1.12)\n",
      "Requirement already satisfied: wasabi<1.2.0,>=0.9.1 in /usr/local/lib/python3.10/dist-packages (from spacy<3.7.0,>=3.6.0->en-core-web-lg==3.6.0) (1.1.2)\n",
      "Requirement already satisfied: srsly<3.0.0,>=2.4.3 in /usr/local/lib/python3.10/dist-packages (from spacy<3.7.0,>=3.6.0->en-core-web-lg==3.6.0) (2.4.8)\n",
      "Requirement already satisfied: catalogue<2.1.0,>=2.0.6 in /usr/local/lib/python3.10/dist-packages (from spacy<3.7.0,>=3.6.0->en-core-web-lg==3.6.0) (2.0.10)\n",
      "Requirement already satisfied: typer<0.10.0,>=0.3.0 in /usr/local/lib/python3.10/dist-packages (from spacy<3.7.0,>=3.6.0->en-core-web-lg==3.6.0) (0.9.0)\n",
      "Requirement already satisfied: pathy>=0.10.0 in /usr/local/lib/python3.10/dist-packages (from spacy<3.7.0,>=3.6.0->en-core-web-lg==3.6.0) (0.10.2)\n",
      "Requirement already satisfied: smart-open<7.0.0,>=5.2.1 in /usr/local/lib/python3.10/dist-packages (from spacy<3.7.0,>=3.6.0->en-core-web-lg==3.6.0) (6.4.0)\n",
      "Requirement already satisfied: tqdm<5.0.0,>=4.38.0 in /usr/local/lib/python3.10/dist-packages (from spacy<3.7.0,>=3.6.0->en-core-web-lg==3.6.0) (4.66.1)\n",
      "Requirement already satisfied: numpy>=1.15.0 in /usr/local/lib/python3.10/dist-packages (from spacy<3.7.0,>=3.6.0->en-core-web-lg==3.6.0) (1.23.5)\n",
      "Requirement already satisfied: requests<3.0.0,>=2.13.0 in /usr/local/lib/python3.10/dist-packages (from spacy<3.7.0,>=3.6.0->en-core-web-lg==3.6.0) (2.31.0)\n",
      "Requirement already satisfied: pydantic!=1.8,!=1.8.1,<3.0.0,>=1.7.4 in /usr/local/lib/python3.10/dist-packages (from spacy<3.7.0,>=3.6.0->en-core-web-lg==3.6.0) (1.10.13)\n",
      "Requirement already satisfied: jinja2 in /usr/local/lib/python3.10/dist-packages (from spacy<3.7.0,>=3.6.0->en-core-web-lg==3.6.0) (3.1.2)\n",
      "Requirement already satisfied: setuptools in /usr/local/lib/python3.10/dist-packages (from spacy<3.7.0,>=3.6.0->en-core-web-lg==3.6.0) (67.7.2)\n",
      "Requirement already satisfied: packaging>=20.0 in /usr/local/lib/python3.10/dist-packages (from spacy<3.7.0,>=3.6.0->en-core-web-lg==3.6.0) (23.2)\n",
      "Requirement already satisfied: langcodes<4.0.0,>=3.2.0 in /usr/local/lib/python3.10/dist-packages (from spacy<3.7.0,>=3.6.0->en-core-web-lg==3.6.0) (3.3.0)\n",
      "Requirement already satisfied: typing-extensions>=4.2.0 in /usr/local/lib/python3.10/dist-packages (from pydantic!=1.8,!=1.8.1,<3.0.0,>=1.7.4->spacy<3.7.0,>=3.6.0->en-core-web-lg==3.6.0) (4.5.0)\n",
      "Requirement already satisfied: charset-normalizer<4,>=2 in /usr/local/lib/python3.10/dist-packages (from requests<3.0.0,>=2.13.0->spacy<3.7.0,>=3.6.0->en-core-web-lg==3.6.0) (3.3.0)\n",
      "Requirement already satisfied: idna<4,>=2.5 in /usr/local/lib/python3.10/dist-packages (from requests<3.0.0,>=2.13.0->spacy<3.7.0,>=3.6.0->en-core-web-lg==3.6.0) (3.4)\n",
      "Requirement already satisfied: urllib3<3,>=1.21.1 in /usr/local/lib/python3.10/dist-packages (from requests<3.0.0,>=2.13.0->spacy<3.7.0,>=3.6.0->en-core-web-lg==3.6.0) (2.0.6)\n",
      "Requirement already satisfied: certifi>=2017.4.17 in /usr/local/lib/python3.10/dist-packages (from requests<3.0.0,>=2.13.0->spacy<3.7.0,>=3.6.0->en-core-web-lg==3.6.0) (2023.7.22)\n",
      "Requirement already satisfied: blis<0.8.0,>=0.7.8 in /usr/local/lib/python3.10/dist-packages (from thinc<8.2.0,>=8.1.8->spacy<3.7.0,>=3.6.0->en-core-web-lg==3.6.0) (0.7.11)\n",
      "Requirement already satisfied: confection<1.0.0,>=0.0.1 in /usr/local/lib/python3.10/dist-packages (from thinc<8.2.0,>=8.1.8->spacy<3.7.0,>=3.6.0->en-core-web-lg==3.6.0) (0.1.3)\n",
      "Requirement already satisfied: click<9.0.0,>=7.1.1 in /usr/local/lib/python3.10/dist-packages (from typer<0.10.0,>=0.3.0->spacy<3.7.0,>=3.6.0->en-core-web-lg==3.6.0) (8.1.7)\n",
      "Requirement already satisfied: MarkupSafe>=2.0 in /usr/local/lib/python3.10/dist-packages (from jinja2->spacy<3.7.0,>=3.6.0->en-core-web-lg==3.6.0) (2.1.3)\n",
      "Installing collected packages: en-core-web-lg\n",
      "Successfully installed en-core-web-lg-3.6.0\n",
      "\u001b[38;5;2m✔ Download and installation successful\u001b[0m\n",
      "You can now load the package via spacy.load('en_core_web_lg')\n"
     ]
    }
   ],
   "source": [
    "#spacy 모델 다운로드\n",
    "!python -m spacy download en_core_web_lg"
   ]
  },
  {
   "cell_type": "code",
   "execution_count": 103,
   "id": "ca3255b1",
   "metadata": {
    "id": "ca3255b1"
   },
   "outputs": [],
   "source": [
    "#spacy 모델 정의\n",
    "nlp = spacy.load(\"en_core_web_lg\")\n",
    "\n",
    "#불용어 리스트\n",
    "spacy_stopwords_list = list(nlp.Defaults.stop_words)\n",
    "\n",
    "#처리할 문자열 최대 길이\n",
    "nlp.max_length = 10000000\n",
    "\n",
    "#토픽모델링 후 추가 불용어 삭제\n",
    "new_stopwords_list = ['cnbc', 'share', 'earning', 'revenue', 'premarket', 'stock', 'chart icon', 'stock chart', 'chart', 'icon', 'company', 'store', 'wedding', 'food', 'economy', 'bank']\n",
    "spacy_stopwords_list_new = spacy_stopwords_list + new_stopwords_list"
   ]
  },
  {
   "cell_type": "code",
   "execution_count": 104,
   "id": "01b753a8",
   "metadata": {
    "id": "01b753a8"
   },
   "outputs": [],
   "source": [
    "#tokenizer 함수 생성\n",
    "#1. 명사 추출\n",
    "#2. 소문자 변환\n",
    "#3. 불용어 제거\n",
    "#4. 개체명 time, cardinal, date 제거\n",
    "def tokenizer(text):\n",
    "    words=[]\n",
    "    doc=nlp(text)\n",
    "    for token in doc:\n",
    "        if token.tag_[0] in ['N'] and token.lemma_.lower() not in spacy_stopwords_list_new and token.ent_type_ not in ['TIME','CARDINAL','DATE']:\n",
    "                if len(token.lemma_.lower())>1:\n",
    "                    words.append(token.lemma_.lower())\n",
    "\n",
    "    return words"
   ]
  },
  {
   "cell_type": "markdown",
   "id": "9a4b8e92",
   "metadata": {
    "id": "9a4b8e92"
   },
   "source": [
    "## 토픽모델링\n",
    "- 임베딩 모델 선정 기준 : sbert.net의 sentencetransformer 중 가장 Performance가 높은 모델(all-mpnet-base-v2) 선정\n",
    "- 5배나 빠른 속도에 정확도가 높은 all-MiniLM-L6-v2로도 시도해봤지만 성능이 좋지 않았음."
   ]
  },
  {
   "cell_type": "code",
   "execution_count": 105,
   "id": "3681108b",
   "metadata": {
    "id": "3681108b"
   },
   "outputs": [],
   "source": [
    "#topic_modeling data 생성\n",
    "all_texts = final_df['text'].values #전체 뉴스 데이터\n",
    "timestamps = final_df['date'].to_list() #뉴스 발행일자"
   ]
  },
  {
   "cell_type": "code",
   "execution_count": 106,
   "id": "58c21df2",
   "metadata": {
    "colab": {
     "base_uri": "https://localhost:8080/",
     "height": 889,
     "referenced_widgets": [
      "8b4a1f7c2aa64ababd3147c50d1c0573",
      "3fe516c094b1489e91ae940a03e3c499",
      "11dcb7fffa4f484ba96000a631ab0936",
      "0a535a69e363482b927739ec19ba2142",
      "a132f4276c674856a938f7eeca86a588",
      "9edca0021d1b4fc383fe77776ad4b69b",
      "b00b9555964341929c2d6505c28c49e8",
      "83d5dbebc8794e0cab37cf69a1888b98",
      "5285ee4914084ef886ec0de720e72012",
      "2489c62df49247169fe3eb1103a8fe4f",
      "5e3660c972cb4dd28d15c0a4c26db37d",
      "62bca7db265042b3b1a97470f920aa55",
      "d774a75ea5e647cf94aa6b878079cfc9",
      "862e6e4cc5d2422cb189ca6fa096807f",
      "aba3240521a34a81b9c939d9b801c44c",
      "c06c6ca3a851451e84b54a55d834bc25",
      "d3ab6023fa464951a2f8f6484b0fb3fe",
      "183f801ddbcf4b78be03b619cea8aafb",
      "9fd5148f6f544ed791eade677ffb75de",
      "50ba80b4e6f14c7f8f81946d94c3fd26",
      "f8a2ee72dc2f4866aa7c17e335590f77",
      "9a6b346ec1c74a7d91e223ce0e9c3e6f",
      "f24641e5004646e0b47177adef9003b4",
      "2a96988c3d5546aea826d5af02f848a8",
      "e92d05a8ccb6474e9139f6e74969bd37",
      "e1c15b113f3144e89d0a1b3cd07b9add",
      "25b1484d80994444b59cadac83d54eb2",
      "aad4001efa324d388959cbf2aa186c54",
      "c2e85e0801ab4899bb1611314240314b",
      "c829050018404c1286a0dffedb5b2978",
      "b017be99cfc84e6f8b65cffc9734c114",
      "b755d516aedc4647b8606cdf0fa0fc3d",
      "6778bd8ac3824dc6a1d547e613761af8",
      "52ae2ba1ed1143b9a9b8e540cfbaf05d",
      "a35b97213463453c9b680b551c3bb396",
      "8923b68f94594b45897e2e5b551aef53",
      "4b7d2ac42e314ce887a49969c0d5d7c3",
      "7c81d7e086514ffbaae3575c72138f4d",
      "f491b57d10544672bebc37d19cdbfab2",
      "ef3f9f2be6a1488b99b608151db22b60",
      "c81496ed4d6848c5b73a62c97f847837",
      "010bcb527ef54247b0d742680655063f",
      "ec695e07663744f49964b9dbf5ffb701",
      "713bac220f5e4d4584b50f12fd6c5aec",
      "1a9ab99f84324850800c39ff5c0efbf0",
      "64191fb30dac4c2193052fe8e830718e",
      "ea3fc4a48a674e1d97eb7304a2417642",
      "8aa665b340dc4ff8b9f5bbbe6564cc96",
      "d9ad71c9adc64c908e3ce77ac6770821",
      "45e8a07603d04442b87d4386eaefb3c9",
      "d01c0976324642cb930176b25c7ef588",
      "758101e62d8242b99240e3c4a46daa65",
      "eac15d8ae04d43128ba0874ba89dd698",
      "bfea4c570c21432dbefee8adf085a9d7",
      "3eb41605579c44e99458efe1a43d58c1",
      "41e3416339454b968ab6e9dde94c4c53",
      "4624088533a44ea5b06fcad85d56638b",
      "9246d00c31324f6fb6084cd0989d3731",
      "583a0da482df492daa7f6051ecaadf20",
      "6107910f16e448fd9cbc54c7e91d7819",
      "216df39ada924fd284d24a5f5d2b840a",
      "e5c88a787a39462b91eb4e47203cfbdf",
      "446ff9093d8e442fb446b9d550d8d47a",
      "4043cc8884a44164a3fede906793da9f",
      "5570be78286a4144b3a8c04829d06b63",
      "7cec6fe84c8a41c49e3e8e525cae9ad2",
      "b2d09f6442934340837fdf75c3556724",
      "8c632e44d3eb475087da411d105bab8c",
      "629a3f0ac26540b1a3a817eb21f4a273",
      "415436645fa3411b995619154aece438",
      "1f8ce8697abf495f92307c0074452c00",
      "cc46b8cdb86345b6ba643bc32d43e673",
      "abd19c5ec66847a695819f09449a4286",
      "ddda3d9af7fd4117ac5b663ba81ae3e6",
      "50d6e915edbb4d1d99dc8b8f13d633d8",
      "692e7d158e864cb2ba2e4f85133024d1",
      "34ecae74f897494099f71c562618e22e",
      "e2fe97e492a34c7680adc5b3f5a310b3",
      "d7393ec3532b49b28ebf1ba9e0172225",
      "1abeac0a7b7c4e458c629c3d94753dfd",
      "32530bd74ef54dafb1f5b8dd2b3e1cc5",
      "a1f4d9004ece40c99544c931f96b46e3",
      "685394f038614819975cfcecbb22b667",
      "79c153df3e2248158dd8f0b0e4550da0",
      "e3c1db88dffe4d808b1f40d647768a9b",
      "643327e8104f436fa18e57139c8b2888",
      "d17891771c0a4997bbae74d02fadbd18",
      "16b7726670f6474a87b2f85f5d73e19e",
      "cc954b273bf44190a3830d9bcd89dabb",
      "a087c736b3724d349a69f049b8e69884",
      "72a5be9dccee450bbec0190be9434bb6",
      "4de7a8277cce420894fc0195d6dd3094",
      "ff2ebd19c20042299d1da12163491182",
      "9cf435d5e9f640e39ecced1f733460a5",
      "a7309b592d2d4944803b19620185dd44",
      "a46e946d623446629f6a648105f3fd93",
      "a4ab8c5577734cb5a3588b4105c6598a",
      "1eb81c4b3efa499db3570c9f83c1323b",
      "41dafcbc1b0142a9b57db81833ca4665",
      "a488624f60d94654bd9c210e0a7bb4f7",
      "d4279b5090774ed6a6732171a5101953",
      "1ef1a21c3de74f868c36d26c3e01c32d",
      "7bacf867424947e0ae98ded6cfec9a94",
      "1d1ebeaa9c7743aab394e7cef0d00b0c",
      "d33635cff1d34b5b92208bc7daf8c798",
      "d89f8b1895934ce5b8ccfaea22d06013",
      "5fab68c54b5d492eb2893b43c2dae387",
      "d74ff4e8fa2248b9afcf9d02c40f59fa",
      "c137c1d5e5b44a228c23dee596519d1b",
      "bba5f0fcbb6b4cd2a81e709b76f60887",
      "88176e0b5bb8497e8370204b648e719c",
      "c90b814f5c71458abf50b8dbdeb11207",
      "6b2aeba4ab2942c2b9819da01d6d07fd",
      "fda4717acba545d69782ec27db6a90c8",
      "0c66aedee083400cbda21225669d2497",
      "d776c696628f467186f6e3d6aba385fa",
      "c9cd420fc5934be382b9a6c1c1136c97",
      "00e42056967b44c4890fdacff5da2f0a",
      "7beb5157d74f4de79779ee027e344ea4",
      "8773dc8547a846aab12e8d060197522b",
      "7290ddf2facd4c9a81aa0d4d9d8fa6c6",
      "d065d403f82d47c9ab56ebc0dd05ac68",
      "51ed20c9cb3947e3b920f7018f7ddafe",
      "aa48188268c24affb9a080694cd697cd",
      "297178cae1b64f7fb4321cd952640b51",
      "d64e08afac074d5487e8bb84239e64e0",
      "357d569faa7a45939c1bfa31ab9e5835",
      "32f1f7da9f6d45e3808865c08cdca8a7",
      "fc6d323eb5354db182eaeb66a2b0f6d5",
      "132c4de749424c7c81c75f07b2e79f6d",
      "bf3c7915f7ee4d3da1ff944e582f6594",
      "8ae43a30061c405cad8ef03cd369dd59",
      "9bca25974b8640d7bb5e9fe210f4861b",
      "36cec557d3ba4b7faebbb69ff44446fb",
      "fe9e743507e74133930d087723fcab7c",
      "3734982137ff495d9dee09e7b1284c55",
      "8900783274dc487faf53b5c9a97a842a",
      "44d7dca8e32d451c979588b85ce4ac19",
      "5b149bfbb54f42d585a858792e574ecd",
      "460b327cde6742e69d60415fcbb1d52c",
      "b64680ca1b8345b78925e7604662541c",
      "5a1d44ac418b4999b7e5b396b8de1e46",
      "4f13b94ecd35415597a0b6ffc996699a",
      "eb9eb18687a9465680449909983333e7",
      "e775ff34a8d5419ba5419bf184776544",
      "9991ac432fef4508ad854536bfb010dd",
      "3f4c984fe8184c1f95d10cc27245b9aa",
      "234e2e251a3b4b0d9be6e1930883cb48",
      "53701715a5b844cc8114e8005da2e010",
      "0bda6d6e895541d4840b5a4823de110e",
      "f7159b3132b64ef8ace9ded8c97fe442",
      "307e8e6d611548dcb2d86a9d54effadc",
      "fc6005ac92be4210899fd1e2fc48d3e0",
      "b76f6f9287d047098d6ccac92376485b",
      "9d1b9e1164c041b386af0eed3ec3adb9",
      "e29d19b078514c79831b0f5cff9de48a",
      "ee68302c39d447489e00f7277c3562cc",
      "fcf1aefd018f4f5495a02b8bde97be64",
      "f1d408f1097940d8b82de74b136ca46a",
      "d998b7d3d8504af9a0e3be77dbea8429",
      "d688096d1ac646ae8ef2c3f97aed827f",
      "0443bd3408194379ad60032ce699e6f6",
      "715054cffabe4bd5a17065612a381296",
      "7f22eb099b614dd18ee5a7c421822ec0",
      "9eaa7e51cd7f46a99791bfffbfbbd287"
     ]
    },
    "id": "58c21df2",
    "outputId": "60657aef-841b-4735-8246-4c942050807a"
   },
   "outputs": [
    {
     "data": {
      "application/vnd.jupyter.widget-view+json": {
       "model_id": "8b4a1f7c2aa64ababd3147c50d1c0573",
       "version_major": 2,
       "version_minor": 0
      },
      "text/plain": [
       "Downloading (…)a8e1d/.gitattributes:   0%|          | 0.00/1.18k [00:00<?, ?B/s]"
      ]
     },
     "metadata": {},
     "output_type": "display_data"
    },
    {
     "data": {
      "application/vnd.jupyter.widget-view+json": {
       "model_id": "62bca7db265042b3b1a97470f920aa55",
       "version_major": 2,
       "version_minor": 0
      },
      "text/plain": [
       "Downloading (…)_Pooling/config.json:   0%|          | 0.00/190 [00:00<?, ?B/s]"
      ]
     },
     "metadata": {},
     "output_type": "display_data"
    },
    {
     "data": {
      "application/vnd.jupyter.widget-view+json": {
       "model_id": "f24641e5004646e0b47177adef9003b4",
       "version_major": 2,
       "version_minor": 0
      },
      "text/plain": [
       "Downloading (…)b20bca8e1d/README.md:   0%|          | 0.00/10.6k [00:00<?, ?B/s]"
      ]
     },
     "metadata": {},
     "output_type": "display_data"
    },
    {
     "data": {
      "application/vnd.jupyter.widget-view+json": {
       "model_id": "52ae2ba1ed1143b9a9b8e540cfbaf05d",
       "version_major": 2,
       "version_minor": 0
      },
      "text/plain": [
       "Downloading (…)0bca8e1d/config.json:   0%|          | 0.00/571 [00:00<?, ?B/s]"
      ]
     },
     "metadata": {},
     "output_type": "display_data"
    },
    {
     "data": {
      "application/vnd.jupyter.widget-view+json": {
       "model_id": "1a9ab99f84324850800c39ff5c0efbf0",
       "version_major": 2,
       "version_minor": 0
      },
      "text/plain": [
       "Downloading (…)ce_transformers.json:   0%|          | 0.00/116 [00:00<?, ?B/s]"
      ]
     },
     "metadata": {},
     "output_type": "display_data"
    },
    {
     "data": {
      "application/vnd.jupyter.widget-view+json": {
       "model_id": "41e3416339454b968ab6e9dde94c4c53",
       "version_major": 2,
       "version_minor": 0
      },
      "text/plain": [
       "Downloading (…)e1d/data_config.json:   0%|          | 0.00/39.3k [00:00<?, ?B/s]"
      ]
     },
     "metadata": {},
     "output_type": "display_data"
    },
    {
     "data": {
      "application/vnd.jupyter.widget-view+json": {
       "model_id": "b2d09f6442934340837fdf75c3556724",
       "version_major": 2,
       "version_minor": 0
      },
      "text/plain": [
       "Downloading pytorch_model.bin:   0%|          | 0.00/438M [00:00<?, ?B/s]"
      ]
     },
     "metadata": {},
     "output_type": "display_data"
    },
    {
     "data": {
      "application/vnd.jupyter.widget-view+json": {
       "model_id": "e2fe97e492a34c7680adc5b3f5a310b3",
       "version_major": 2,
       "version_minor": 0
      },
      "text/plain": [
       "Downloading (…)nce_bert_config.json:   0%|          | 0.00/53.0 [00:00<?, ?B/s]"
      ]
     },
     "metadata": {},
     "output_type": "display_data"
    },
    {
     "data": {
      "application/vnd.jupyter.widget-view+json": {
       "model_id": "cc954b273bf44190a3830d9bcd89dabb",
       "version_major": 2,
       "version_minor": 0
      },
      "text/plain": [
       "Downloading (…)cial_tokens_map.json:   0%|          | 0.00/239 [00:00<?, ?B/s]"
      ]
     },
     "metadata": {},
     "output_type": "display_data"
    },
    {
     "data": {
      "application/vnd.jupyter.widget-view+json": {
       "model_id": "a488624f60d94654bd9c210e0a7bb4f7",
       "version_major": 2,
       "version_minor": 0
      },
      "text/plain": [
       "Downloading (…)a8e1d/tokenizer.json:   0%|          | 0.00/466k [00:00<?, ?B/s]"
      ]
     },
     "metadata": {},
     "output_type": "display_data"
    },
    {
     "data": {
      "application/vnd.jupyter.widget-view+json": {
       "model_id": "88176e0b5bb8497e8370204b648e719c",
       "version_major": 2,
       "version_minor": 0
      },
      "text/plain": [
       "Downloading (…)okenizer_config.json:   0%|          | 0.00/363 [00:00<?, ?B/s]"
      ]
     },
     "metadata": {},
     "output_type": "display_data"
    },
    {
     "data": {
      "application/vnd.jupyter.widget-view+json": {
       "model_id": "d065d403f82d47c9ab56ebc0dd05ac68",
       "version_major": 2,
       "version_minor": 0
      },
      "text/plain": [
       "Downloading (…)8e1d/train_script.py:   0%|          | 0.00/13.1k [00:00<?, ?B/s]"
      ]
     },
     "metadata": {},
     "output_type": "display_data"
    },
    {
     "data": {
      "application/vnd.jupyter.widget-view+json": {
       "model_id": "9bca25974b8640d7bb5e9fe210f4861b",
       "version_major": 2,
       "version_minor": 0
      },
      "text/plain": [
       "Downloading (…)b20bca8e1d/vocab.txt:   0%|          | 0.00/232k [00:00<?, ?B/s]"
      ]
     },
     "metadata": {},
     "output_type": "display_data"
    },
    {
     "data": {
      "application/vnd.jupyter.widget-view+json": {
       "model_id": "eb9eb18687a9465680449909983333e7",
       "version_major": 2,
       "version_minor": 0
      },
      "text/plain": [
       "Downloading (…)bca8e1d/modules.json:   0%|          | 0.00/349 [00:00<?, ?B/s]"
      ]
     },
     "metadata": {},
     "output_type": "display_data"
    },
    {
     "data": {
      "application/vnd.jupyter.widget-view+json": {
       "model_id": "9d1b9e1164c041b386af0eed3ec3adb9",
       "version_major": 2,
       "version_minor": 0
      },
      "text/plain": [
       "Batches:   0%|          | 0/20 [00:00<?, ?it/s]"
      ]
     },
     "metadata": {},
     "output_type": "display_data"
    }
   ],
   "source": [
    "embedding_model = SentenceTransformer(\"all-mpnet-base-v2\") #임베딩 모델\n",
    "embeddings = embedding_model.encode(all_texts, show_progress_bar=True) #임베딩 미리 계산(파라미터 수정 용이 위함)"
   ]
  },
  {
   "cell_type": "markdown",
   "id": "387599e2",
   "metadata": {
    "id": "387599e2"
   },
   "source": [
    "**파라미터 튜닝 결과 아래의 파라미터로 하는 것이 가장 토픽을 잘 찾는다고 판단함.**\n",
    "- UMAP(n_neighbors=8, min_dist=0.1, n_components=2)\n",
    "- HDBSCAN(min_cluster_size=5)\n",
    "\n",
    "\n",
    "- TfidfVectorizer 사용 이유 : 단어의 빈도 뿐만 아니라, 그 단어가 전체 문서 집합에서 얼마나 중요한지를 고려하기에 토픽모델링 시에 해당 모델을 사용하는 것이 적합함.(문서 집합에서 단어의 출현 빈도만을 고려하는 CountVectorizer는 불용어까지 토픽 키워드로 선정할 수 있다고 판단.)\n",
    "- MaximalMarginalRelevance 사용 이유 : 토픽의 키워드를 통해 관련주를 찾아내야 하므로, 토픽 키워드를 추출하는 것이 정교해야 한다고 판단함. 또한 diversity를 0.2로 설정해 토픽과 관련된 키워드를 다소 다양하게 뽑고자 했음.(여러 번의 시행착오 결과 최적의 파라미터가 0.2라고 판단.)"
   ]
  },
  {
   "cell_type": "code",
   "execution_count": 108,
   "id": "vuCeoSeLaJy-",
   "metadata": {
    "id": "vuCeoSeLaJy-"
   },
   "outputs": [],
   "source": [
    "from umap.umap_ import UMAP"
   ]
  },
  {
   "cell_type": "code",
   "execution_count": 109,
   "id": "1c0c74b1",
   "metadata": {
    "id": "1c0c74b1"
   },
   "outputs": [],
   "source": [
    "def pipeline_models():\n",
    "    # UMAP 모델 정의\n",
    "    umap_model = UMAP(n_neighbors=8, min_dist=0.1, n_components=2, random_state=42, metric='cosine')\n",
    "\n",
    "    # HDBSCAN 모델 정의\n",
    "    hdbscan_model = hdbscan.HDBSCAN(min_cluster_size=5, metric='euclidean', cluster_selection_method='eom', prediction_data=True)\n",
    "\n",
    "    # TfidfVectorizer 모델 정의\n",
    "    vectorizer_model = TfidfVectorizer(tokenizer=tokenizer, stop_words=\"english\", ngram_range=(1, 2), min_df=2)\n",
    "\n",
    "    # MaximalMarginalRelevance 모델 정의\n",
    "    representation_model = MaximalMarginalRelevance(diversity=0.2)\n",
    "\n",
    "    return umap_model, hdbscan_model, vectorizer_model, representation_model\n",
    "\n",
    "# 모델 생성\n",
    "umap_model, hdbscan_model, vectorizer_model, representation_model = pipeline_models()"
   ]
  },
  {
   "cell_type": "code",
   "execution_count": 110,
   "id": "7ba35811",
   "metadata": {
    "id": "7ba35811"
   },
   "outputs": [],
   "source": [
    "def create_topic_model(embedding_model, umap_model, hdbscan_model, vectorizer_model, representation_model):\n",
    "    # BERTopic 모델 정의\n",
    "    topic_model = BERTopic(\n",
    "        # Pipeline models\n",
    "        embedding_model=embedding_model,\n",
    "        umap_model=umap_model,\n",
    "        hdbscan_model=hdbscan_model,\n",
    "        vectorizer_model=vectorizer_model,\n",
    "        representation_model=representation_model,\n",
    "        # Hyperparameters\n",
    "        top_n_words=10,\n",
    "        min_topic_size=5,\n",
    "        verbose=True\n",
    "    )\n",
    "\n",
    "    return topic_model\n",
    "\n",
    "# 모델 생성\n",
    "topic_model = create_topic_model(embedding_model, umap_model, hdbscan_model, vectorizer_model, representation_model)"
   ]
  },
  {
   "cell_type": "code",
   "execution_count": 111,
   "id": "ab3d6b26",
   "metadata": {
    "colab": {
     "base_uri": "https://localhost:8080/"
    },
    "id": "ab3d6b26",
    "outputId": "8fbf9a33-408e-4c7e-fe0d-31e8ff58820f"
   },
   "outputs": [
    {
     "name": "stderr",
     "output_type": "stream",
     "text": [
      "2023-10-15 22:16:06,996 - BERTopic - Reduced dimensionality\n",
      "2023-10-15 22:16:07,047 - BERTopic - Clustered reduced embeddings\n"
     ]
    }
   ],
   "source": [
    "topics, probs = topic_model.fit_transform(all_texts, embeddings)"
   ]
  },
  {
   "cell_type": "code",
   "execution_count": 112,
   "id": "66fbcbad",
   "metadata": {
    "id": "66fbcbad"
   },
   "outputs": [],
   "source": [
    "#share값과 토픽과 연관된 문장의 단어\n",
    "def get_topic_stats(topic_model):\n",
    "    topics_info_df = topic_model.get_topic_info().sort_values('Count', ascending = False)\n",
    "    topics_info_df['Share'] = 100.*topics_info_df['Count']/topics_info_df['Count'].sum()\n",
    "    topics_info_df['CumulativeShare'] = 100.*topics_info_df['Count'].cumsum()/topics_info_df['Count'].sum()\n",
    "    return topics_info_df[['Topic', 'Count', 'Share', 'CumulativeShare', 'Name', 'Representation']]"
   ]
  },
  {
   "cell_type": "code",
   "execution_count": 113,
   "id": "59d5d12a",
   "metadata": {
    "colab": {
     "base_uri": "https://localhost:8080/",
     "height": 1000
    },
    "id": "59d5d12a",
    "outputId": "638ea1e3-88dd-4220-ba0d-aadee5fcd8ef"
   },
   "outputs": [
    {
     "data": {
      "text/html": [
       "\n",
       "  <div id=\"df-52a3a21a-bbba-4a94-bbaa-9c293864304a\" class=\"colab-df-container\">\n",
       "    <div>\n",
       "<style scoped>\n",
       "    .dataframe tbody tr th:only-of-type {\n",
       "        vertical-align: middle;\n",
       "    }\n",
       "\n",
       "    .dataframe tbody tr th {\n",
       "        vertical-align: top;\n",
       "    }\n",
       "\n",
       "    .dataframe thead th {\n",
       "        text-align: right;\n",
       "    }\n",
       "</style>\n",
       "<table border=\"1\" class=\"dataframe\">\n",
       "  <thead>\n",
       "    <tr style=\"text-align: right;\">\n",
       "      <th></th>\n",
       "      <th>Count</th>\n",
       "      <th>Share</th>\n",
       "      <th>CumulativeShare</th>\n",
       "      <th>Name</th>\n",
       "      <th>Representation</th>\n",
       "    </tr>\n",
       "    <tr>\n",
       "      <th>Topic</th>\n",
       "      <th></th>\n",
       "      <th></th>\n",
       "      <th></th>\n",
       "      <th></th>\n",
       "      <th></th>\n",
       "    </tr>\n",
       "  </thead>\n",
       "  <tbody>\n",
       "    <tr>\n",
       "      <th>-1</th>\n",
       "      <td>128</td>\n",
       "      <td>20.779221</td>\n",
       "      <td>20.779221</td>\n",
       "      <td>-1_bitcoin_resume_oracle_market</td>\n",
       "      <td>[bitcoin, resume, oracle, market, sec, etf, ap...</td>\n",
       "    </tr>\n",
       "    <tr>\n",
       "      <th>0</th>\n",
       "      <td>34</td>\n",
       "      <td>5.519481</td>\n",
       "      <td>26.298701</td>\n",
       "      <td>0_analyst refinitiv_analyst_cramer_price target</td>\n",
       "      <td>[analyst refinitiv, analyst, cramer, price tar...</td>\n",
       "    </tr>\n",
       "    <tr>\n",
       "      <th>1</th>\n",
       "      <td>29</td>\n",
       "      <td>4.707792</td>\n",
       "      <td>31.006494</td>\n",
       "      <td>1_ai_chatgpt_google_ai model</td>\n",
       "      <td>[ai, chatgpt, google, ai model, openai, chatbo...</td>\n",
       "    </tr>\n",
       "    <tr>\n",
       "      <th>2</th>\n",
       "      <td>28</td>\n",
       "      <td>4.545455</td>\n",
       "      <td>35.551948</td>\n",
       "      <td>2_retailer_walmart_foot locker_merchandise</td>\n",
       "      <td>[retailer, walmart, foot locker, merchandise, ...</td>\n",
       "    </tr>\n",
       "    <tr>\n",
       "      <th>3</th>\n",
       "      <td>24</td>\n",
       "      <td>3.896104</td>\n",
       "      <td>39.448052</td>\n",
       "      <td>3_pfizer_vaccine_pharmacy_medication</td>\n",
       "      <td>[pfizer, vaccine, pharmacy, medication, obesit...</td>\n",
       "    </tr>\n",
       "    <tr>\n",
       "      <th>4</th>\n",
       "      <td>24</td>\n",
       "      <td>3.896104</td>\n",
       "      <td>43.344156</td>\n",
       "      <td>4_cnn_disney_microsoft_activision</td>\n",
       "      <td>[cnn, disney, microsoft, activision, espn, sal...</td>\n",
       "    </tr>\n",
       "    <tr>\n",
       "      <th>5</th>\n",
       "      <td>23</td>\n",
       "      <td>3.733766</td>\n",
       "      <td>47.077922</td>\n",
       "      <td>5_election_president donald_indictment_case</td>\n",
       "      <td>[election, president donald, indictment, case,...</td>\n",
       "    </tr>\n",
       "    <tr>\n",
       "      <th>6</th>\n",
       "      <td>21</td>\n",
       "      <td>3.409091</td>\n",
       "      <td>50.487013</td>\n",
       "      <td>6_iphone_apple_ipad_smartphone</td>\n",
       "      <td>[iphone, apple, ipad, smartphone, apple iphone...</td>\n",
       "    </tr>\n",
       "    <tr>\n",
       "      <th>7</th>\n",
       "      <td>20</td>\n",
       "      <td>3.246753</td>\n",
       "      <td>53.733766</td>\n",
       "      <td>7_playlist_schwartz_taylor_feedback</td>\n",
       "      <td>[playlist, schwartz, taylor, feedback, billion...</td>\n",
       "    </tr>\n",
       "    <tr>\n",
       "      <th>8</th>\n",
       "      <td>20</td>\n",
       "      <td>3.246753</td>\n",
       "      <td>56.980519</td>\n",
       "      <td>8_china_beijing_chinas_economist</td>\n",
       "      <td>[china, beijing, chinas, economist, yuan, peop...</td>\n",
       "    </tr>\n",
       "    <tr>\n",
       "      <th>9</th>\n",
       "      <td>18</td>\n",
       "      <td>2.922078</td>\n",
       "      <td>59.902597</td>\n",
       "      <td>9_twitter_musk_app_meta</td>\n",
       "      <td>[twitter, musk, app, meta, elon musk, fda, bot...</td>\n",
       "    </tr>\n",
       "    <tr>\n",
       "      <th>10</th>\n",
       "      <td>16</td>\n",
       "      <td>2.597403</td>\n",
       "      <td>62.500000</td>\n",
       "      <td>10_happiness_gate_harvard_brain</td>\n",
       "      <td>[happiness, gate, harvard, brain, lifestyle, p...</td>\n",
       "    </tr>\n",
       "    <tr>\n",
       "      <th>11</th>\n",
       "      <td>16</td>\n",
       "      <td>2.597403</td>\n",
       "      <td>65.097403</td>\n",
       "      <td>11_oil_vessel_port_sailing</td>\n",
       "      <td>[oil, vessel, port, sailing, coast, gulf, ocea...</td>\n",
       "    </tr>\n",
       "    <tr>\n",
       "      <th>12</th>\n",
       "      <td>15</td>\n",
       "      <td>2.435065</td>\n",
       "      <td>67.532468</td>\n",
       "      <td>12_inflation_ecb_european central_rate hike</td>\n",
       "      <td>[inflation, ecb, european central, rate hike, ...</td>\n",
       "    </tr>\n",
       "    <tr>\n",
       "      <th>13</th>\n",
       "      <td>15</td>\n",
       "      <td>2.435065</td>\n",
       "      <td>69.967532</td>\n",
       "      <td>13_climate_carbon_emission_gigawatt</td>\n",
       "      <td>[climate, carbon, emission, gigawatt, climate ...</td>\n",
       "    </tr>\n",
       "    <tr>\n",
       "      <th>14</th>\n",
       "      <td>15</td>\n",
       "      <td>2.435065</td>\n",
       "      <td>72.402597</td>\n",
       "      <td>14_debt_expense_finance_spending</td>\n",
       "      <td>[debt, expense, finance, spending, survey, car...</td>\n",
       "    </tr>\n",
       "    <tr>\n",
       "      <th>16</th>\n",
       "      <td>13</td>\n",
       "      <td>2.110390</td>\n",
       "      <td>74.512987</td>\n",
       "      <td>16_xpeng_yuan_malaysia_toyota</td>\n",
       "      <td>[xpeng, yuan, malaysia, toyota, tesla, volkswa...</td>\n",
       "    </tr>\n",
       "    <tr>\n",
       "      <th>15</th>\n",
       "      <td>13</td>\n",
       "      <td>2.110390</td>\n",
       "      <td>76.623377</td>\n",
       "      <td>15_rent_city_new york_housing</td>\n",
       "      <td>[rent, city, new york, housing, cost living, m...</td>\n",
       "    </tr>\n",
       "    <tr>\n",
       "      <th>18</th>\n",
       "      <td>12</td>\n",
       "      <td>1.948052</td>\n",
       "      <td>78.571429</td>\n",
       "      <td>18_hayes_menu_saudi_restaurant</td>\n",
       "      <td>[hayes, menu, saudi, restaurant, breakfast, or...</td>\n",
       "    </tr>\n",
       "    <tr>\n",
       "      <th>17</th>\n",
       "      <td>12</td>\n",
       "      <td>1.948052</td>\n",
       "      <td>80.519481</td>\n",
       "      <td>17_treasury_treasury yield_fed_inflation</td>\n",
       "      <td>[treasury, treasury yield, fed, inflation, bas...</td>\n",
       "    </tr>\n",
       "  </tbody>\n",
       "</table>\n",
       "</div>\n",
       "    <div class=\"colab-df-buttons\">\n",
       "\n",
       "  <div class=\"colab-df-container\">\n",
       "    <button class=\"colab-df-convert\" onclick=\"convertToInteractive('df-52a3a21a-bbba-4a94-bbaa-9c293864304a')\"\n",
       "            title=\"Convert this dataframe to an interactive table.\"\n",
       "            style=\"display:none;\">\n",
       "\n",
       "  <svg xmlns=\"http://www.w3.org/2000/svg\" height=\"24px\" viewBox=\"0 -960 960 960\">\n",
       "    <path d=\"M120-120v-720h720v720H120Zm60-500h600v-160H180v160Zm220 220h160v-160H400v160Zm0 220h160v-160H400v160ZM180-400h160v-160H180v160Zm440 0h160v-160H620v160ZM180-180h160v-160H180v160Zm440 0h160v-160H620v160Z\"/>\n",
       "  </svg>\n",
       "    </button>\n",
       "\n",
       "  <style>\n",
       "    .colab-df-container {\n",
       "      display:flex;\n",
       "      gap: 12px;\n",
       "    }\n",
       "\n",
       "    .colab-df-convert {\n",
       "      background-color: #E8F0FE;\n",
       "      border: none;\n",
       "      border-radius: 50%;\n",
       "      cursor: pointer;\n",
       "      display: none;\n",
       "      fill: #1967D2;\n",
       "      height: 32px;\n",
       "      padding: 0 0 0 0;\n",
       "      width: 32px;\n",
       "    }\n",
       "\n",
       "    .colab-df-convert:hover {\n",
       "      background-color: #E2EBFA;\n",
       "      box-shadow: 0px 1px 2px rgba(60, 64, 67, 0.3), 0px 1px 3px 1px rgba(60, 64, 67, 0.15);\n",
       "      fill: #174EA6;\n",
       "    }\n",
       "\n",
       "    .colab-df-buttons div {\n",
       "      margin-bottom: 4px;\n",
       "    }\n",
       "\n",
       "    [theme=dark] .colab-df-convert {\n",
       "      background-color: #3B4455;\n",
       "      fill: #D2E3FC;\n",
       "    }\n",
       "\n",
       "    [theme=dark] .colab-df-convert:hover {\n",
       "      background-color: #434B5C;\n",
       "      box-shadow: 0px 1px 3px 1px rgba(0, 0, 0, 0.15);\n",
       "      filter: drop-shadow(0px 1px 2px rgba(0, 0, 0, 0.3));\n",
       "      fill: #FFFFFF;\n",
       "    }\n",
       "  </style>\n",
       "\n",
       "    <script>\n",
       "      const buttonEl =\n",
       "        document.querySelector('#df-52a3a21a-bbba-4a94-bbaa-9c293864304a button.colab-df-convert');\n",
       "      buttonEl.style.display =\n",
       "        google.colab.kernel.accessAllowed ? 'block' : 'none';\n",
       "\n",
       "      async function convertToInteractive(key) {\n",
       "        const element = document.querySelector('#df-52a3a21a-bbba-4a94-bbaa-9c293864304a');\n",
       "        const dataTable =\n",
       "          await google.colab.kernel.invokeFunction('convertToInteractive',\n",
       "                                                    [key], {});\n",
       "        if (!dataTable) return;\n",
       "\n",
       "        const docLinkHtml = 'Like what you see? Visit the ' +\n",
       "          '<a target=\"_blank\" href=https://colab.research.google.com/notebooks/data_table.ipynb>data table notebook</a>'\n",
       "          + ' to learn more about interactive tables.';\n",
       "        element.innerHTML = '';\n",
       "        dataTable['output_type'] = 'display_data';\n",
       "        await google.colab.output.renderOutput(dataTable, element);\n",
       "        const docLink = document.createElement('div');\n",
       "        docLink.innerHTML = docLinkHtml;\n",
       "        element.appendChild(docLink);\n",
       "      }\n",
       "    </script>\n",
       "  </div>\n",
       "\n",
       "\n",
       "<div id=\"df-45d6a4f4-9924-438a-a676-98615a7c0d1f\">\n",
       "  <button class=\"colab-df-quickchart\" onclick=\"quickchart('df-45d6a4f4-9924-438a-a676-98615a7c0d1f')\"\n",
       "            title=\"Suggest charts.\"\n",
       "            style=\"display:none;\">\n",
       "\n",
       "<svg xmlns=\"http://www.w3.org/2000/svg\" height=\"24px\"viewBox=\"0 0 24 24\"\n",
       "     width=\"24px\">\n",
       "    <g>\n",
       "        <path d=\"M19 3H5c-1.1 0-2 .9-2 2v14c0 1.1.9 2 2 2h14c1.1 0 2-.9 2-2V5c0-1.1-.9-2-2-2zM9 17H7v-7h2v7zm4 0h-2V7h2v10zm4 0h-2v-4h2v4z\"/>\n",
       "    </g>\n",
       "</svg>\n",
       "  </button>\n",
       "\n",
       "<style>\n",
       "  .colab-df-quickchart {\n",
       "      --bg-color: #E8F0FE;\n",
       "      --fill-color: #1967D2;\n",
       "      --hover-bg-color: #E2EBFA;\n",
       "      --hover-fill-color: #174EA6;\n",
       "      --disabled-fill-color: #AAA;\n",
       "      --disabled-bg-color: #DDD;\n",
       "  }\n",
       "\n",
       "  [theme=dark] .colab-df-quickchart {\n",
       "      --bg-color: #3B4455;\n",
       "      --fill-color: #D2E3FC;\n",
       "      --hover-bg-color: #434B5C;\n",
       "      --hover-fill-color: #FFFFFF;\n",
       "      --disabled-bg-color: #3B4455;\n",
       "      --disabled-fill-color: #666;\n",
       "  }\n",
       "\n",
       "  .colab-df-quickchart {\n",
       "    background-color: var(--bg-color);\n",
       "    border: none;\n",
       "    border-radius: 50%;\n",
       "    cursor: pointer;\n",
       "    display: none;\n",
       "    fill: var(--fill-color);\n",
       "    height: 32px;\n",
       "    padding: 0;\n",
       "    width: 32px;\n",
       "  }\n",
       "\n",
       "  .colab-df-quickchart:hover {\n",
       "    background-color: var(--hover-bg-color);\n",
       "    box-shadow: 0 1px 2px rgba(60, 64, 67, 0.3), 0 1px 3px 1px rgba(60, 64, 67, 0.15);\n",
       "    fill: var(--button-hover-fill-color);\n",
       "  }\n",
       "\n",
       "  .colab-df-quickchart-complete:disabled,\n",
       "  .colab-df-quickchart-complete:disabled:hover {\n",
       "    background-color: var(--disabled-bg-color);\n",
       "    fill: var(--disabled-fill-color);\n",
       "    box-shadow: none;\n",
       "  }\n",
       "\n",
       "  .colab-df-spinner {\n",
       "    border: 2px solid var(--fill-color);\n",
       "    border-color: transparent;\n",
       "    border-bottom-color: var(--fill-color);\n",
       "    animation:\n",
       "      spin 1s steps(1) infinite;\n",
       "  }\n",
       "\n",
       "  @keyframes spin {\n",
       "    0% {\n",
       "      border-color: transparent;\n",
       "      border-bottom-color: var(--fill-color);\n",
       "      border-left-color: var(--fill-color);\n",
       "    }\n",
       "    20% {\n",
       "      border-color: transparent;\n",
       "      border-left-color: var(--fill-color);\n",
       "      border-top-color: var(--fill-color);\n",
       "    }\n",
       "    30% {\n",
       "      border-color: transparent;\n",
       "      border-left-color: var(--fill-color);\n",
       "      border-top-color: var(--fill-color);\n",
       "      border-right-color: var(--fill-color);\n",
       "    }\n",
       "    40% {\n",
       "      border-color: transparent;\n",
       "      border-right-color: var(--fill-color);\n",
       "      border-top-color: var(--fill-color);\n",
       "    }\n",
       "    60% {\n",
       "      border-color: transparent;\n",
       "      border-right-color: var(--fill-color);\n",
       "    }\n",
       "    80% {\n",
       "      border-color: transparent;\n",
       "      border-right-color: var(--fill-color);\n",
       "      border-bottom-color: var(--fill-color);\n",
       "    }\n",
       "    90% {\n",
       "      border-color: transparent;\n",
       "      border-bottom-color: var(--fill-color);\n",
       "    }\n",
       "  }\n",
       "</style>\n",
       "\n",
       "  <script>\n",
       "    async function quickchart(key) {\n",
       "      const quickchartButtonEl =\n",
       "        document.querySelector('#' + key + ' button');\n",
       "      quickchartButtonEl.disabled = true;  // To prevent multiple clicks.\n",
       "      quickchartButtonEl.classList.add('colab-df-spinner');\n",
       "      try {\n",
       "        const charts = await google.colab.kernel.invokeFunction(\n",
       "            'suggestCharts', [key], {});\n",
       "      } catch (error) {\n",
       "        console.error('Error during call to suggestCharts:', error);\n",
       "      }\n",
       "      quickchartButtonEl.classList.remove('colab-df-spinner');\n",
       "      quickchartButtonEl.classList.add('colab-df-quickchart-complete');\n",
       "    }\n",
       "    (() => {\n",
       "      let quickchartButtonEl =\n",
       "        document.querySelector('#df-45d6a4f4-9924-438a-a676-98615a7c0d1f button');\n",
       "      quickchartButtonEl.style.display =\n",
       "        google.colab.kernel.accessAllowed ? 'block' : 'none';\n",
       "    })();\n",
       "  </script>\n",
       "</div>\n",
       "    </div>\n",
       "  </div>\n"
      ],
      "text/plain": [
       "       Count      Share  CumulativeShare  \\\n",
       "Topic                                      \n",
       "-1       128  20.779221        20.779221   \n",
       " 0        34   5.519481        26.298701   \n",
       " 1        29   4.707792        31.006494   \n",
       " 2        28   4.545455        35.551948   \n",
       " 3        24   3.896104        39.448052   \n",
       " 4        24   3.896104        43.344156   \n",
       " 5        23   3.733766        47.077922   \n",
       " 6        21   3.409091        50.487013   \n",
       " 7        20   3.246753        53.733766   \n",
       " 8        20   3.246753        56.980519   \n",
       " 9        18   2.922078        59.902597   \n",
       " 10       16   2.597403        62.500000   \n",
       " 11       16   2.597403        65.097403   \n",
       " 12       15   2.435065        67.532468   \n",
       " 13       15   2.435065        69.967532   \n",
       " 14       15   2.435065        72.402597   \n",
       " 16       13   2.110390        74.512987   \n",
       " 15       13   2.110390        76.623377   \n",
       " 18       12   1.948052        78.571429   \n",
       " 17       12   1.948052        80.519481   \n",
       "\n",
       "                                                  Name  \\\n",
       "Topic                                                    \n",
       "-1                     -1_bitcoin_resume_oracle_market   \n",
       " 0     0_analyst refinitiv_analyst_cramer_price target   \n",
       " 1                        1_ai_chatgpt_google_ai model   \n",
       " 2          2_retailer_walmart_foot locker_merchandise   \n",
       " 3                3_pfizer_vaccine_pharmacy_medication   \n",
       " 4                   4_cnn_disney_microsoft_activision   \n",
       " 5         5_election_president donald_indictment_case   \n",
       " 6                      6_iphone_apple_ipad_smartphone   \n",
       " 7                 7_playlist_schwartz_taylor_feedback   \n",
       " 8                    8_china_beijing_chinas_economist   \n",
       " 9                             9_twitter_musk_app_meta   \n",
       " 10                    10_happiness_gate_harvard_brain   \n",
       " 11                         11_oil_vessel_port_sailing   \n",
       " 12        12_inflation_ecb_european central_rate hike   \n",
       " 13                13_climate_carbon_emission_gigawatt   \n",
       " 14                   14_debt_expense_finance_spending   \n",
       " 16                      16_xpeng_yuan_malaysia_toyota   \n",
       " 15                      15_rent_city_new york_housing   \n",
       " 18                     18_hayes_menu_saudi_restaurant   \n",
       " 17           17_treasury_treasury yield_fed_inflation   \n",
       "\n",
       "                                          Representation  \n",
       "Topic                                                     \n",
       "-1     [bitcoin, resume, oracle, market, sec, etf, ap...  \n",
       " 0     [analyst refinitiv, analyst, cramer, price tar...  \n",
       " 1     [ai, chatgpt, google, ai model, openai, chatbo...  \n",
       " 2     [retailer, walmart, foot locker, merchandise, ...  \n",
       " 3     [pfizer, vaccine, pharmacy, medication, obesit...  \n",
       " 4     [cnn, disney, microsoft, activision, espn, sal...  \n",
       " 5     [election, president donald, indictment, case,...  \n",
       " 6     [iphone, apple, ipad, smartphone, apple iphone...  \n",
       " 7     [playlist, schwartz, taylor, feedback, billion...  \n",
       " 8     [china, beijing, chinas, economist, yuan, peop...  \n",
       " 9     [twitter, musk, app, meta, elon musk, fda, bot...  \n",
       " 10    [happiness, gate, harvard, brain, lifestyle, p...  \n",
       " 11    [oil, vessel, port, sailing, coast, gulf, ocea...  \n",
       " 12    [inflation, ecb, european central, rate hike, ...  \n",
       " 13    [climate, carbon, emission, gigawatt, climate ...  \n",
       " 14    [debt, expense, finance, spending, survey, car...  \n",
       " 16    [xpeng, yuan, malaysia, toyota, tesla, volkswa...  \n",
       " 15    [rent, city, new york, housing, cost living, m...  \n",
       " 18    [hayes, menu, saudi, restaurant, breakfast, or...  \n",
       " 17    [treasury, treasury yield, fed, inflation, bas...  "
      ]
     },
     "execution_count": 113,
     "metadata": {},
     "output_type": "execute_result"
    }
   ],
   "source": [
    "#상위 20개 토픽 추출\n",
    "topic_stat = get_topic_stats(topic_model).head(20).set_index('Topic')\n",
    "topic_stat"
   ]
  },
  {
   "cell_type": "markdown",
   "id": "f7ef857a",
   "metadata": {
    "id": "f7ef857a"
   },
   "source": [
    "### 기술 관련 토픽의 키워드 확인\n",
    "- 토픽을 확인해본 결과, 토픽 0, 3, 6, 11, 15이 기술과 관련이 있다고 판단함"
   ]
  },
  {
   "cell_type": "code",
   "execution_count": 114,
   "id": "99acaafc",
   "metadata": {
    "colab": {
     "base_uri": "https://localhost:8080/"
    },
    "id": "99acaafc",
    "outputId": "07446258-ddc5-4613-b39f-e3a00c431109"
   },
   "outputs": [
    {
     "data": {
      "text/plain": [
       "[('analyst refinitiv', 0.03372675178059123),\n",
       " ('analyst', 0.03358069195842215),\n",
       " ('cramer', 0.029788355301943913),\n",
       " ('price target', 0.02431798295350915),\n",
       " ('cent analyst', 0.02416615560766607),\n",
       " ('analyst factset', 0.01646362837866513),\n",
       " ('wall street', 0.01471902800971651),\n",
       " ('nvidia', 0.0134541032796249),\n",
       " ('refinitiv cent', 0.01326958911577641),\n",
       " ('trade alert', 0.013018680675714253)]"
      ]
     },
     "execution_count": 114,
     "metadata": {},
     "output_type": "execute_result"
    }
   ],
   "source": [
    "topic_model.get_topic(0)"
   ]
  },
  {
   "cell_type": "code",
   "execution_count": 115,
   "id": "9c9c5f4d",
   "metadata": {
    "colab": {
     "base_uri": "https://localhost:8080/"
    },
    "id": "9c9c5f4d",
    "outputId": "a2706285-1003-4fad-b3cf-5db6044df842"
   },
   "outputs": [
    {
     "data": {
      "text/plain": [
       "[('pfizer', 0.03984946568083507),\n",
       " ('vaccine', 0.036666046213431495),\n",
       " ('pharmacy', 0.031354301864470226),\n",
       " ('medication', 0.031088154769561154),\n",
       " ('obesity', 0.02947804525251283),\n",
       " ('novo', 0.023910544694010386),\n",
       " ('cvs', 0.02173974013150382),\n",
       " ('telegram', 0.020354560583392255),\n",
       " ('marketplace', 0.020174584958086234),\n",
       " ('covid', 0.017711835197507627)]"
      ]
     },
     "execution_count": 115,
     "metadata": {},
     "output_type": "execute_result"
    }
   ],
   "source": [
    "topic_model.get_topic(3)"
   ]
  },
  {
   "cell_type": "code",
   "execution_count": 116,
   "id": "ae9792ae",
   "metadata": {
    "colab": {
     "base_uri": "https://localhost:8080/"
    },
    "id": "ae9792ae",
    "outputId": "a0c7d067-1181-4352-c6b2-946e043eb5d4"
   },
   "outputs": [
    {
     "data": {
      "text/plain": [
       "[('iphone', 0.12257195997513622),\n",
       " ('apple', 0.106950452167445),\n",
       " ('ipad', 0.04105567881255938),\n",
       " ('smartphone', 0.040866859685472635),\n",
       " ('apple iphone', 0.035399444958679),\n",
       " ('huawei', 0.03232852302698514),\n",
       " ('device', 0.03137481122840396),\n",
       " ('tablet', 0.02255925250547163),\n",
       " ('android', 0.02098821779092229),\n",
       " ('iphone model', 0.019903119080530076)]"
      ]
     },
     "execution_count": 116,
     "metadata": {},
     "output_type": "execute_result"
    }
   ],
   "source": [
    "topic_model.get_topic(6)"
   ]
  },
  {
   "cell_type": "code",
   "execution_count": 117,
   "id": "8236a456",
   "metadata": {
    "colab": {
     "base_uri": "https://localhost:8080/"
    },
    "id": "8236a456",
    "outputId": "0db10dc2-46c5-42f4-b127-388df29d3a6f"
   },
   "outputs": [
    {
     "data": {
      "text/plain": [
       "[('oil', 0.0765774770724255),\n",
       " ('vessel', 0.07464874138775855),\n",
       " ('port', 0.02821272545509403),\n",
       " ('sailing', 0.02493859355202305),\n",
       " ('coast', 0.02378349325924912),\n",
       " ('gulf', 0.021537729715534585),\n",
       " ('ocean', 0.01934077079955524),\n",
       " ('el niño', 0.019109865744352927),\n",
       " ('waterway', 0.018559762799953514),\n",
       " ('supply', 0.01829513187074302)]"
      ]
     },
     "execution_count": 117,
     "metadata": {},
     "output_type": "execute_result"
    }
   ],
   "source": [
    "topic_model.get_topic(11)"
   ]
  },
  {
   "cell_type": "code",
   "execution_count": 118,
   "id": "435d9fbb",
   "metadata": {
    "colab": {
     "base_uri": "https://localhost:8080/"
    },
    "id": "435d9fbb",
    "outputId": "dfa756c5-8e77-4fdf-f52d-52821c189008"
   },
   "outputs": [
    {
     "data": {
      "text/plain": [
       "[('rent', 0.06075332393046261),\n",
       " ('city', 0.048954732448530394),\n",
       " ('new york', 0.034744671447512525),\n",
       " ('housing', 0.034673745873007096),\n",
       " ('cost living', 0.034558645706768726),\n",
       " ('median', 0.0341092208218325),\n",
       " ('apartment', 0.028312383664619207),\n",
       " ('home price', 0.026276175593222588),\n",
       " ('california', 0.025645654719534255),\n",
       " ('angeles', 0.022325803145221985)]"
      ]
     },
     "execution_count": 118,
     "metadata": {},
     "output_type": "execute_result"
    }
   ],
   "source": [
    "topic_model.get_topic(15)"
   ]
  },
  {
   "cell_type": "code",
   "execution_count": 171,
   "id": "nLFcSOYfhII5",
   "metadata": {
    "id": "nLFcSOYfhII5"
   },
   "outputs": [],
   "source": [
    "import plotly"
   ]
  },
  {
   "cell_type": "code",
   "execution_count": 170,
   "id": "dc3eba70",
   "metadata": {
    "colab": {
     "base_uri": "https://localhost:8080/",
     "height": 732
    },
    "id": "dc3eba70",
    "outputId": "2ccf4a5d-d398-4d47-92b4-cb71419cb560"
   },
   "outputs": [
    {
     "data": {
      "text/html": [
       "<div>                            <div id=\"78b71b86-2bba-4e16-ae61-0d23aad911cc\" class=\"plotly-graph-div\" style=\"height:695px; width:1000px;\"></div>            <script type=\"text/javascript\">                require([\"plotly\"], function(Plotly) {                    window.PLOTLYENV=window.PLOTLYENV || {};                                    if (document.getElementById(\"78b71b86-2bba-4e16-ae61-0d23aad911cc\")) {                    Plotly.newPlot(                        \"78b71b86-2bba-4e16-ae61-0d23aad911cc\",                        [{\"hoverinfo\":\"text\",\"marker\":{\"color\":\"rgb(61,153,112)\"},\"mode\":\"lines\",\"x\":[0.0,0.8841028444752573,0.8841028444752573,0.0],\"xaxis\":\"x\",\"y\":[-5.0,-5.0,-15.0,-15.0],\"yaxis\":\"y\",\"type\":\"scatter\"},{\"hoverinfo\":\"text\",\"marker\":{\"color\":\"rgb(61,153,112)\"},\"mode\":\"lines\",\"x\":[0.0,0.5774662436406067,0.5774662436406067,0.0],\"xaxis\":\"x\",\"y\":[-25.0,-25.0,-35.0,-35.0],\"yaxis\":\"y\",\"type\":\"scatter\"},{\"hoverinfo\":\"text\",\"marker\":{\"color\":\"rgb(61,153,112)\"},\"mode\":\"lines\",\"x\":[0.5774662436406067,0.7815111350122778,0.7815111350122778,0.0],\"xaxis\":\"x\",\"y\":[-30.0,-30.0,-45.0,-45.0],\"yaxis\":\"y\",\"type\":\"scatter\"},{\"hoverinfo\":\"text\",\"marker\":{\"color\":\"rgb(61,153,112)\"},\"mode\":\"lines\",\"x\":[0.8841028444752573,0.949618053224419,0.949618053224419,0.7815111350122778],\"xaxis\":\"x\",\"y\":[-10.0,-10.0,-37.5,-37.5],\"yaxis\":\"y\",\"type\":\"scatter\"},{\"hoverinfo\":\"text\",\"marker\":{\"color\":\"rgb(255,65,54)\"},\"mode\":\"lines\",\"x\":[0.0,0.806975329418629,0.806975329418629,0.0],\"xaxis\":\"x\",\"y\":[-65.0,-65.0,-75.0,-75.0],\"yaxis\":\"y\",\"type\":\"scatter\"},{\"hoverinfo\":\"text\",\"marker\":{\"color\":\"rgb(255,65,54)\"},\"mode\":\"lines\",\"x\":[0.0,0.8593571538951111,0.8593571538951111,0.806975329418629],\"xaxis\":\"x\",\"y\":[-55.0,-55.0,-70.0,-70.0],\"yaxis\":\"y\",\"type\":\"scatter\"},{\"hoverinfo\":\"text\",\"marker\":{\"color\":\"rgb(0,116,217)\"},\"mode\":\"lines\",\"x\":[0.949618053224419,1.0523572921077207,1.0523572921077207,0.8593571538951111],\"xaxis\":\"x\",\"y\":[-23.75,-23.75,-62.5,-62.5],\"yaxis\":\"y\",\"type\":\"scatter\"},{\"hoverinfo\":\"text\",\"marker\":{\"color\":\"rgb(35,205,205)\"},\"mode\":\"lines\",\"x\":[0.0,0.7949047775317694,0.7949047775317694,0.0],\"xaxis\":\"x\",\"y\":[-85.0,-85.0,-95.0,-95.0],\"yaxis\":\"y\",\"type\":\"scatter\"},{\"hoverinfo\":\"text\",\"marker\":{\"color\":\"rgb(35,205,205)\"},\"mode\":\"lines\",\"x\":[0.7949047775317694,0.8642168077789292,0.8642168077789292,0.0],\"xaxis\":\"x\",\"y\":[-90.0,-90.0,-105.0,-105.0],\"yaxis\":\"y\",\"type\":\"scatter\"},{\"hoverinfo\":\"text\",\"marker\":{\"color\":\"rgb(133,20,75)\"},\"mode\":\"lines\",\"x\":[0.0,0.7147744423803191,0.7147744423803191,0.0],\"xaxis\":\"x\",\"y\":[-125.0,-125.0,-135.0,-135.0],\"yaxis\":\"y\",\"type\":\"scatter\"},{\"hoverinfo\":\"text\",\"marker\":{\"color\":\"rgb(133,20,75)\"},\"mode\":\"lines\",\"x\":[0.7147744423803191,0.8917505559337877,0.8917505559337877,0.0],\"xaxis\":\"x\",\"y\":[-130.0,-130.0,-145.0,-145.0],\"yaxis\":\"y\",\"type\":\"scatter\"},{\"hoverinfo\":\"text\",\"marker\":{\"color\":\"rgb(133,20,75)\"},\"mode\":\"lines\",\"x\":[0.0,0.9151905801138612,0.9151905801138612,0.8917505559337877],\"xaxis\":\"x\",\"y\":[-115.0,-115.0,-137.5,-137.5],\"yaxis\":\"y\",\"type\":\"scatter\"},{\"hoverinfo\":\"text\",\"marker\":{\"color\":\"rgb(255,220,0)\"},\"mode\":\"lines\",\"x\":[0.0,0.6711549314725171,0.6711549314725171,0.0],\"xaxis\":\"x\",\"y\":[-155.0,-155.0,-165.0,-165.0],\"yaxis\":\"y\",\"type\":\"scatter\"},{\"hoverinfo\":\"text\",\"marker\":{\"color\":\"rgb(255,220,0)\"},\"mode\":\"lines\",\"x\":[0.6711549314725171,0.8952238715473233,0.8952238715473233,0.0],\"xaxis\":\"x\",\"y\":[-160.0,-160.0,-175.0,-175.0],\"yaxis\":\"y\",\"type\":\"scatter\"},{\"hoverinfo\":\"text\",\"marker\":{\"color\":\"rgb(0,116,217)\"},\"mode\":\"lines\",\"x\":[0.9151905801138612,1.0568364250859832,1.0568364250859832,0.8952238715473233],\"xaxis\":\"x\",\"y\":[-126.25,-126.25,-167.5,-167.5],\"yaxis\":\"y\",\"type\":\"scatter\"},{\"hoverinfo\":\"text\",\"marker\":{\"color\":\"rgb(0,116,217)\"},\"mode\":\"lines\",\"x\":[0.8642168077789292,1.1350761648130665,1.1350761648130665,1.0568364250859832],\"xaxis\":\"x\",\"y\":[-97.5,-97.5,-146.875,-146.875],\"yaxis\":\"y\",\"type\":\"scatter\"},{\"hoverinfo\":\"text\",\"marker\":{\"color\":\"rgb(40,35,35)\"},\"mode\":\"lines\",\"x\":[0.0,0.7334311607409165,0.7334311607409165,0.0],\"xaxis\":\"x\",\"y\":[-195.0,-195.0,-205.0,-205.0],\"yaxis\":\"y\",\"type\":\"scatter\"},{\"hoverinfo\":\"text\",\"marker\":{\"color\":\"rgb(40,35,35)\"},\"mode\":\"lines\",\"x\":[0.7334311607409165,0.875712555210674,0.875712555210674,0.0],\"xaxis\":\"x\",\"y\":[-200.0,-200.0,-215.0,-215.0],\"yaxis\":\"y\",\"type\":\"scatter\"},{\"hoverinfo\":\"text\",\"marker\":{\"color\":\"rgb(40,35,35)\"},\"mode\":\"lines\",\"x\":[0.0,0.9192512007510628,0.9192512007510628,0.875712555210674],\"xaxis\":\"x\",\"y\":[-185.0,-185.0,-207.5,-207.5],\"yaxis\":\"y\",\"type\":\"scatter\"},{\"hoverinfo\":\"text\",\"marker\":{\"color\":\"rgb(61,153,112)\"},\"mode\":\"lines\",\"x\":[0.0,0.6878398745815599,0.6878398745815599,0.0],\"xaxis\":\"x\",\"y\":[-225.0,-225.0,-235.0,-235.0],\"yaxis\":\"y\",\"type\":\"scatter\"},{\"hoverinfo\":\"text\",\"marker\":{\"color\":\"rgb(0,116,217)\"},\"mode\":\"lines\",\"x\":[0.9192512007510628,1.1561713058890988,1.1561713058890988,0.6878398745815599],\"xaxis\":\"x\",\"y\":[-196.25,-196.25,-230.0,-230.0],\"yaxis\":\"y\",\"type\":\"scatter\"},{\"hoverinfo\":\"text\",\"marker\":{\"color\":\"rgb(0,116,217)\"},\"mode\":\"lines\",\"x\":[1.1350761648130665,1.199016325773335,1.199016325773335,1.1561713058890988],\"xaxis\":\"x\",\"y\":[-122.1875,-122.1875,-213.125,-213.125],\"yaxis\":\"y\",\"type\":\"scatter\"},{\"hoverinfo\":\"text\",\"marker\":{\"color\":\"rgb(255,65,54)\"},\"mode\":\"lines\",\"x\":[0.0,0.7276877399670185,0.7276877399670185,0.0],\"xaxis\":\"x\",\"y\":[-255.0,-255.0,-265.0,-265.0],\"yaxis\":\"y\",\"type\":\"scatter\"},{\"hoverinfo\":\"text\",\"marker\":{\"color\":\"rgb(255,65,54)\"},\"mode\":\"lines\",\"x\":[0.7276877399670185,0.8814708374754108,0.8814708374754108,0.0],\"xaxis\":\"x\",\"y\":[-260.0,-260.0,-275.0,-275.0],\"yaxis\":\"y\",\"type\":\"scatter\"},{\"hoverinfo\":\"text\",\"marker\":{\"color\":\"rgb(255,65,54)\"},\"mode\":\"lines\",\"x\":[0.0,0.9736458081543203,0.9736458081543203,0.8814708374754108],\"xaxis\":\"x\",\"y\":[-245.0,-245.0,-267.5,-267.5],\"yaxis\":\"y\",\"type\":\"scatter\"},{\"hoverinfo\":\"text\",\"marker\":{\"color\":\"rgb(35,205,205)\"},\"mode\":\"lines\",\"x\":[0.0,0.8152650415761891,0.8152650415761891,0.0],\"xaxis\":\"x\",\"y\":[-295.0,-295.0,-305.0,-305.0],\"yaxis\":\"y\",\"type\":\"scatter\"},{\"hoverinfo\":\"text\",\"marker\":{\"color\":\"rgb(35,205,205)\"},\"mode\":\"lines\",\"x\":[0.0,0.9380851146619827,0.9380851146619827,0.8152650415761891],\"xaxis\":\"x\",\"y\":[-285.0,-285.0,-300.0,-300.0],\"yaxis\":\"y\",\"type\":\"scatter\"},{\"hoverinfo\":\"text\",\"marker\":{\"color\":\"rgb(0,116,217)\"},\"mode\":\"lines\",\"x\":[0.9736458081543203,1.0131601850991205,1.0131601850991205,0.9380851146619827],\"xaxis\":\"x\",\"y\":[-256.25,-256.25,-292.5,-292.5],\"yaxis\":\"y\",\"type\":\"scatter\"},{\"hoverinfo\":\"text\",\"marker\":{\"color\":\"rgb(61,153,112)\"},\"mode\":\"lines\",\"x\":[0.0,0.6295604608592843,0.6295604608592843,0.0],\"xaxis\":\"x\",\"y\":[-315.0,-315.0,-325.0,-325.0],\"yaxis\":\"y\",\"type\":\"scatter\"},{\"hoverinfo\":\"text\",\"marker\":{\"color\":\"rgb(0,116,217)\"},\"mode\":\"lines\",\"x\":[1.0131601850991205,1.1056085214807554,1.1056085214807554,0.6295604608592843],\"xaxis\":\"x\",\"y\":[-274.375,-274.375,-320.0,-320.0],\"yaxis\":\"y\",\"type\":\"scatter\"},{\"hoverinfo\":\"text\",\"marker\":{\"color\":\"rgb(0,116,217)\"},\"mode\":\"lines\",\"x\":[1.199016325773335,1.217879527515029,1.217879527515029,1.1056085214807554],\"xaxis\":\"x\",\"y\":[-167.65625,-167.65625,-297.1875,-297.1875],\"yaxis\":\"y\",\"type\":\"scatter\"},{\"hoverinfo\":\"text\",\"marker\":{\"color\":\"rgb(0,116,217)\"},\"mode\":\"lines\",\"x\":[1.0523572921077207,1.3337791895667264,1.3337791895667264,1.217879527515029],\"xaxis\":\"x\",\"y\":[-43.125,-43.125,-232.421875,-232.421875],\"yaxis\":\"y\",\"type\":\"scatter\"}],                        {\"autosize\":false,\"height\":695,\"hovermode\":\"closest\",\"showlegend\":false,\"width\":1000,\"xaxis\":{\"mirror\":\"allticks\",\"rangemode\":\"tozero\",\"showgrid\":false,\"showline\":true,\"showticklabels\":true,\"ticks\":\"outside\",\"type\":\"linear\",\"zeroline\":false},\"yaxis\":{\"mirror\":\"allticks\",\"rangemode\":\"tozero\",\"showgrid\":false,\"showline\":true,\"showticklabels\":true,\"tickmode\":\"array\",\"ticks\":\"outside\",\"ticktext\":[\"27_retirement_bernstein_por...\",\"22_downgrade_rating_credit ...\",\"17_treasury_treasury yield_...\",\"12_inflation_ecb_european c...\",\"30_index_europe_euro zone\",\"20_recession_labor market_j...\",\"13_debt_expense_saving\",\"16_rent_city_housing\",\"32_uaw_tesla_truck\",\"15_xpeng_yuan_malaysia\",\"19_cruise_vehicle_san\",\"6_iphone_apple_smartphone\",\"23_aws_nvidia_gpu\",\"2_ai_chatgpt_google\",\"4_cnn_disney_microsoft\",\"3_retailer_walmart_foot loc...\",\"0_analyst refinitiv_price t...\",\"28_space_spacecraft_boeing\",\"29_stablecoin_crypto_bitcoin\",\"24_tornado_prosecutor_sanct...\",\"5_election_president donald...\",\"9_twitter_musk_spacex\",\"7_playlist_schwartz_taylor\",\"10_happiness_gate_harvard\",\"31_maui_lahaina_hawaii\",\"11_oil_vessel_port\",\"14_climate_energy_emission\",\"25_champagne_indias_thailand\",\"26_xie_tariff_secretary\",\"1_bric_russia_ukraine\",\"18_hayes_menu_restaurant\",\"8_china_beijing_chinas\",\"21_property sector_chinas_h...\"],\"tickvals\":[-5.0,-15.0,-25.0,-35.0,-45.0,-55.0,-65.0,-75.0,-85.0,-95.0,-105.0,-115.0,-125.0,-135.0,-145.0,-155.0,-165.0,-175.0,-185.0,-195.0,-205.0,-215.0,-225.0,-235.0,-245.0,-255.0,-265.0,-275.0,-285.0,-295.0,-305.0,-315.0,-325.0],\"type\":\"linear\",\"zeroline\":false,\"range\":[-330.0,0.0]},\"template\":{\"data\":{\"barpolar\":[{\"marker\":{\"line\":{\"color\":\"white\",\"width\":0.5},\"pattern\":{\"fillmode\":\"overlay\",\"size\":10,\"solidity\":0.2}},\"type\":\"barpolar\"}],\"bar\":[{\"error_x\":{\"color\":\"#2a3f5f\"},\"error_y\":{\"color\":\"#2a3f5f\"},\"marker\":{\"line\":{\"color\":\"white\",\"width\":0.5},\"pattern\":{\"fillmode\":\"overlay\",\"size\":10,\"solidity\":0.2}},\"type\":\"bar\"}],\"carpet\":[{\"aaxis\":{\"endlinecolor\":\"#2a3f5f\",\"gridcolor\":\"#C8D4E3\",\"linecolor\":\"#C8D4E3\",\"minorgridcolor\":\"#C8D4E3\",\"startlinecolor\":\"#2a3f5f\"},\"baxis\":{\"endlinecolor\":\"#2a3f5f\",\"gridcolor\":\"#C8D4E3\",\"linecolor\":\"#C8D4E3\",\"minorgridcolor\":\"#C8D4E3\",\"startlinecolor\":\"#2a3f5f\"},\"type\":\"carpet\"}],\"choropleth\":[{\"colorbar\":{\"outlinewidth\":0,\"ticks\":\"\"},\"type\":\"choropleth\"}],\"contourcarpet\":[{\"colorbar\":{\"outlinewidth\":0,\"ticks\":\"\"},\"type\":\"contourcarpet\"}],\"contour\":[{\"colorbar\":{\"outlinewidth\":0,\"ticks\":\"\"},\"colorscale\":[[0.0,\"#0d0887\"],[0.1111111111111111,\"#46039f\"],[0.2222222222222222,\"#7201a8\"],[0.3333333333333333,\"#9c179e\"],[0.4444444444444444,\"#bd3786\"],[0.5555555555555556,\"#d8576b\"],[0.6666666666666666,\"#ed7953\"],[0.7777777777777778,\"#fb9f3a\"],[0.8888888888888888,\"#fdca26\"],[1.0,\"#f0f921\"]],\"type\":\"contour\"}],\"heatmapgl\":[{\"colorbar\":{\"outlinewidth\":0,\"ticks\":\"\"},\"colorscale\":[[0.0,\"#0d0887\"],[0.1111111111111111,\"#46039f\"],[0.2222222222222222,\"#7201a8\"],[0.3333333333333333,\"#9c179e\"],[0.4444444444444444,\"#bd3786\"],[0.5555555555555556,\"#d8576b\"],[0.6666666666666666,\"#ed7953\"],[0.7777777777777778,\"#fb9f3a\"],[0.8888888888888888,\"#fdca26\"],[1.0,\"#f0f921\"]],\"type\":\"heatmapgl\"}],\"heatmap\":[{\"colorbar\":{\"outlinewidth\":0,\"ticks\":\"\"},\"colorscale\":[[0.0,\"#0d0887\"],[0.1111111111111111,\"#46039f\"],[0.2222222222222222,\"#7201a8\"],[0.3333333333333333,\"#9c179e\"],[0.4444444444444444,\"#bd3786\"],[0.5555555555555556,\"#d8576b\"],[0.6666666666666666,\"#ed7953\"],[0.7777777777777778,\"#fb9f3a\"],[0.8888888888888888,\"#fdca26\"],[1.0,\"#f0f921\"]],\"type\":\"heatmap\"}],\"histogram2dcontour\":[{\"colorbar\":{\"outlinewidth\":0,\"ticks\":\"\"},\"colorscale\":[[0.0,\"#0d0887\"],[0.1111111111111111,\"#46039f\"],[0.2222222222222222,\"#7201a8\"],[0.3333333333333333,\"#9c179e\"],[0.4444444444444444,\"#bd3786\"],[0.5555555555555556,\"#d8576b\"],[0.6666666666666666,\"#ed7953\"],[0.7777777777777778,\"#fb9f3a\"],[0.8888888888888888,\"#fdca26\"],[1.0,\"#f0f921\"]],\"type\":\"histogram2dcontour\"}],\"histogram2d\":[{\"colorbar\":{\"outlinewidth\":0,\"ticks\":\"\"},\"colorscale\":[[0.0,\"#0d0887\"],[0.1111111111111111,\"#46039f\"],[0.2222222222222222,\"#7201a8\"],[0.3333333333333333,\"#9c179e\"],[0.4444444444444444,\"#bd3786\"],[0.5555555555555556,\"#d8576b\"],[0.6666666666666666,\"#ed7953\"],[0.7777777777777778,\"#fb9f3a\"],[0.8888888888888888,\"#fdca26\"],[1.0,\"#f0f921\"]],\"type\":\"histogram2d\"}],\"histogram\":[{\"marker\":{\"pattern\":{\"fillmode\":\"overlay\",\"size\":10,\"solidity\":0.2}},\"type\":\"histogram\"}],\"mesh3d\":[{\"colorbar\":{\"outlinewidth\":0,\"ticks\":\"\"},\"type\":\"mesh3d\"}],\"parcoords\":[{\"line\":{\"colorbar\":{\"outlinewidth\":0,\"ticks\":\"\"}},\"type\":\"parcoords\"}],\"pie\":[{\"automargin\":true,\"type\":\"pie\"}],\"scatter3d\":[{\"line\":{\"colorbar\":{\"outlinewidth\":0,\"ticks\":\"\"}},\"marker\":{\"colorbar\":{\"outlinewidth\":0,\"ticks\":\"\"}},\"type\":\"scatter3d\"}],\"scattercarpet\":[{\"marker\":{\"colorbar\":{\"outlinewidth\":0,\"ticks\":\"\"}},\"type\":\"scattercarpet\"}],\"scattergeo\":[{\"marker\":{\"colorbar\":{\"outlinewidth\":0,\"ticks\":\"\"}},\"type\":\"scattergeo\"}],\"scattergl\":[{\"marker\":{\"colorbar\":{\"outlinewidth\":0,\"ticks\":\"\"}},\"type\":\"scattergl\"}],\"scattermapbox\":[{\"marker\":{\"colorbar\":{\"outlinewidth\":0,\"ticks\":\"\"}},\"type\":\"scattermapbox\"}],\"scatterpolargl\":[{\"marker\":{\"colorbar\":{\"outlinewidth\":0,\"ticks\":\"\"}},\"type\":\"scatterpolargl\"}],\"scatterpolar\":[{\"marker\":{\"colorbar\":{\"outlinewidth\":0,\"ticks\":\"\"}},\"type\":\"scatterpolar\"}],\"scatter\":[{\"fillpattern\":{\"fillmode\":\"overlay\",\"size\":10,\"solidity\":0.2},\"type\":\"scatter\"}],\"scatterternary\":[{\"marker\":{\"colorbar\":{\"outlinewidth\":0,\"ticks\":\"\"}},\"type\":\"scatterternary\"}],\"surface\":[{\"colorbar\":{\"outlinewidth\":0,\"ticks\":\"\"},\"colorscale\":[[0.0,\"#0d0887\"],[0.1111111111111111,\"#46039f\"],[0.2222222222222222,\"#7201a8\"],[0.3333333333333333,\"#9c179e\"],[0.4444444444444444,\"#bd3786\"],[0.5555555555555556,\"#d8576b\"],[0.6666666666666666,\"#ed7953\"],[0.7777777777777778,\"#fb9f3a\"],[0.8888888888888888,\"#fdca26\"],[1.0,\"#f0f921\"]],\"type\":\"surface\"}],\"table\":[{\"cells\":{\"fill\":{\"color\":\"#EBF0F8\"},\"line\":{\"color\":\"white\"}},\"header\":{\"fill\":{\"color\":\"#C8D4E3\"},\"line\":{\"color\":\"white\"}},\"type\":\"table\"}]},\"layout\":{\"annotationdefaults\":{\"arrowcolor\":\"#2a3f5f\",\"arrowhead\":0,\"arrowwidth\":1},\"autotypenumbers\":\"strict\",\"coloraxis\":{\"colorbar\":{\"outlinewidth\":0,\"ticks\":\"\"}},\"colorscale\":{\"diverging\":[[0,\"#8e0152\"],[0.1,\"#c51b7d\"],[0.2,\"#de77ae\"],[0.3,\"#f1b6da\"],[0.4,\"#fde0ef\"],[0.5,\"#f7f7f7\"],[0.6,\"#e6f5d0\"],[0.7,\"#b8e186\"],[0.8,\"#7fbc41\"],[0.9,\"#4d9221\"],[1,\"#276419\"]],\"sequential\":[[0.0,\"#0d0887\"],[0.1111111111111111,\"#46039f\"],[0.2222222222222222,\"#7201a8\"],[0.3333333333333333,\"#9c179e\"],[0.4444444444444444,\"#bd3786\"],[0.5555555555555556,\"#d8576b\"],[0.6666666666666666,\"#ed7953\"],[0.7777777777777778,\"#fb9f3a\"],[0.8888888888888888,\"#fdca26\"],[1.0,\"#f0f921\"]],\"sequentialminus\":[[0.0,\"#0d0887\"],[0.1111111111111111,\"#46039f\"],[0.2222222222222222,\"#7201a8\"],[0.3333333333333333,\"#9c179e\"],[0.4444444444444444,\"#bd3786\"],[0.5555555555555556,\"#d8576b\"],[0.6666666666666666,\"#ed7953\"],[0.7777777777777778,\"#fb9f3a\"],[0.8888888888888888,\"#fdca26\"],[1.0,\"#f0f921\"]]},\"colorway\":[\"#636efa\",\"#EF553B\",\"#00cc96\",\"#ab63fa\",\"#FFA15A\",\"#19d3f3\",\"#FF6692\",\"#B6E880\",\"#FF97FF\",\"#FECB52\"],\"font\":{\"color\":\"#2a3f5f\"},\"geo\":{\"bgcolor\":\"white\",\"lakecolor\":\"white\",\"landcolor\":\"white\",\"showlakes\":true,\"showland\":true,\"subunitcolor\":\"#C8D4E3\"},\"hoverlabel\":{\"align\":\"left\"},\"hovermode\":\"closest\",\"mapbox\":{\"style\":\"light\"},\"paper_bgcolor\":\"white\",\"plot_bgcolor\":\"white\",\"polar\":{\"angularaxis\":{\"gridcolor\":\"#EBF0F8\",\"linecolor\":\"#EBF0F8\",\"ticks\":\"\"},\"bgcolor\":\"white\",\"radialaxis\":{\"gridcolor\":\"#EBF0F8\",\"linecolor\":\"#EBF0F8\",\"ticks\":\"\"}},\"scene\":{\"xaxis\":{\"backgroundcolor\":\"white\",\"gridcolor\":\"#DFE8F3\",\"gridwidth\":2,\"linecolor\":\"#EBF0F8\",\"showbackground\":true,\"ticks\":\"\",\"zerolinecolor\":\"#EBF0F8\"},\"yaxis\":{\"backgroundcolor\":\"white\",\"gridcolor\":\"#DFE8F3\",\"gridwidth\":2,\"linecolor\":\"#EBF0F8\",\"showbackground\":true,\"ticks\":\"\",\"zerolinecolor\":\"#EBF0F8\"},\"zaxis\":{\"backgroundcolor\":\"white\",\"gridcolor\":\"#DFE8F3\",\"gridwidth\":2,\"linecolor\":\"#EBF0F8\",\"showbackground\":true,\"ticks\":\"\",\"zerolinecolor\":\"#EBF0F8\"}},\"shapedefaults\":{\"line\":{\"color\":\"#2a3f5f\"}},\"ternary\":{\"aaxis\":{\"gridcolor\":\"#DFE8F3\",\"linecolor\":\"#A2B1C6\",\"ticks\":\"\"},\"baxis\":{\"gridcolor\":\"#DFE8F3\",\"linecolor\":\"#A2B1C6\",\"ticks\":\"\"},\"bgcolor\":\"white\",\"caxis\":{\"gridcolor\":\"#DFE8F3\",\"linecolor\":\"#A2B1C6\",\"ticks\":\"\"}},\"title\":{\"x\":0.05},\"xaxis\":{\"automargin\":true,\"gridcolor\":\"#EBF0F8\",\"linecolor\":\"#EBF0F8\",\"ticks\":\"\",\"title\":{\"standoff\":15},\"zerolinecolor\":\"#EBF0F8\",\"zerolinewidth\":2},\"yaxis\":{\"automargin\":true,\"gridcolor\":\"#EBF0F8\",\"linecolor\":\"#EBF0F8\",\"ticks\":\"\",\"title\":{\"standoff\":15},\"zerolinecolor\":\"#EBF0F8\",\"zerolinewidth\":2}}},\"title\":{\"font\":{\"size\":22,\"color\":\"Black\"},\"text\":\"\\u003cb\\u003eHierarchical Clustering\\u003c\\u002fb\\u003e\",\"x\":0.5,\"xanchor\":\"center\",\"yanchor\":\"top\"},\"hoverlabel\":{\"font\":{\"size\":16,\"family\":\"Rockwell\"},\"bgcolor\":\"white\"},\"plot_bgcolor\":\"#ECEFF1\"},                        {\"responsive\": true}                    ).then(function(){\n",
       "                            \n",
       "var gd = document.getElementById('78b71b86-2bba-4e16-ae61-0d23aad911cc');\n",
       "var x = new MutationObserver(function (mutations, observer) {{\n",
       "        var display = window.getComputedStyle(gd).display;\n",
       "        if (!display || display === 'none') {{\n",
       "            console.log([gd, 'removed!']);\n",
       "            Plotly.purge(gd);\n",
       "            observer.disconnect();\n",
       "        }}\n",
       "}});\n",
       "\n",
       "// Listen for the removal of the full notebook cells\n",
       "var notebookContainer = gd.closest('#notebook-container');\n",
       "if (notebookContainer) {{\n",
       "    x.observe(notebookContainer, {childList: true});\n",
       "}}\n",
       "\n",
       "// Listen for the clearing of the current output cell\n",
       "var outputEl = gd.closest('.output');\n",
       "if (outputEl) {{\n",
       "    x.observe(outputEl, {childList: true});\n",
       "}}\n",
       "\n",
       "                        })                };                });            </script>        </div>"
      ]
     },
     "metadata": {},
     "output_type": "display_data"
    }
   ],
   "source": [
    "topic_model.visualize_hierarchy()"
   ]
  },
  {
   "cell_type": "markdown",
   "id": "d88aff4a",
   "metadata": {
    "id": "d88aff4a"
   },
   "source": [
    "### 상위 토픽 + 관련된 토픽 확인\n",
    "\n",
    "- 위의 계층적 군집분석 결과를 보면 topic3과 topic21, topic0과 topic6이 묶임"
   ]
  },
  {
   "cell_type": "code",
   "execution_count": 126,
   "id": "a6e1e71c",
   "metadata": {
    "colab": {
     "base_uri": "https://localhost:8080/"
    },
    "id": "a6e1e71c",
    "outputId": "49be61e1-2278-44cf-a362-29a2a9f46897"
   },
   "outputs": [
    {
     "data": {
      "text/plain": [
       "[('analyst refinitiv', 0.03372675178059123),\n",
       " ('analyst', 0.03358069195842215),\n",
       " ('cramer', 0.029788355301943913),\n",
       " ('price target', 0.02431798295350915),\n",
       " ('cent analyst', 0.02416615560766607),\n",
       " ('analyst factset', 0.01646362837866513),\n",
       " ('wall street', 0.01471902800971651),\n",
       " ('nvidia', 0.0134541032796249),\n",
       " ('refinitiv cent', 0.01326958911577641),\n",
       " ('trade alert', 0.013018680675714253)]"
      ]
     },
     "execution_count": 126,
     "metadata": {},
     "output_type": "execute_result"
    }
   ],
   "source": [
    "topic_model.get_topic(0)"
   ]
  },
  {
   "cell_type": "code",
   "execution_count": 127,
   "id": "5ef4d411",
   "metadata": {
    "colab": {
     "base_uri": "https://localhost:8080/"
    },
    "id": "5ef4d411",
    "outputId": "97bfaabc-b36b-47dd-9570-518b5b3a6c83"
   },
   "outputs": [
    {
     "data": {
      "text/plain": [
       "[('iphone', 0.12257195997513622),\n",
       " ('apple', 0.106950452167445),\n",
       " ('ipad', 0.04105567881255938),\n",
       " ('smartphone', 0.040866859685472635),\n",
       " ('apple iphone', 0.035399444958679),\n",
       " ('huawei', 0.03232852302698514),\n",
       " ('device', 0.03137481122840396),\n",
       " ('tablet', 0.02255925250547163),\n",
       " ('android', 0.02098821779092229),\n",
       " ('iphone model', 0.019903119080530076)]"
      ]
     },
     "execution_count": 127,
     "metadata": {},
     "output_type": "execute_result"
    }
   ],
   "source": [
    "topic_model.get_topic(6)"
   ]
  },
  {
   "cell_type": "markdown",
   "id": "2db2ec40",
   "metadata": {
    "id": "2db2ec40"
   },
   "source": [
    "토픽 0, 6은 관련도가 낮은 토픽이므로, merge하지 않기로 함."
   ]
  },
  {
   "cell_type": "code",
   "execution_count": 128,
   "id": "c420f0b6",
   "metadata": {
    "colab": {
     "base_uri": "https://localhost:8080/"
    },
    "id": "c420f0b6",
    "outputId": "daac4aee-96c7-444d-b203-740a6eb3b497"
   },
   "outputs": [
    {
     "data": {
      "text/plain": [
       "[('pfizer', 0.03984946568083507),\n",
       " ('vaccine', 0.036666046213431495),\n",
       " ('pharmacy', 0.031354301864470226),\n",
       " ('medication', 0.031088154769561154),\n",
       " ('obesity', 0.02947804525251283),\n",
       " ('novo', 0.023910544694010386),\n",
       " ('cvs', 0.02173974013150382),\n",
       " ('telegram', 0.020354560583392255),\n",
       " ('marketplace', 0.020174584958086234),\n",
       " ('covid', 0.017711835197507627)]"
      ]
     },
     "execution_count": 128,
     "metadata": {},
     "output_type": "execute_result"
    }
   ],
   "source": [
    "topic_model.get_topic(3)"
   ]
  },
  {
   "cell_type": "code",
   "execution_count": 129,
   "id": "68afba8b",
   "metadata": {
    "colab": {
     "base_uri": "https://localhost:8080/"
    },
    "id": "68afba8b",
    "outputId": "2a301e8b-83b8-4309-9908-6164625b8e43"
   },
   "outputs": [
    {
     "data": {
      "text/plain": [
       "[('bric', 0.0945983815734802),\n",
       " ('russia', 0.08458820400459105),\n",
       " ('ukraine', 0.0673767073142626),\n",
       " ('ukraines', 0.03782669575290358),\n",
       " ('arabia', 0.03613214881783308),\n",
       " ('saudi arabia', 0.03613214881783308),\n",
       " ('moscow', 0.031989020757038834),\n",
       " ('president vladimir', 0.03146708884101227),\n",
       " ('china russia', 0.025810295868082356),\n",
       " ('war ukraine', 0.0210772127345319)]"
      ]
     },
     "execution_count": 129,
     "metadata": {},
     "output_type": "execute_result"
    }
   ],
   "source": [
    "topic_model.get_topic(21)"
   ]
  },
  {
   "cell_type": "markdown",
   "id": "b2673356",
   "metadata": {
    "id": "b2673356"
   },
   "source": [
    "토픽 3과 21이 ai 테마로 묶인다고 판단되어 두 토픽의 keyword를 추출하고 merge 후 토픽 share값을 확인함."
   ]
  },
  {
   "cell_type": "code",
   "execution_count": 134,
   "id": "24e6daf4",
   "metadata": {
    "colab": {
     "base_uri": "https://localhost:8080/"
    },
    "id": "24e6daf4",
    "outputId": "d67503a8-e8e2-4d89-9651-35499b428633"
   },
   "outputs": [
    {
     "name": "stdout",
     "output_type": "stream",
     "text": [
      "['pfizer', 'vaccine', 'pharmacy', 'medication', 'obesity', 'novo', 'cvs', 'telegram', 'marketplace', 'covid', 'bric', 'russia', 'ukraine', 'ukraines', 'arabia', 'saudi arabia', 'moscow', 'president vladimir', 'china russia', 'war ukraine']\n"
     ]
    }
   ],
   "source": [
    "# 키워드 추출\n",
    "topic_0_keyword = [tu[0] for tu in topic_model.get_topic(3)]\n",
    "topic_21_keyword = [tu[0] for tu in topic_model.get_topic(21)]\n",
    "keyword = topic_0_keyword + topic_21_keyword\n",
    "print(keyword)"
   ]
  },
  {
   "cell_type": "code",
   "execution_count": 135,
   "id": "1abe9d67",
   "metadata": {
    "id": "1abe9d67"
   },
   "outputs": [],
   "source": [
    "# topic merge(ai, gpu)\n",
    "topics_to_merge = [3, 21]\n",
    "topic_model.merge_topics(all_texts, topics_to_merge)"
   ]
  },
  {
   "cell_type": "code",
   "execution_count": 136,
   "id": "53a98553",
   "metadata": {
    "colab": {
     "base_uri": "https://localhost:8080/",
     "height": 1000
    },
    "id": "53a98553",
    "outputId": "4e773c01-6c08-4a5d-8e56-c959687df3ed"
   },
   "outputs": [
    {
     "data": {
      "text/html": [
       "\n",
       "  <div id=\"df-d5bf9f3a-660d-4dc8-882a-fc2797fc020e\" class=\"colab-df-container\">\n",
       "    <div>\n",
       "<style scoped>\n",
       "    .dataframe tbody tr th:only-of-type {\n",
       "        vertical-align: middle;\n",
       "    }\n",
       "\n",
       "    .dataframe tbody tr th {\n",
       "        vertical-align: top;\n",
       "    }\n",
       "\n",
       "    .dataframe thead th {\n",
       "        text-align: right;\n",
       "    }\n",
       "</style>\n",
       "<table border=\"1\" class=\"dataframe\">\n",
       "  <thead>\n",
       "    <tr style=\"text-align: right;\">\n",
       "      <th></th>\n",
       "      <th>Count</th>\n",
       "      <th>Share</th>\n",
       "      <th>CumulativeShare</th>\n",
       "      <th>Name</th>\n",
       "      <th>Representation</th>\n",
       "    </tr>\n",
       "    <tr>\n",
       "      <th>Topic</th>\n",
       "      <th></th>\n",
       "      <th></th>\n",
       "      <th></th>\n",
       "      <th></th>\n",
       "      <th></th>\n",
       "    </tr>\n",
       "  </thead>\n",
       "  <tbody>\n",
       "    <tr>\n",
       "      <th>-1</th>\n",
       "      <td>128</td>\n",
       "      <td>20.779221</td>\n",
       "      <td>20.779221</td>\n",
       "      <td>-1_bitcoin_resume_oracle_market</td>\n",
       "      <td>[bitcoin, resume, oracle, market, sec, etf, ap...</td>\n",
       "    </tr>\n",
       "    <tr>\n",
       "      <th>0</th>\n",
       "      <td>34</td>\n",
       "      <td>5.519481</td>\n",
       "      <td>26.298701</td>\n",
       "      <td>0_analyst refinitiv_price target_cent analyst_...</td>\n",
       "      <td>[analyst refinitiv, price target, cent analyst...</td>\n",
       "    </tr>\n",
       "    <tr>\n",
       "      <th>1</th>\n",
       "      <td>34</td>\n",
       "      <td>5.519481</td>\n",
       "      <td>31.818182</td>\n",
       "      <td>1_bric_russia_ukraine_pfizer</td>\n",
       "      <td>[bric, russia, ukraine, pfizer, pharmacy, saud...</td>\n",
       "    </tr>\n",
       "    <tr>\n",
       "      <th>2</th>\n",
       "      <td>29</td>\n",
       "      <td>4.707792</td>\n",
       "      <td>36.525974</td>\n",
       "      <td>2_ai_chatgpt_google_ai model</td>\n",
       "      <td>[ai, chatgpt, google, ai model, openai, chatbo...</td>\n",
       "    </tr>\n",
       "    <tr>\n",
       "      <th>3</th>\n",
       "      <td>28</td>\n",
       "      <td>4.545455</td>\n",
       "      <td>41.071429</td>\n",
       "      <td>3_retailer_walmart_foot locker_merchandise</td>\n",
       "      <td>[retailer, walmart, foot locker, merchandise, ...</td>\n",
       "    </tr>\n",
       "    <tr>\n",
       "      <th>4</th>\n",
       "      <td>24</td>\n",
       "      <td>3.896104</td>\n",
       "      <td>44.967532</td>\n",
       "      <td>4_cnn_disney_microsoft_activision</td>\n",
       "      <td>[cnn, disney, microsoft, activision, espn, sal...</td>\n",
       "    </tr>\n",
       "    <tr>\n",
       "      <th>5</th>\n",
       "      <td>23</td>\n",
       "      <td>3.733766</td>\n",
       "      <td>48.701299</td>\n",
       "      <td>5_election_president donald_indictment_case</td>\n",
       "      <td>[election, president donald, indictment, case,...</td>\n",
       "    </tr>\n",
       "    <tr>\n",
       "      <th>6</th>\n",
       "      <td>21</td>\n",
       "      <td>3.409091</td>\n",
       "      <td>52.110390</td>\n",
       "      <td>6_iphone_apple_smartphone_apple watch</td>\n",
       "      <td>[iphone, apple, smartphone, apple watch, apple...</td>\n",
       "    </tr>\n",
       "    <tr>\n",
       "      <th>7</th>\n",
       "      <td>20</td>\n",
       "      <td>3.246753</td>\n",
       "      <td>55.357143</td>\n",
       "      <td>7_playlist_schwartz_taylor_mindset</td>\n",
       "      <td>[playlist, schwartz, taylor, mindset, billiona...</td>\n",
       "    </tr>\n",
       "    <tr>\n",
       "      <th>8</th>\n",
       "      <td>20</td>\n",
       "      <td>3.246753</td>\n",
       "      <td>58.603896</td>\n",
       "      <td>8_china_beijing_chinas_economist</td>\n",
       "      <td>[china, beijing, chinas, economist, yuan, peop...</td>\n",
       "    </tr>\n",
       "    <tr>\n",
       "      <th>9</th>\n",
       "      <td>18</td>\n",
       "      <td>2.922078</td>\n",
       "      <td>61.525974</td>\n",
       "      <td>9_twitter_musk_spacex_app</td>\n",
       "      <td>[twitter, musk, spacex, app, elon musk, fda, b...</td>\n",
       "    </tr>\n",
       "    <tr>\n",
       "      <th>10</th>\n",
       "      <td>16</td>\n",
       "      <td>2.597403</td>\n",
       "      <td>64.123377</td>\n",
       "      <td>10_happiness_gate_harvard_brain</td>\n",
       "      <td>[happiness, gate, harvard, brain, lifestyle, p...</td>\n",
       "    </tr>\n",
       "    <tr>\n",
       "      <th>11</th>\n",
       "      <td>16</td>\n",
       "      <td>2.597403</td>\n",
       "      <td>66.720779</td>\n",
       "      <td>11_oil_vessel_port_sailing</td>\n",
       "      <td>[oil, vessel, port, sailing, coast, gulf, ocea...</td>\n",
       "    </tr>\n",
       "    <tr>\n",
       "      <th>12</th>\n",
       "      <td>15</td>\n",
       "      <td>2.435065</td>\n",
       "      <td>69.155844</td>\n",
       "      <td>12_inflation_ecb_european central_rate hike</td>\n",
       "      <td>[inflation, ecb, european central, rate hike, ...</td>\n",
       "    </tr>\n",
       "    <tr>\n",
       "      <th>13</th>\n",
       "      <td>15</td>\n",
       "      <td>2.435065</td>\n",
       "      <td>71.590909</td>\n",
       "      <td>13_debt_expense_saving_finance</td>\n",
       "      <td>[debt, expense, saving, finance, spending, sur...</td>\n",
       "    </tr>\n",
       "    <tr>\n",
       "      <th>14</th>\n",
       "      <td>15</td>\n",
       "      <td>2.435065</td>\n",
       "      <td>74.025974</td>\n",
       "      <td>14_climate_energy_emission_gigawatt</td>\n",
       "      <td>[climate, energy, emission, gigawatt, climate ...</td>\n",
       "    </tr>\n",
       "    <tr>\n",
       "      <th>16</th>\n",
       "      <td>13</td>\n",
       "      <td>2.110390</td>\n",
       "      <td>76.136364</td>\n",
       "      <td>16_rent_city_housing_cost living</td>\n",
       "      <td>[rent, city, housing, cost living, new york, t...</td>\n",
       "    </tr>\n",
       "    <tr>\n",
       "      <th>15</th>\n",
       "      <td>13</td>\n",
       "      <td>2.110390</td>\n",
       "      <td>78.246753</td>\n",
       "      <td>15_xpeng_yuan_malaysia_toyota</td>\n",
       "      <td>[xpeng, yuan, malaysia, toyota, tesla, volkswa...</td>\n",
       "    </tr>\n",
       "    <tr>\n",
       "      <th>18</th>\n",
       "      <td>12</td>\n",
       "      <td>1.948052</td>\n",
       "      <td>80.194805</td>\n",
       "      <td>18_hayes_menu_restaurant_arabia</td>\n",
       "      <td>[hayes, menu, restaurant, arabia, breakfast, o...</td>\n",
       "    </tr>\n",
       "    <tr>\n",
       "      <th>17</th>\n",
       "      <td>12</td>\n",
       "      <td>1.948052</td>\n",
       "      <td>82.142857</td>\n",
       "      <td>17_treasury_treasury yield_fed_inflation</td>\n",
       "      <td>[treasury, treasury yield, fed, inflation, bas...</td>\n",
       "    </tr>\n",
       "  </tbody>\n",
       "</table>\n",
       "</div>\n",
       "    <div class=\"colab-df-buttons\">\n",
       "\n",
       "  <div class=\"colab-df-container\">\n",
       "    <button class=\"colab-df-convert\" onclick=\"convertToInteractive('df-d5bf9f3a-660d-4dc8-882a-fc2797fc020e')\"\n",
       "            title=\"Convert this dataframe to an interactive table.\"\n",
       "            style=\"display:none;\">\n",
       "\n",
       "  <svg xmlns=\"http://www.w3.org/2000/svg\" height=\"24px\" viewBox=\"0 -960 960 960\">\n",
       "    <path d=\"M120-120v-720h720v720H120Zm60-500h600v-160H180v160Zm220 220h160v-160H400v160Zm0 220h160v-160H400v160ZM180-400h160v-160H180v160Zm440 0h160v-160H620v160ZM180-180h160v-160H180v160Zm440 0h160v-160H620v160Z\"/>\n",
       "  </svg>\n",
       "    </button>\n",
       "\n",
       "  <style>\n",
       "    .colab-df-container {\n",
       "      display:flex;\n",
       "      gap: 12px;\n",
       "    }\n",
       "\n",
       "    .colab-df-convert {\n",
       "      background-color: #E8F0FE;\n",
       "      border: none;\n",
       "      border-radius: 50%;\n",
       "      cursor: pointer;\n",
       "      display: none;\n",
       "      fill: #1967D2;\n",
       "      height: 32px;\n",
       "      padding: 0 0 0 0;\n",
       "      width: 32px;\n",
       "    }\n",
       "\n",
       "    .colab-df-convert:hover {\n",
       "      background-color: #E2EBFA;\n",
       "      box-shadow: 0px 1px 2px rgba(60, 64, 67, 0.3), 0px 1px 3px 1px rgba(60, 64, 67, 0.15);\n",
       "      fill: #174EA6;\n",
       "    }\n",
       "\n",
       "    .colab-df-buttons div {\n",
       "      margin-bottom: 4px;\n",
       "    }\n",
       "\n",
       "    [theme=dark] .colab-df-convert {\n",
       "      background-color: #3B4455;\n",
       "      fill: #D2E3FC;\n",
       "    }\n",
       "\n",
       "    [theme=dark] .colab-df-convert:hover {\n",
       "      background-color: #434B5C;\n",
       "      box-shadow: 0px 1px 3px 1px rgba(0, 0, 0, 0.15);\n",
       "      filter: drop-shadow(0px 1px 2px rgba(0, 0, 0, 0.3));\n",
       "      fill: #FFFFFF;\n",
       "    }\n",
       "  </style>\n",
       "\n",
       "    <script>\n",
       "      const buttonEl =\n",
       "        document.querySelector('#df-d5bf9f3a-660d-4dc8-882a-fc2797fc020e button.colab-df-convert');\n",
       "      buttonEl.style.display =\n",
       "        google.colab.kernel.accessAllowed ? 'block' : 'none';\n",
       "\n",
       "      async function convertToInteractive(key) {\n",
       "        const element = document.querySelector('#df-d5bf9f3a-660d-4dc8-882a-fc2797fc020e');\n",
       "        const dataTable =\n",
       "          await google.colab.kernel.invokeFunction('convertToInteractive',\n",
       "                                                    [key], {});\n",
       "        if (!dataTable) return;\n",
       "\n",
       "        const docLinkHtml = 'Like what you see? Visit the ' +\n",
       "          '<a target=\"_blank\" href=https://colab.research.google.com/notebooks/data_table.ipynb>data table notebook</a>'\n",
       "          + ' to learn more about interactive tables.';\n",
       "        element.innerHTML = '';\n",
       "        dataTable['output_type'] = 'display_data';\n",
       "        await google.colab.output.renderOutput(dataTable, element);\n",
       "        const docLink = document.createElement('div');\n",
       "        docLink.innerHTML = docLinkHtml;\n",
       "        element.appendChild(docLink);\n",
       "      }\n",
       "    </script>\n",
       "  </div>\n",
       "\n",
       "\n",
       "<div id=\"df-f4ab6ec3-d38c-47cc-9728-88ba142c7be0\">\n",
       "  <button class=\"colab-df-quickchart\" onclick=\"quickchart('df-f4ab6ec3-d38c-47cc-9728-88ba142c7be0')\"\n",
       "            title=\"Suggest charts.\"\n",
       "            style=\"display:none;\">\n",
       "\n",
       "<svg xmlns=\"http://www.w3.org/2000/svg\" height=\"24px\"viewBox=\"0 0 24 24\"\n",
       "     width=\"24px\">\n",
       "    <g>\n",
       "        <path d=\"M19 3H5c-1.1 0-2 .9-2 2v14c0 1.1.9 2 2 2h14c1.1 0 2-.9 2-2V5c0-1.1-.9-2-2-2zM9 17H7v-7h2v7zm4 0h-2V7h2v10zm4 0h-2v-4h2v4z\"/>\n",
       "    </g>\n",
       "</svg>\n",
       "  </button>\n",
       "\n",
       "<style>\n",
       "  .colab-df-quickchart {\n",
       "      --bg-color: #E8F0FE;\n",
       "      --fill-color: #1967D2;\n",
       "      --hover-bg-color: #E2EBFA;\n",
       "      --hover-fill-color: #174EA6;\n",
       "      --disabled-fill-color: #AAA;\n",
       "      --disabled-bg-color: #DDD;\n",
       "  }\n",
       "\n",
       "  [theme=dark] .colab-df-quickchart {\n",
       "      --bg-color: #3B4455;\n",
       "      --fill-color: #D2E3FC;\n",
       "      --hover-bg-color: #434B5C;\n",
       "      --hover-fill-color: #FFFFFF;\n",
       "      --disabled-bg-color: #3B4455;\n",
       "      --disabled-fill-color: #666;\n",
       "  }\n",
       "\n",
       "  .colab-df-quickchart {\n",
       "    background-color: var(--bg-color);\n",
       "    border: none;\n",
       "    border-radius: 50%;\n",
       "    cursor: pointer;\n",
       "    display: none;\n",
       "    fill: var(--fill-color);\n",
       "    height: 32px;\n",
       "    padding: 0;\n",
       "    width: 32px;\n",
       "  }\n",
       "\n",
       "  .colab-df-quickchart:hover {\n",
       "    background-color: var(--hover-bg-color);\n",
       "    box-shadow: 0 1px 2px rgba(60, 64, 67, 0.3), 0 1px 3px 1px rgba(60, 64, 67, 0.15);\n",
       "    fill: var(--button-hover-fill-color);\n",
       "  }\n",
       "\n",
       "  .colab-df-quickchart-complete:disabled,\n",
       "  .colab-df-quickchart-complete:disabled:hover {\n",
       "    background-color: var(--disabled-bg-color);\n",
       "    fill: var(--disabled-fill-color);\n",
       "    box-shadow: none;\n",
       "  }\n",
       "\n",
       "  .colab-df-spinner {\n",
       "    border: 2px solid var(--fill-color);\n",
       "    border-color: transparent;\n",
       "    border-bottom-color: var(--fill-color);\n",
       "    animation:\n",
       "      spin 1s steps(1) infinite;\n",
       "  }\n",
       "\n",
       "  @keyframes spin {\n",
       "    0% {\n",
       "      border-color: transparent;\n",
       "      border-bottom-color: var(--fill-color);\n",
       "      border-left-color: var(--fill-color);\n",
       "    }\n",
       "    20% {\n",
       "      border-color: transparent;\n",
       "      border-left-color: var(--fill-color);\n",
       "      border-top-color: var(--fill-color);\n",
       "    }\n",
       "    30% {\n",
       "      border-color: transparent;\n",
       "      border-left-color: var(--fill-color);\n",
       "      border-top-color: var(--fill-color);\n",
       "      border-right-color: var(--fill-color);\n",
       "    }\n",
       "    40% {\n",
       "      border-color: transparent;\n",
       "      border-right-color: var(--fill-color);\n",
       "      border-top-color: var(--fill-color);\n",
       "    }\n",
       "    60% {\n",
       "      border-color: transparent;\n",
       "      border-right-color: var(--fill-color);\n",
       "    }\n",
       "    80% {\n",
       "      border-color: transparent;\n",
       "      border-right-color: var(--fill-color);\n",
       "      border-bottom-color: var(--fill-color);\n",
       "    }\n",
       "    90% {\n",
       "      border-color: transparent;\n",
       "      border-bottom-color: var(--fill-color);\n",
       "    }\n",
       "  }\n",
       "</style>\n",
       "\n",
       "  <script>\n",
       "    async function quickchart(key) {\n",
       "      const quickchartButtonEl =\n",
       "        document.querySelector('#' + key + ' button');\n",
       "      quickchartButtonEl.disabled = true;  // To prevent multiple clicks.\n",
       "      quickchartButtonEl.classList.add('colab-df-spinner');\n",
       "      try {\n",
       "        const charts = await google.colab.kernel.invokeFunction(\n",
       "            'suggestCharts', [key], {});\n",
       "      } catch (error) {\n",
       "        console.error('Error during call to suggestCharts:', error);\n",
       "      }\n",
       "      quickchartButtonEl.classList.remove('colab-df-spinner');\n",
       "      quickchartButtonEl.classList.add('colab-df-quickchart-complete');\n",
       "    }\n",
       "    (() => {\n",
       "      let quickchartButtonEl =\n",
       "        document.querySelector('#df-f4ab6ec3-d38c-47cc-9728-88ba142c7be0 button');\n",
       "      quickchartButtonEl.style.display =\n",
       "        google.colab.kernel.accessAllowed ? 'block' : 'none';\n",
       "    })();\n",
       "  </script>\n",
       "</div>\n",
       "    </div>\n",
       "  </div>\n"
      ],
      "text/plain": [
       "       Count      Share  CumulativeShare  \\\n",
       "Topic                                      \n",
       "-1       128  20.779221        20.779221   \n",
       " 0        34   5.519481        26.298701   \n",
       " 1        34   5.519481        31.818182   \n",
       " 2        29   4.707792        36.525974   \n",
       " 3        28   4.545455        41.071429   \n",
       " 4        24   3.896104        44.967532   \n",
       " 5        23   3.733766        48.701299   \n",
       " 6        21   3.409091        52.110390   \n",
       " 7        20   3.246753        55.357143   \n",
       " 8        20   3.246753        58.603896   \n",
       " 9        18   2.922078        61.525974   \n",
       " 10       16   2.597403        64.123377   \n",
       " 11       16   2.597403        66.720779   \n",
       " 12       15   2.435065        69.155844   \n",
       " 13       15   2.435065        71.590909   \n",
       " 14       15   2.435065        74.025974   \n",
       " 16       13   2.110390        76.136364   \n",
       " 15       13   2.110390        78.246753   \n",
       " 18       12   1.948052        80.194805   \n",
       " 17       12   1.948052        82.142857   \n",
       "\n",
       "                                                    Name  \\\n",
       "Topic                                                      \n",
       "-1                       -1_bitcoin_resume_oracle_market   \n",
       " 0     0_analyst refinitiv_price target_cent analyst_...   \n",
       " 1                          1_bric_russia_ukraine_pfizer   \n",
       " 2                          2_ai_chatgpt_google_ai model   \n",
       " 3            3_retailer_walmart_foot locker_merchandise   \n",
       " 4                     4_cnn_disney_microsoft_activision   \n",
       " 5           5_election_president donald_indictment_case   \n",
       " 6                 6_iphone_apple_smartphone_apple watch   \n",
       " 7                    7_playlist_schwartz_taylor_mindset   \n",
       " 8                      8_china_beijing_chinas_economist   \n",
       " 9                             9_twitter_musk_spacex_app   \n",
       " 10                      10_happiness_gate_harvard_brain   \n",
       " 11                           11_oil_vessel_port_sailing   \n",
       " 12          12_inflation_ecb_european central_rate hike   \n",
       " 13                       13_debt_expense_saving_finance   \n",
       " 14                  14_climate_energy_emission_gigawatt   \n",
       " 16                     16_rent_city_housing_cost living   \n",
       " 15                        15_xpeng_yuan_malaysia_toyota   \n",
       " 18                      18_hayes_menu_restaurant_arabia   \n",
       " 17             17_treasury_treasury yield_fed_inflation   \n",
       "\n",
       "                                          Representation  \n",
       "Topic                                                     \n",
       "-1     [bitcoin, resume, oracle, market, sec, etf, ap...  \n",
       " 0     [analyst refinitiv, price target, cent analyst...  \n",
       " 1     [bric, russia, ukraine, pfizer, pharmacy, saud...  \n",
       " 2     [ai, chatgpt, google, ai model, openai, chatbo...  \n",
       " 3     [retailer, walmart, foot locker, merchandise, ...  \n",
       " 4     [cnn, disney, microsoft, activision, espn, sal...  \n",
       " 5     [election, president donald, indictment, case,...  \n",
       " 6     [iphone, apple, smartphone, apple watch, apple...  \n",
       " 7     [playlist, schwartz, taylor, mindset, billiona...  \n",
       " 8     [china, beijing, chinas, economist, yuan, peop...  \n",
       " 9     [twitter, musk, spacex, app, elon musk, fda, b...  \n",
       " 10    [happiness, gate, harvard, brain, lifestyle, p...  \n",
       " 11    [oil, vessel, port, sailing, coast, gulf, ocea...  \n",
       " 12    [inflation, ecb, european central, rate hike, ...  \n",
       " 13    [debt, expense, saving, finance, spending, sur...  \n",
       " 14    [climate, energy, emission, gigawatt, climate ...  \n",
       " 16    [rent, city, housing, cost living, new york, t...  \n",
       " 15    [xpeng, yuan, malaysia, toyota, tesla, volkswa...  \n",
       " 18    [hayes, menu, restaurant, arabia, breakfast, o...  \n",
       " 17    [treasury, treasury yield, fed, inflation, bas...  "
      ]
     },
     "execution_count": 136,
     "metadata": {},
     "output_type": "execute_result"
    }
   ],
   "source": [
    "#merge 후 share 값 확인\n",
    "#토픽 3, 21을 합친 토픽이 가장 높은 share를 차지함\n",
    "topic_stat = get_topic_stats(topic_model).head(20).set_index('Topic')\n",
    "topic_stat"
   ]
  },
  {
   "cell_type": "code",
   "execution_count": 137,
   "id": "e835ed6d",
   "metadata": {
    "colab": {
     "base_uri": "https://localhost:8080/"
    },
    "id": "e835ed6d",
    "outputId": "fb22904d-e39d-4fb8-85fb-07ab1d15e2a1"
   },
   "outputs": [
    {
     "name": "stderr",
     "output_type": "stream",
     "text": [
      "8it [04:40, 35.06s/it]\n"
     ]
    }
   ],
   "source": [
    "# 8월 간 토픽 언급량 추이 시각화\n",
    "topics_over_time = topic_model.topics_over_time(all_texts, timestamps,\n",
    "                                                global_tuning=True, evolution_tuning=True, nr_bins=8)\n"
   ]
  },
  {
   "cell_type": "code",
   "execution_count": 138,
   "id": "7c5dce35",
   "metadata": {
    "colab": {
     "base_uri": "https://localhost:8080/",
     "height": 487
    },
    "id": "7c5dce35",
    "outputId": "8ebb6ced-4cda-4eb9-9bbf-c2862684747e"
   },
   "outputs": [
    {
     "data": {
      "text/html": [
       "<div>                            <div id=\"771a2292-22ed-4e29-ba74-faf27ed10a0f\" class=\"plotly-graph-div\" style=\"height:450px; width:1250px;\"></div>            <script type=\"text/javascript\">                require([\"plotly\"], function(Plotly) {                    window.PLOTLYENV=window.PLOTLYENV || {};                                    if (document.getElementById(\"771a2292-22ed-4e29-ba74-faf27ed10a0f\")) {                    Plotly.newPlot(                        \"771a2292-22ed-4e29-ba74-faf27ed10a0f\",                        [{\"hoverinfo\":\"text\",\"hovertext\":[\"\\u003cb\\u003eTopic 0\\u003c\\u002fb\\u003e\\u003cbr\\u003eWords: analyst refinitiv, refinitiv, price target, cent analyst, emerson\",\"\\u003cb\\u003eTopic 0\\u003c\\u002fb\\u003e\\u003cbr\\u003eWords: analyst refinitiv, analyst, tjx, price target, cent analyst\",\"\\u003cb\\u003eTopic 0\\u003c\\u002fb\\u003e\\u003cbr\\u003eWords: lyft, espn, price target, trade alert, disneys\",\"\\u003cb\\u003eTopic 0\\u003c\\u002fb\\u003e\\u003cbr\\u003eWords: analyst refinitiv, cava, mercury, cent analyst, analyst factset\",\"\\u003cb\\u003eTopic 0\\u003c\\u002fb\\u003e\\u003cbr\\u003eWords: refinitiv, analyst refinitiv, analyst factset, cent analyst, alibaba jdcom\",\"\\u003cb\\u003eTopic 0\\u003c\\u002fb\\u003e\\u003cbr\\u003eWords: analyst, apple, rbc, analyst refinitiv, jim cramer\",\"\\u003cb\\u003eTopic 0\\u003c\\u002fb\\u003e\\u003cbr\\u003eWords: analyst refinitiv, refinitiv, vmware, cent analyst, analyst\"],\"marker\":{\"color\":\"#E69F00\"},\"mode\":\"lines\",\"name\":\"0_analyst refinitiv_price target_cent an...\",\"x\":[\"2023-07-31T23:16:48\",\"2023-08-04T18:00:00\",\"2023-08-08T12:00:00\",\"2023-08-12T06:00:00\",\"2023-08-16T00:00:00\",\"2023-08-19T18:00:00\",\"2023-08-27T06:00:00\"],\"y\":[7,3,2,6,4,9,3],\"type\":\"scatter\"},{\"hoverinfo\":\"text\",\"hovertext\":[\"\\u003cb\\u003eTopic 1\\u003c\\u002fb\\u003e\\u003cbr\\u003eWords: ukraine, saudi, russia, turkey, ukraines\",\"\\u003cb\\u003eTopic 1\\u003c\\u002fb\\u003e\\u003cbr\\u003eWords: nordisk, novo nordisk, novo, stroke, drug\",\"\\u003cb\\u003eTopic 1\\u003c\\u002fb\\u003e\\u003cbr\\u003eWords: drone, amazon, bezos, oregon, linkedin\",\"\\u003cb\\u003eTopic 1\\u003c\\u002fb\\u003e\\u003cbr\\u003eWords: russia, medication, novo, ukraine, china russia\",\"\\u003cb\\u003eTopic 1\\u003c\\u002fb\\u003e\\u003cbr\\u003eWords: virus, vaccine, pfizer, mouse, biotech\",\"\\u003cb\\u003eTopic 1\\u003c\\u002fb\\u003e\\u003cbr\\u003eWords: bric, empire, pharmacy, russia, pfizer\",\"\\u003cb\\u003eTopic 1\\u003c\\u002fb\\u003e\\u003cbr\\u003eWords: bric, africa, president vladimir, bloc, moscow\",\"\\u003cb\\u003eTopic 1\\u003c\\u002fb\\u003e\\u003cbr\\u003eWords: airline, medicare, pharmacy, aviation, traveler\"],\"marker\":{\"color\":\"#56B4E9\"},\"mode\":\"lines\",\"name\":\"1_bric_russia_ukraine_pfizer\",\"x\":[\"2023-07-31T23:16:48\",\"2023-08-04T18:00:00\",\"2023-08-08T12:00:00\",\"2023-08-12T06:00:00\",\"2023-08-16T00:00:00\",\"2023-08-19T18:00:00\",\"2023-08-23T12:00:00\",\"2023-08-27T06:00:00\"],\"y\":[10,1,1,8,1,6,2,5],\"type\":\"scatter\"},{\"hoverinfo\":\"text\",\"hovertext\":[\"\\u003cb\\u003eTopic 2\\u003c\\u002fb\\u003e\\u003cbr\\u003eWords: google, ai, assistant, tongyi qianwen, language model\",\"\\u003cb\\u003eTopic 2\\u003c\\u002fb\\u003e\\u003cbr\\u003eWords: czech, ai, republic, crypto, ai model\",\"\\u003cb\\u003eTopic 2\\u003c\\u002fb\\u003e\\u003cbr\\u003eWords: cybersecurity, hacking, team software, ai, source security\",\"\\u003cb\\u003eTopic 2\\u003c\\u002fb\\u003e\\u003cbr\\u003eWords: ai, chatbot, google, ai model, deepmind\",\"\\u003cb\\u003eTopic 2\\u003c\\u002fb\\u003e\\u003cbr\\u003eWords: ai, google, openai, ai model, chatgpt\",\"\\u003cb\\u003eTopic 2\\u003c\\u002fb\\u003e\\u003cbr\\u003eWords: ai, linkedin, job, career expert, chatbot\",\"\\u003cb\\u003eTopic 2\\u003c\\u002fb\\u003e\\u003cbr\\u003eWords: ai, language, ai model, language model, chatbot\",\"\\u003cb\\u003eTopic 2\\u003c\\u002fb\\u003e\\u003cbr\\u003eWords: ai, chatgpt, openai, google, api\"],\"marker\":{\"color\":\"#009E73\"},\"mode\":\"lines\",\"name\":\"2_ai_chatgpt_google_ai model\",\"x\":[\"2023-07-31T23:16:48\",\"2023-08-04T18:00:00\",\"2023-08-08T12:00:00\",\"2023-08-12T06:00:00\",\"2023-08-16T00:00:00\",\"2023-08-19T18:00:00\",\"2023-08-23T12:00:00\",\"2023-08-27T06:00:00\"],\"y\":[2,4,1,4,3,3,5,7],\"type\":\"scatter\"},{\"hoverinfo\":\"text\",\"hovertext\":[\"\\u003cb\\u003eTopic 3\\u003c\\u002fb\\u003e\\u003cbr\\u003eWords: walmart, etsy, advertising, retailer, aisle\",\"\\u003cb\\u003eTopic 3\\u003c\\u002fb\\u003e\\u003cbr\\u003eWords: retailer, cent analyst, inventory, crime, illumina\",\"\\u003cb\\u003eTopic 3\\u003c\\u002fb\\u003e\\u003cbr\\u003eWords: tjx, target, retailer, sale sale, merchandise\",\"\\u003cb\\u003eTopic 3\\u003c\\u002fb\\u003e\\u003cbr\\u003eWords: walmart, bed bath, retailer, acquisition, merchandise\",\"\\u003cb\\u003eTopic 3\\u003c\\u002fb\\u003e\\u003cbr\\u003eWords: retailer, foot locker, nike, macys, inventory\",\"\\u003cb\\u003eTopic 3\\u003c\\u002fb\\u003e\\u003cbr\\u003eWords: shein, brand, apparel, merchandise, apparel retailer\",\"\\u003cb\\u003eTopic 3\\u003c\\u002fb\\u003e\\u003cbr\\u003eWords: buy, nike, brand, apparel, growth profit\"],\"marker\":{\"color\":\"#F0E442\"},\"mode\":\"lines\",\"name\":\"3_retailer_walmart_foot locker_merchandi...\",\"x\":[\"2023-07-31T23:16:48\",\"2023-08-08T12:00:00\",\"2023-08-12T06:00:00\",\"2023-08-16T00:00:00\",\"2023-08-19T18:00:00\",\"2023-08-23T12:00:00\",\"2023-08-27T06:00:00\"],\"y\":[2,3,3,4,9,3,4],\"type\":\"scatter\"},{\"hoverinfo\":\"text\",\"hovertext\":[\"\\u003cb\\u003eTopic 4\\u003c\\u002fb\\u003e\\u003cbr\\u003eWords: espn, dynamic, salesforce, microsoft, disney\",\"\\u003cb\\u003eTopic 4\\u003c\\u002fb\\u003e\\u003cbr\\u003eWords: carlson, fox, discovery, max, fox news\",\"\\u003cb\\u003eTopic 4\\u003c\\u002fb\\u003e\\u003cbr\\u003eWords: disney, iger, cnn, subscriber, netflix\",\"\\u003cb\\u003eTopic 4\\u003c\\u002fb\\u003e\\u003cbr\\u003eWords: disney, comcast, amazon, discovery, netflix\",\"\\u003cb\\u003eTopic 4\\u003c\\u002fb\\u003e\\u003cbr\\u003eWords: activision, microsoft, employee, google, relocation\",\"\\u003cb\\u003eTopic 4\\u003c\\u002fb\\u003e\\u003cbr\\u003eWords: cnn, discovery, barbie, streaming service, nbcuniversal\",\"\\u003cb\\u003eTopic 4\\u003c\\u002fb\\u003e\\u003cbr\\u003eWords: cnn, activision, microsoft, lego, news\"],\"marker\":{\"color\":\"#D55E00\"},\"mode\":\"lines\",\"name\":\"4_cnn_disney_microsoft_activision\",\"x\":[\"2023-07-31T23:16:48\",\"2023-08-04T18:00:00\",\"2023-08-08T12:00:00\",\"2023-08-12T06:00:00\",\"2023-08-19T18:00:00\",\"2023-08-23T12:00:00\",\"2023-08-27T06:00:00\"],\"y\":[4,3,3,4,3,3,4],\"type\":\"scatter\"}],                        {\"template\":{\"data\":{\"barpolar\":[{\"marker\":{\"line\":{\"color\":\"white\",\"width\":0.5},\"pattern\":{\"fillmode\":\"overlay\",\"size\":10,\"solidity\":0.2}},\"type\":\"barpolar\"}],\"bar\":[{\"error_x\":{\"color\":\"rgb(36,36,36)\"},\"error_y\":{\"color\":\"rgb(36,36,36)\"},\"marker\":{\"line\":{\"color\":\"white\",\"width\":0.5},\"pattern\":{\"fillmode\":\"overlay\",\"size\":10,\"solidity\":0.2}},\"type\":\"bar\"}],\"carpet\":[{\"aaxis\":{\"endlinecolor\":\"rgb(36,36,36)\",\"gridcolor\":\"white\",\"linecolor\":\"white\",\"minorgridcolor\":\"white\",\"startlinecolor\":\"rgb(36,36,36)\"},\"baxis\":{\"endlinecolor\":\"rgb(36,36,36)\",\"gridcolor\":\"white\",\"linecolor\":\"white\",\"minorgridcolor\":\"white\",\"startlinecolor\":\"rgb(36,36,36)\"},\"type\":\"carpet\"}],\"choropleth\":[{\"colorbar\":{\"outlinewidth\":1,\"tickcolor\":\"rgb(36,36,36)\",\"ticks\":\"outside\"},\"type\":\"choropleth\"}],\"contourcarpet\":[{\"colorbar\":{\"outlinewidth\":1,\"tickcolor\":\"rgb(36,36,36)\",\"ticks\":\"outside\"},\"type\":\"contourcarpet\"}],\"contour\":[{\"colorbar\":{\"outlinewidth\":1,\"tickcolor\":\"rgb(36,36,36)\",\"ticks\":\"outside\"},\"colorscale\":[[0.0,\"#440154\"],[0.1111111111111111,\"#482878\"],[0.2222222222222222,\"#3e4989\"],[0.3333333333333333,\"#31688e\"],[0.4444444444444444,\"#26828e\"],[0.5555555555555556,\"#1f9e89\"],[0.6666666666666666,\"#35b779\"],[0.7777777777777778,\"#6ece58\"],[0.8888888888888888,\"#b5de2b\"],[1.0,\"#fde725\"]],\"type\":\"contour\"}],\"heatmapgl\":[{\"colorbar\":{\"outlinewidth\":1,\"tickcolor\":\"rgb(36,36,36)\",\"ticks\":\"outside\"},\"colorscale\":[[0.0,\"#440154\"],[0.1111111111111111,\"#482878\"],[0.2222222222222222,\"#3e4989\"],[0.3333333333333333,\"#31688e\"],[0.4444444444444444,\"#26828e\"],[0.5555555555555556,\"#1f9e89\"],[0.6666666666666666,\"#35b779\"],[0.7777777777777778,\"#6ece58\"],[0.8888888888888888,\"#b5de2b\"],[1.0,\"#fde725\"]],\"type\":\"heatmapgl\"}],\"heatmap\":[{\"colorbar\":{\"outlinewidth\":1,\"tickcolor\":\"rgb(36,36,36)\",\"ticks\":\"outside\"},\"colorscale\":[[0.0,\"#440154\"],[0.1111111111111111,\"#482878\"],[0.2222222222222222,\"#3e4989\"],[0.3333333333333333,\"#31688e\"],[0.4444444444444444,\"#26828e\"],[0.5555555555555556,\"#1f9e89\"],[0.6666666666666666,\"#35b779\"],[0.7777777777777778,\"#6ece58\"],[0.8888888888888888,\"#b5de2b\"],[1.0,\"#fde725\"]],\"type\":\"heatmap\"}],\"histogram2dcontour\":[{\"colorbar\":{\"outlinewidth\":1,\"tickcolor\":\"rgb(36,36,36)\",\"ticks\":\"outside\"},\"colorscale\":[[0.0,\"#440154\"],[0.1111111111111111,\"#482878\"],[0.2222222222222222,\"#3e4989\"],[0.3333333333333333,\"#31688e\"],[0.4444444444444444,\"#26828e\"],[0.5555555555555556,\"#1f9e89\"],[0.6666666666666666,\"#35b779\"],[0.7777777777777778,\"#6ece58\"],[0.8888888888888888,\"#b5de2b\"],[1.0,\"#fde725\"]],\"type\":\"histogram2dcontour\"}],\"histogram2d\":[{\"colorbar\":{\"outlinewidth\":1,\"tickcolor\":\"rgb(36,36,36)\",\"ticks\":\"outside\"},\"colorscale\":[[0.0,\"#440154\"],[0.1111111111111111,\"#482878\"],[0.2222222222222222,\"#3e4989\"],[0.3333333333333333,\"#31688e\"],[0.4444444444444444,\"#26828e\"],[0.5555555555555556,\"#1f9e89\"],[0.6666666666666666,\"#35b779\"],[0.7777777777777778,\"#6ece58\"],[0.8888888888888888,\"#b5de2b\"],[1.0,\"#fde725\"]],\"type\":\"histogram2d\"}],\"histogram\":[{\"marker\":{\"line\":{\"color\":\"white\",\"width\":0.6}},\"type\":\"histogram\"}],\"mesh3d\":[{\"colorbar\":{\"outlinewidth\":1,\"tickcolor\":\"rgb(36,36,36)\",\"ticks\":\"outside\"},\"type\":\"mesh3d\"}],\"parcoords\":[{\"line\":{\"colorbar\":{\"outlinewidth\":1,\"tickcolor\":\"rgb(36,36,36)\",\"ticks\":\"outside\"}},\"type\":\"parcoords\"}],\"pie\":[{\"automargin\":true,\"type\":\"pie\"}],\"scatter3d\":[{\"line\":{\"colorbar\":{\"outlinewidth\":1,\"tickcolor\":\"rgb(36,36,36)\",\"ticks\":\"outside\"}},\"marker\":{\"colorbar\":{\"outlinewidth\":1,\"tickcolor\":\"rgb(36,36,36)\",\"ticks\":\"outside\"}},\"type\":\"scatter3d\"}],\"scattercarpet\":[{\"marker\":{\"colorbar\":{\"outlinewidth\":1,\"tickcolor\":\"rgb(36,36,36)\",\"ticks\":\"outside\"}},\"type\":\"scattercarpet\"}],\"scattergeo\":[{\"marker\":{\"colorbar\":{\"outlinewidth\":1,\"tickcolor\":\"rgb(36,36,36)\",\"ticks\":\"outside\"}},\"type\":\"scattergeo\"}],\"scattergl\":[{\"marker\":{\"colorbar\":{\"outlinewidth\":1,\"tickcolor\":\"rgb(36,36,36)\",\"ticks\":\"outside\"}},\"type\":\"scattergl\"}],\"scattermapbox\":[{\"marker\":{\"colorbar\":{\"outlinewidth\":1,\"tickcolor\":\"rgb(36,36,36)\",\"ticks\":\"outside\"}},\"type\":\"scattermapbox\"}],\"scatterpolargl\":[{\"marker\":{\"colorbar\":{\"outlinewidth\":1,\"tickcolor\":\"rgb(36,36,36)\",\"ticks\":\"outside\"}},\"type\":\"scatterpolargl\"}],\"scatterpolar\":[{\"marker\":{\"colorbar\":{\"outlinewidth\":1,\"tickcolor\":\"rgb(36,36,36)\",\"ticks\":\"outside\"}},\"type\":\"scatterpolar\"}],\"scatter\":[{\"fillpattern\":{\"fillmode\":\"overlay\",\"size\":10,\"solidity\":0.2},\"type\":\"scatter\"}],\"scatterternary\":[{\"marker\":{\"colorbar\":{\"outlinewidth\":1,\"tickcolor\":\"rgb(36,36,36)\",\"ticks\":\"outside\"}},\"type\":\"scatterternary\"}],\"surface\":[{\"colorbar\":{\"outlinewidth\":1,\"tickcolor\":\"rgb(36,36,36)\",\"ticks\":\"outside\"},\"colorscale\":[[0.0,\"#440154\"],[0.1111111111111111,\"#482878\"],[0.2222222222222222,\"#3e4989\"],[0.3333333333333333,\"#31688e\"],[0.4444444444444444,\"#26828e\"],[0.5555555555555556,\"#1f9e89\"],[0.6666666666666666,\"#35b779\"],[0.7777777777777778,\"#6ece58\"],[0.8888888888888888,\"#b5de2b\"],[1.0,\"#fde725\"]],\"type\":\"surface\"}],\"table\":[{\"cells\":{\"fill\":{\"color\":\"rgb(237,237,237)\"},\"line\":{\"color\":\"white\"}},\"header\":{\"fill\":{\"color\":\"rgb(217,217,217)\"},\"line\":{\"color\":\"white\"}},\"type\":\"table\"}]},\"layout\":{\"annotationdefaults\":{\"arrowhead\":0,\"arrowwidth\":1},\"autotypenumbers\":\"strict\",\"coloraxis\":{\"colorbar\":{\"outlinewidth\":1,\"tickcolor\":\"rgb(36,36,36)\",\"ticks\":\"outside\"}},\"colorscale\":{\"diverging\":[[0.0,\"rgb(103,0,31)\"],[0.1,\"rgb(178,24,43)\"],[0.2,\"rgb(214,96,77)\"],[0.3,\"rgb(244,165,130)\"],[0.4,\"rgb(253,219,199)\"],[0.5,\"rgb(247,247,247)\"],[0.6,\"rgb(209,229,240)\"],[0.7,\"rgb(146,197,222)\"],[0.8,\"rgb(67,147,195)\"],[0.9,\"rgb(33,102,172)\"],[1.0,\"rgb(5,48,97)\"]],\"sequential\":[[0.0,\"#440154\"],[0.1111111111111111,\"#482878\"],[0.2222222222222222,\"#3e4989\"],[0.3333333333333333,\"#31688e\"],[0.4444444444444444,\"#26828e\"],[0.5555555555555556,\"#1f9e89\"],[0.6666666666666666,\"#35b779\"],[0.7777777777777778,\"#6ece58\"],[0.8888888888888888,\"#b5de2b\"],[1.0,\"#fde725\"]],\"sequentialminus\":[[0.0,\"#440154\"],[0.1111111111111111,\"#482878\"],[0.2222222222222222,\"#3e4989\"],[0.3333333333333333,\"#31688e\"],[0.4444444444444444,\"#26828e\"],[0.5555555555555556,\"#1f9e89\"],[0.6666666666666666,\"#35b779\"],[0.7777777777777778,\"#6ece58\"],[0.8888888888888888,\"#b5de2b\"],[1.0,\"#fde725\"]]},\"colorway\":[\"#1F77B4\",\"#FF7F0E\",\"#2CA02C\",\"#D62728\",\"#9467BD\",\"#8C564B\",\"#E377C2\",\"#7F7F7F\",\"#BCBD22\",\"#17BECF\"],\"font\":{\"color\":\"rgb(36,36,36)\"},\"geo\":{\"bgcolor\":\"white\",\"lakecolor\":\"white\",\"landcolor\":\"white\",\"showlakes\":true,\"showland\":true,\"subunitcolor\":\"white\"},\"hoverlabel\":{\"align\":\"left\"},\"hovermode\":\"closest\",\"mapbox\":{\"style\":\"light\"},\"paper_bgcolor\":\"white\",\"plot_bgcolor\":\"white\",\"polar\":{\"angularaxis\":{\"gridcolor\":\"rgb(232,232,232)\",\"linecolor\":\"rgb(36,36,36)\",\"showgrid\":false,\"showline\":true,\"ticks\":\"outside\"},\"bgcolor\":\"white\",\"radialaxis\":{\"gridcolor\":\"rgb(232,232,232)\",\"linecolor\":\"rgb(36,36,36)\",\"showgrid\":false,\"showline\":true,\"ticks\":\"outside\"}},\"scene\":{\"xaxis\":{\"backgroundcolor\":\"white\",\"gridcolor\":\"rgb(232,232,232)\",\"gridwidth\":2,\"linecolor\":\"rgb(36,36,36)\",\"showbackground\":true,\"showgrid\":false,\"showline\":true,\"ticks\":\"outside\",\"zeroline\":false,\"zerolinecolor\":\"rgb(36,36,36)\"},\"yaxis\":{\"backgroundcolor\":\"white\",\"gridcolor\":\"rgb(232,232,232)\",\"gridwidth\":2,\"linecolor\":\"rgb(36,36,36)\",\"showbackground\":true,\"showgrid\":false,\"showline\":true,\"ticks\":\"outside\",\"zeroline\":false,\"zerolinecolor\":\"rgb(36,36,36)\"},\"zaxis\":{\"backgroundcolor\":\"white\",\"gridcolor\":\"rgb(232,232,232)\",\"gridwidth\":2,\"linecolor\":\"rgb(36,36,36)\",\"showbackground\":true,\"showgrid\":false,\"showline\":true,\"ticks\":\"outside\",\"zeroline\":false,\"zerolinecolor\":\"rgb(36,36,36)\"}},\"shapedefaults\":{\"fillcolor\":\"black\",\"line\":{\"width\":0},\"opacity\":0.3},\"ternary\":{\"aaxis\":{\"gridcolor\":\"rgb(232,232,232)\",\"linecolor\":\"rgb(36,36,36)\",\"showgrid\":false,\"showline\":true,\"ticks\":\"outside\"},\"baxis\":{\"gridcolor\":\"rgb(232,232,232)\",\"linecolor\":\"rgb(36,36,36)\",\"showgrid\":false,\"showline\":true,\"ticks\":\"outside\"},\"bgcolor\":\"white\",\"caxis\":{\"gridcolor\":\"rgb(232,232,232)\",\"linecolor\":\"rgb(36,36,36)\",\"showgrid\":false,\"showline\":true,\"ticks\":\"outside\"}},\"title\":{\"x\":0.05},\"xaxis\":{\"automargin\":true,\"gridcolor\":\"rgb(232,232,232)\",\"linecolor\":\"rgb(36,36,36)\",\"showgrid\":false,\"showline\":true,\"ticks\":\"outside\",\"title\":{\"standoff\":15},\"zeroline\":false,\"zerolinecolor\":\"rgb(36,36,36)\"},\"yaxis\":{\"automargin\":true,\"gridcolor\":\"rgb(232,232,232)\",\"linecolor\":\"rgb(36,36,36)\",\"showgrid\":false,\"showline\":true,\"ticks\":\"outside\",\"title\":{\"standoff\":15},\"zeroline\":false,\"zerolinecolor\":\"rgb(36,36,36)\"}}},\"xaxis\":{\"showgrid\":true},\"yaxis\":{\"showgrid\":true,\"title\":{\"text\":\"Frequency\"}},\"title\":{\"font\":{\"size\":22,\"color\":\"Black\"},\"text\":\"\\u003cb\\u003eTopics over Time\\u003c\\u002fb\\u003e\",\"y\":0.95,\"x\":0.4,\"xanchor\":\"center\",\"yanchor\":\"top\"},\"hoverlabel\":{\"font\":{\"size\":16,\"family\":\"Rockwell\"},\"bgcolor\":\"white\"},\"width\":1250,\"height\":450,\"legend\":{\"title\":{\"text\":\"\\u003cb\\u003eGlobal Topic Representation\"}}},                        {\"responsive\": true}                    ).then(function(){\n",
       "                            \n",
       "var gd = document.getElementById('771a2292-22ed-4e29-ba74-faf27ed10a0f');\n",
       "var x = new MutationObserver(function (mutations, observer) {{\n",
       "        var display = window.getComputedStyle(gd).display;\n",
       "        if (!display || display === 'none') {{\n",
       "            console.log([gd, 'removed!']);\n",
       "            Plotly.purge(gd);\n",
       "            observer.disconnect();\n",
       "        }}\n",
       "}});\n",
       "\n",
       "// Listen for the removal of the full notebook cells\n",
       "var notebookContainer = gd.closest('#notebook-container');\n",
       "if (notebookContainer) {{\n",
       "    x.observe(notebookContainer, {childList: true});\n",
       "}}\n",
       "\n",
       "// Listen for the clearing of the current output cell\n",
       "var outputEl = gd.closest('.output');\n",
       "if (outputEl) {{\n",
       "    x.observe(outputEl, {childList: true});\n",
       "}}\n",
       "\n",
       "                        })                };                });            </script>        </div>"
      ]
     },
     "metadata": {},
     "output_type": "display_data"
    }
   ],
   "source": [
    "#상위 5개 토픽\n",
    "topic_model.visualize_topics_over_time(topics_over_time, top_n_topics=5)"
   ]
  },
  {
   "cell_type": "markdown",
   "id": "d9d6d778",
   "metadata": {
    "id": "d9d6d778"
   },
   "source": [
    "등락이 크지 않고, 꾸준히 상승하고 있는 ai로 테마를 선정"
   ]
  },
  {
   "cell_type": "code",
   "execution_count": 139,
   "id": "5707cb22",
   "metadata": {
    "id": "5707cb22"
   },
   "outputs": [],
   "source": [
    "#모델 저장\n",
    "topic_model.save(os.path.join(PATH, \"NH_topics_model\"))"
   ]
  },
  {
   "cell_type": "code",
   "execution_count": 140,
   "id": "423d4800",
   "metadata": {
    "colab": {
     "base_uri": "https://localhost:8080/"
    },
    "id": "423d4800",
    "outputId": "949a6c04-dce2-4937-aa50-caff267395cb"
   },
   "outputs": [
    {
     "name": "stdout",
     "output_type": "stream",
     "text": [
      "['pfizer', 'vaccine', 'pharmacy', 'medication', 'obesity', 'novo', 'cvs', 'telegram', 'marketplace', 'covid', 'bric', 'russia', 'ukraine', 'ukraines', 'arabia', 'saudi arabia', 'moscow', 'president vladimir', 'china russia', 'war ukraine']\n"
     ]
    }
   ],
   "source": [
    "print(keyword)"
   ]
  },
  {
   "cell_type": "code",
   "execution_count": 73,
   "id": "bf9a0e9f",
   "metadata": {
    "id": "bf9a0e9f"
   },
   "outputs": [],
   "source": [
    "# 유의미한 키워드만 추출\n",
    "best_keywords = ['ai', 'google', 'chatgpt', 'chatbot', 'openai', 'czech', 'ai model', 'language model', 'generative ai', 'aws', 'gpu', 'amd', 'processing unit', 'vmware', 'graphic processing', 'computing', 'ai model', 'micro device', 'advanced micro']"
   ]
  },
  {
   "cell_type": "markdown",
   "id": "7f15f6eb",
   "metadata": {
    "id": "7f15f6eb"
   },
   "source": [
    "# 5. 언급량이 많은 토픽 기반 기업 찾기"
   ]
  },
  {
   "cell_type": "markdown",
   "id": "7cbf3dbd",
   "metadata": {
    "id": "7cbf3dbd"
   },
   "source": [
    "## 데이터 전처리(복수형, 동의어)"
   ]
  },
  {
   "cell_type": "code",
   "execution_count": 70,
   "id": "cf8ac75b",
   "metadata": {
    "colab": {
     "base_uri": "https://localhost:8080/"
    },
    "id": "cf8ac75b",
    "outputId": "6726add7-90fe-43b9-ab8f-c1ea27d3852d"
   },
   "outputs": [
    {
     "name": "stdout",
     "output_type": "stream",
     "text": [
      "Collecting inflect\n",
      "  Downloading inflect-6.0.5-py3-none-any.whl.metadata (21 kB)\n",
      "Requirement already satisfied: pydantic<2,>=1.9.1 in /opt/conda/lib/python3.7/site-packages (from inflect) (1.10.13)\n",
      "Requirement already satisfied: typing-extensions>=4.2.0 in /opt/conda/lib/python3.7/site-packages (from pydantic<2,>=1.9.1->inflect) (4.2.0)\n",
      "Downloading inflect-6.0.5-py3-none-any.whl (34 kB)\n",
      "Installing collected packages: inflect\n",
      "Successfully installed inflect-6.0.5\n",
      "Requirement already satisfied: nltk in /opt/conda/lib/python3.7/site-packages (3.8.1)\n",
      "Requirement already satisfied: click in /opt/conda/lib/python3.7/site-packages (from nltk) (8.1.3)\n",
      "Requirement already satisfied: joblib in /opt/conda/lib/python3.7/site-packages (from nltk) (1.1.0)\n",
      "Requirement already satisfied: regex>=2021.8.3 in /opt/conda/lib/python3.7/site-packages (from nltk) (2023.10.3)\n",
      "Requirement already satisfied: tqdm in /opt/conda/lib/python3.7/site-packages (from nltk) (4.64.0)\n",
      "Requirement already satisfied: importlib-metadata in /opt/conda/lib/python3.7/site-packages (from click->nltk) (4.13.0)\n",
      "Requirement already satisfied: zipp>=0.5 in /opt/conda/lib/python3.7/site-packages (from importlib-metadata->click->nltk) (3.8.0)\n",
      "Requirement already satisfied: typing-extensions>=3.6.4 in /opt/conda/lib/python3.7/site-packages (from importlib-metadata->click->nltk) (4.2.0)\n"
     ]
    }
   ],
   "source": [
    "!pip install inflect\n",
    "!pip install nltk"
   ]
  },
  {
   "cell_type": "code",
   "execution_count": 71,
   "id": "e0d9bf90",
   "metadata": {
    "colab": {
     "base_uri": "https://localhost:8080/"
    },
    "id": "e0d9bf90",
    "outputId": "b686ca70-cdc5-45b3-86bf-0e7de1188a15"
   },
   "outputs": [
    {
     "name": "stderr",
     "output_type": "stream",
     "text": [
      "[nltk_data] Downloading package punkt to /home/notebook/nltk_data...\n",
      "[nltk_data]   Unzipping tokenizers/punkt.zip.\n",
      "[nltk_data] Downloading package wordnet to /home/notebook/nltk_data...\n"
     ]
    },
    {
     "data": {
      "text/plain": [
       "True"
      ]
     },
     "execution_count": 71,
     "metadata": {},
     "output_type": "execute_result"
    }
   ],
   "source": [
    "import pandas as pd\n",
    "from nltk.corpus import wordnet as wn\n",
    "import nltk\n",
    "import inflect\n",
    "\n",
    "\n",
    "nltk.download('punkt')\n",
    "nltk.download('wordnet')"
   ]
  },
  {
   "cell_type": "code",
   "execution_count": 74,
   "id": "915a6304",
   "metadata": {
    "colab": {
     "base_uri": "https://localhost:8080/"
    },
    "id": "915a6304",
    "outputId": "6fcb0a09-b66c-42bc-b30d-6b8d8395e6dc"
   },
   "outputs": [
    {
     "name": "stdout",
     "output_type": "stream",
     "text": [
      "['ai', 'google', 'chatgpt', 'chatbot', 'openai', 'czech', 'ai model', 'language model', 'generative ai', 'aws', 'gpu', 'amd', 'processing unit', 'vmware', 'graphic processing', 'computing', 'ai model', 'micro device', 'advanced micro']\n"
     ]
    }
   ],
   "source": [
    "print(best_keywords)"
   ]
  },
  {
   "cell_type": "code",
   "execution_count": 75,
   "id": "87c5cb05",
   "metadata": {
    "colab": {
     "base_uri": "https://localhost:8080/"
    },
    "id": "87c5cb05",
    "outputId": "13be5b1a-72b3-414b-bbf7-561476cec040"
   },
   "outputs": [
    {
     "name": "stdout",
     "output_type": "stream",
     "text": [
      "['ai', 'advanced micro', 'graphic processing', 'ai model', 'Google', 'processing unit', 'openai', 'vmware', 'AMD', 'language model', 'micro device', 'aws', 'chatbot', 'czech', 'generative ai', 'google', 'gpu', 'amd', 'Czech', 'computing', 'chatgpt', 'AI']\n"
     ]
    }
   ],
   "source": [
    "combined_list = []\n",
    "\n",
    "for word in best_keywords:\n",
    "    lower_word = word.lower()\n",
    "    synsets = wn.synsets(lower_word)\n",
    "    if synsets:\n",
    "        first_synset = synsets[0]\n",
    "        combined_list.extend(first_synset.lemma_names())\n",
    "    combined_list.append(word)\n",
    "\n",
    "# 결과 리스트 출력\n",
    "combined_list = list(set([word for word in combined_list if \"_\" not in word]))\n",
    "print(combined_list)"
   ]
  },
  {
   "cell_type": "code",
   "execution_count": 76,
   "id": "ea49b946",
   "metadata": {
    "id": "ea49b946"
   },
   "outputs": [],
   "source": [
    "#복수형 생성\n",
    "def singular_to_plural(word):\n",
    "    p = inflect.engine()\n",
    "    return p.plural(word)\n",
    "\n",
    "new_list = []\n",
    "\n",
    "for word in combined_list:\n",
    "    new_word = singular_to_plural(word)\n",
    "    new_list.append(new_word)\n",
    "\n",
    "all_list = list(set(combined_list + new_list))"
   ]
  },
  {
   "cell_type": "code",
   "execution_count": 77,
   "id": "d2ee272e",
   "metadata": {
    "colab": {
     "base_uri": "https://localhost:8080/"
    },
    "id": "d2ee272e",
    "outputId": "768a2178-d564-4b20-f82b-8f601307681b"
   },
   "outputs": [
    {
     "name": "stdout",
     "output_type": "stream",
     "text": [
      "['ai', 'advanced micro', 'AMDS', 'computings', 'graphic processing', 'ai model', 'advanced micros', 'AIS', 'vmwares', 'processing unit', 'openai', 'amds', 'vmware', 'AMD', 'openais', 'language model', 'micro devices', 'processing units', 'chatbots', 'AI', 'chatgpts', 'micro device', 'aws', 'chatbot', 'aw', 'czech', 'language models', 'generative ai', 'Czechs', 'Googles', 'google', 'gpu', 'amd', 'graphic processings', 'googles', 'generative ais', 'Czech', 'computing', 'czechs', 'chatgpt', 'ais', 'ai models', 'gpus', 'Google']\n"
     ]
    }
   ],
   "source": [
    "# 최종 키워드\n",
    "print(all_list)"
   ]
  },
  {
   "cell_type": "markdown",
   "id": "75ef0859",
   "metadata": {
    "id": "75ef0859"
   },
   "source": [
    "## 토픽 키워드와 연관된 기업 찾기"
   ]
  },
  {
   "cell_type": "code",
   "execution_count": 78,
   "id": "5adc149e",
   "metadata": {
    "id": "5adc149e"
   },
   "outputs": [],
   "source": [
    "# 기업 description 불러오기(yfinance crawling)\n",
    "stock_info_df = pd.read_csv(os.path.join(PATH, 'stock_description.csv'))"
   ]
  },
  {
   "cell_type": "code",
   "execution_count": 79,
   "id": "11dfc770",
   "metadata": {
    "id": "11dfc770"
   },
   "outputs": [],
   "source": [
    "# 토픽 관련 기업 찾기\n",
    "def retrieve_companies_by_keywords(keywords):\n",
    "    keywords_set = set([word.lower() for word in keywords])\n",
    "\n",
    "    # 기업 리스트\n",
    "    cp = []\n",
    "\n",
    "    for i, row in stock_info_df.iterrows():\n",
    "        description = row['description']\n",
    "\n",
    "        #단어 추출\n",
    "        if isinstance(description, str):\n",
    "            description_words = set(description.replace(\",\", '').lower().replace('.', '').split(\" \"))\n",
    "\n",
    "            # 토픽 키워드와 description이 겹치는 기업 찾기\n",
    "            if description_words & keywords_set:\n",
    "                cp.append(row['tck_iem_cd'])\n",
    "\n",
    "    return list(set(cp))"
   ]
  },
  {
   "cell_type": "code",
   "execution_count": 80,
   "id": "d14ac3b4",
   "metadata": {
    "colab": {
     "base_uri": "https://localhost:8080/"
    },
    "id": "d14ac3b4",
    "outputId": "887590a1-1443-4c0e-d61b-336405339982"
   },
   "outputs": [
    {
     "data": {
      "text/plain": [
       "100"
      ]
     },
     "execution_count": 80,
     "metadata": {},
     "output_type": "execute_result"
    }
   ],
   "source": [
    "len(retrieve_companies_by_keywords(all_list))"
   ]
  },
  {
   "cell_type": "code",
   "execution_count": 81,
   "id": "a35cb05a",
   "metadata": {
    "id": "a35cb05a"
   },
   "outputs": [],
   "source": [
    "# 키워드 언급횟수 count\n",
    "def count_companies_by_keywords(keywords):\n",
    "    keywords_set = set([word.lower() for word in keywords])\n",
    "\n",
    "    # 키워드 언급횟수 딕셔너리 생성\n",
    "    keyword_counts = {word: 0 for word in keywords_set}\n",
    "\n",
    "    for i, row in stock_info_df.iterrows():\n",
    "        description = row['description']\n",
    "\n",
    "        if isinstance(description, str):\n",
    "            description_words = set(description.replace(\",\", '').lower().replace('.', '').split(\" \"))\n",
    "\n",
    "            # 키워드 횟수 카운트\n",
    "            for word in keywords_set:\n",
    "                if word in description_words:\n",
    "                    keyword_counts[word] += 1\n",
    "\n",
    "    for keyword, count in keyword_counts.items():\n",
    "        print(f\"{keyword}: {count} companies\")"
   ]
  },
  {
   "cell_type": "code",
   "execution_count": 82,
   "id": "7090bb09",
   "metadata": {
    "colab": {
     "base_uri": "https://localhost:8080/"
    },
    "id": "7090bb09",
    "outputId": "569214b7-f7fb-41ab-8b83-04cba3a8c65a"
   },
   "outputs": [
    {
     "name": "stdout",
     "output_type": "stream",
     "text": [
      "ai: 40 companies\n",
      "advanced micro: 0 companies\n",
      "computings: 0 companies\n",
      "graphic processing: 0 companies\n",
      "ai model: 0 companies\n",
      "advanced micros: 0 companies\n",
      "vmwares: 0 companies\n",
      "processing unit: 0 companies\n",
      "openai: 0 companies\n",
      "amds: 0 companies\n",
      "vmware: 0 companies\n",
      "openais: 0 companies\n",
      "language model: 0 companies\n",
      "micro devices: 0 companies\n",
      "processing units: 0 companies\n",
      "chatbots: 0 companies\n",
      "chatgpts: 0 companies\n",
      "micro device: 0 companies\n",
      "aws: 2 companies\n",
      "chatbot: 0 companies\n",
      "aw: 0 companies\n",
      "czech: 4 companies\n",
      "language models: 0 companies\n",
      "generative ai: 0 companies\n",
      "google: 9 companies\n",
      "gpu: 1 companies\n",
      "amd: 3 companies\n",
      "googles: 0 companies\n",
      "graphic processings: 0 companies\n",
      "generative ais: 0 companies\n",
      "computing: 52 companies\n",
      "czechs: 0 companies\n",
      "chatgpt: 1 companies\n",
      "ais: 0 companies\n",
      "ai models: 0 companies\n",
      "gpus: 1 companies\n"
     ]
    }
   ],
   "source": [
    "count_companies_by_keywords(all_list)"
   ]
  },
  {
   "cell_type": "code",
   "execution_count": 83,
   "id": "72ab04e2",
   "metadata": {
    "id": "72ab04e2"
   },
   "outputs": [],
   "source": [
    "cp_list = retrieve_companies_by_keywords(all_list)"
   ]
  },
  {
   "cell_type": "code",
   "execution_count": 84,
   "id": "7886a068",
   "metadata": {
    "colab": {
     "base_uri": "https://localhost:8080/"
    },
    "id": "7886a068",
    "outputId": "1ecfcd00-7515-4030-fd0c-b181edf2aa9d"
   },
   "outputs": [
    {
     "name": "stdout",
     "output_type": "stream",
     "text": [
      "['QMCO', 'NEWT', 'KTOS', 'NTGR', 'CDNS', 'ZBRA', 'NUWE', 'RGTI', 'KC', 'OCGN', 'QUBT', 'VUZI', 'CTSH', 'GOOG', 'TTMI', 'EXAI', 'CNXA', 'GRRR', 'WETG', 'LNTH', 'NICE', 'BRQS', 'MCLD', 'HUT', 'NTAP', 'PRST', 'NNOX', 'ECX', 'KOD', 'AUUD', 'MSFT', 'CRNC', 'INTA', 'RBBN', 'NSIT', 'THRM', 'LVOX', 'AMD', 'VERI', 'SOUN', 'ALTR', 'AOSL', 'FWRG', 'AMPG', 'APLD', 'PERI', 'SMCI', 'XRX', 'MCHP', 'GFAI', 'CCCS', 'CSCO', 'MPWR', 'LIZI', 'STCN', 'MLGO', 'VOD', 'XNET', 'DRS', 'FFIV', 'LWLG', 'BELFB', 'KOSS', 'ABSI', 'RTC', 'TROO', 'CD', 'AIMD', 'LKCO', 'DIOD', 'RIOT', 'INTC', 'MARK', 'SANM', 'PALT', 'OTEX', 'REKR', 'VRNT', 'AMKR', 'POAI', 'RNLX', 'GLMD', 'API', 'PLTK', 'CEVA', 'AKAM', 'LSCC', 'SCSC', 'AEHR', 'AVPT', 'EGIO', 'ANSS', 'TASK', 'SASI', 'NVDA', 'WDC', 'SGH', 'LKQ', 'RDFN', 'TXN']\n"
     ]
    }
   ],
   "source": [
    "#토픽과 관련있는 기업 추출\n",
    "print(cp_list)"
   ]
  },
  {
   "cell_type": "code",
   "execution_count": 155,
   "id": "Rl8SVKB7Vfhf",
   "metadata": {
    "colab": {
     "base_uri": "https://localhost:8080/"
    },
    "id": "Rl8SVKB7Vfhf",
    "outputId": "769bd967-dc8a-4de5-9f19-e14debc5e570"
   },
   "outputs": [
    {
     "data": {
      "text/plain": [
       "100"
      ]
     },
     "execution_count": 155,
     "metadata": {},
     "output_type": "execute_result"
    }
   ],
   "source": [
    "len(cp_list)"
   ]
  }
 ],
 "metadata": {
  "kernelspec": {
   "display_name": "Python 3 (ipykernel)",
   "language": "python",
   "name": "python3"
  },
  "language_info": {
   "codemirror_mode": {
    "name": "ipython",
    "version": 3
   },
   "file_extension": ".py",
   "mimetype": "text/x-python",
   "name": "python",
   "nbconvert_exporter": "python",
   "pygments_lexer": "ipython3",
   "version": "3.11.4"
  },
  "vscode": {
   "interpreter": {
    "hash": "ff4b1fca65a764b45acb559e482afe389d289dd599b9f8c5fd12ff5c2ea46a65"
   }
  }
 },
 "nbformat": 4,
 "nbformat_minor": 5
}
